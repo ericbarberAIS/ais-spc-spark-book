{
 "cells": [
  {
   "cell_type": "markdown",
   "metadata": {
    "application/vnd.databricks.v1+cell": {
     "cellMetadata": {
      "byteLimit": 2048000,
      "rowLimit": 10000
     },
     "inputWidgets": {},
     "nuid": "5395dade-f2df-4b56-966b-751f3204dc73",
     "showTitle": false,
     "title": ""
    }
   },
   "source": [
    "# Hands On Example\n",
    "---\n",
    "## Till Shop Example Description\n",
    "In this scenario, we explore a till shop's daily operations, focusing on various aspects like order processing times, customer satisfaction, and sales data. This till shop serves as a microcosm for understanding how small businesses operate and manage quality control, efficiency, and customer satisfaction. By collecting data on how long it takes to process orders, how satisfied customers are with their service, and how much revenue is generated, we can apply statistical methods to analyze and improve the till shop's performance. Objective\n",
    "\n",
    "The primary aim is to teach users about Statistical Process Control (SPC) using a relatable and easily understood example. SPC is a method of quality control which employs statistical methods to monitor and control a process. This helps ensure the process operates at its fullest potential to produce conforming product with minimal waste (rework or scrap). SPC can identify when a process is behaving as expected or when it deviates significantly from this state, signaling that there might be a particular cause of variation that needs to be addressed.  \n",
    "\n",
    "---\n",
    "## Goals in the Till Shop Context\n",
    "- Understand Process Behavior: By analyzing order processing times, we can understand how efficiently the till shop operates on a daily basis. SPC charts help in identifying trends, shifts, or any outliers in the process.\n",
    "\n",
    "- Improve Customer Satisfaction: Monitoring customer feedback through SPC charts enables us to pinpoint areas of improvement. It can reveal whether changes in the process positively or negatively affect customer satisfaction.\n",
    "\n",
    "- Financial Performance Monitoring: Sales data analysis through SPC can highlight patterns, such as peak hours or days and the effectiveness of promotions, guiding better business decisions.\n",
    "\n",
    "- Quality Control: Through continuous monitoring of these metrics, the till shop can maintain high standards of service quality, ensuring that customers receive consistent and satisfactory service.\n",
    "---\n",
    "## Teaching Approach\n",
    "Using the till shop example, we can teach users how to apply SPC charts, such as X-bar and R charts for order processing times, P charts for customer satisfaction, and C charts for defect tracking (e.g., incorrect orders). This practical application helps users grasp the principles of SPC in a familiar setting, making the learning process more intuitive and engaging. By analyzing mock data generated and expanded upon with each \"click,\" users learn how to interpret these charts, identify signals within the data, and make informed decisions to improve the process.\n",
    "\n",
    "This hands-on approach demystifies statistical methods and provides valuable insights into how small changes can significantly impact a business's overall performance and customer satisfaction."
   ]
  },
  {
   "cell_type": "markdown",
   "metadata": {
    "application/vnd.databricks.v1+cell": {
     "cellMetadata": {
      "byteLimit": 2048000,
      "rowLimit": 10000
     },
     "inputWidgets": {},
     "nuid": "33a206c0-e03d-49b7-a1a5-eda330bc076f",
     "showTitle": false,
     "title": ""
    }
   },
   "source": [
    "##Mock Data"
   ]
  },
  {
   "cell_type": "code",
   "execution_count": 0,
   "metadata": {
    "application/vnd.databricks.v1+cell": {
     "cellMetadata": {
      "byteLimit": 2048000,
      "rowLimit": 10000
     },
     "inputWidgets": {},
     "nuid": "cefa74ca-3b83-475d-817f-91047946df59",
     "showTitle": false,
     "title": ""
    }
   },
   "outputs": [],
   "source": [
    "from pyspark.sql import SparkSession\n",
    "from pyspark.sql.types import StructType, StructField, DateType, StringType, FloatType, BooleanType, DoubleType, TimestampType\n",
    "from pyspark.sql.functions import lit, rand, randn, when\n",
    "from datetime import datetime, timedelta\n",
    "\n",
    "import os\n",
    "import numpy as np\n",
    "np.random.seed(42)\n",
    "\n",
    "\n",
    "# Function to generate data\n",
    "def generate_data(existing_df, num_records=100, start_datetime=datetime.now()):\n",
    "    \"\"\"\n",
    "    Generate simulated data for a till shop.\n",
    "    \"\"\"\n",
    "    # Generate timestamps\n",
    "    time_increments = np.random.normal(loc=5, scale=1, size=num_records).clip(min=1)\n",
    "    timestamps = [start_datetime + timedelta(minutes=np.sum(time_increments[:i])) for i in range(1, num_records + 1)]\n",
    "\n",
    "    # Order processing times (normally distributed around 5 minutes with a standard deviation of 2)\n",
    "    order_processing_times = np.random.normal(loc=5, scale=2, size=num_records).clip(min=0)  # Ensure no negative times\n",
    "    order_processing_times = order_processing_times.tolist()\n",
    "    \n",
    "    # Generate customer satisfaction levels\n",
    "    customer_satisfaction_choices = ['Very Satisfied', 'Satisfied', 'Neutral', 'Unsatisfied', 'Very Unsatisfied']\n",
    "    customer_satisfaction = np.random.choice(customer_satisfaction_choices, size=num_records).tolist()\n",
    "    \n",
    "    # Generate sales amounts and round them\n",
    "    sales_amount = np.round(np.random.uniform(3, 20, size=num_records), 2)\n",
    "    sales_amount = sales_amount.tolist()  # Convert to Python float list\n",
    "    \n",
    "    # Generate correctness of orders\n",
    "    order_correct = np.random.choice([True, False], p=[0.9, 0.1], size=num_records)\n",
    "    order_correct = list(map(bool, order_correct))\n",
    "    \n",
    "    # Prepare data for DataFrame creation\n",
    "    data = list(zip(timestamps, customer_satisfaction, sales_amount, order_correct, order_processing_times))\n",
    "    \n",
    "    # Define schema\n",
    "    schema = StructType([\n",
    "        StructField(\"DateTime\", TimestampType(), True),\n",
    "        StructField(\"Customer Satisfaction\", StringType(), True),\n",
    "        StructField(\"Sales Amount ($)\", FloatType(), True),\n",
    "        StructField(\"Order Correct\", BooleanType(), True),\n",
    "        StructField(\"Order Processing Time (mins)\", DoubleType(), True)\n",
    "    ])\n",
    "    \n",
    "    # Create a DataFrame from the generated data\n",
    "    new_data = spark.createDataFrame(data, schema=schema)\n",
    "    \n",
    "    # If there's existing data, append the new data\n",
    "    if existing_df is not None and not existing_df.rdd.isEmpty():\n",
    "        updated_df = existing_df.union(new_data)\n",
    "    else:\n",
    "        updated_df = new_data\n",
    "    \n",
    "    return updated_df\n",
    "\n",
    "# Initialize Spark Session\n",
    "spark = SparkSession.builder.appName(\"TillShopDataGeneration\").getOrCreate()\n",
    "\n",
    "# Define the schema of the DataFrame\n",
    "schema = StructType([\n",
    "    StructField(\"DateTime\", DateType(), True),\n",
    "    StructField(\"Order Processing Time (mins)\", FloatType(), True),\n",
    "    StructField(\"Customer Satisfaction\", StringType(), True),\n",
    "    StructField(\"Sales Amount ($)\", FloatType(), True),\n",
    "    StructField(\"Order Correct\", StringType(), True)\n",
    "])\n",
    "\n",
    "# Create an empty DataFrame with the defined schema\n",
    "# This is your starting point and can be used as input to the generate_data function\n",
    "till_df = spark.createDataFrame(spark.sparkContext.emptyRDD(), schema)\n",
    "\n",
    "# Example: Assuming existing_df is your existing PySpark DataFrame\n",
    "till_df = generate_data(existing_df=None, num_records=100, start_datetime=datetime.now())"
   ]
  },
  {
   "cell_type": "markdown",
   "metadata": {
    "application/vnd.databricks.v1+cell": {
     "cellMetadata": {
      "byteLimit": 2048000,
      "rowLimit": 10000
     },
     "inputWidgets": {},
     "nuid": "de5cb110-0bc7-4333-8db1-87f594e0cde5",
     "showTitle": false,
     "title": ""
    }
   },
   "source": [
    "# Line Chart\n",
    "Below, I'll outline the code for generating three separate line charts in a Databricks notebook, one for each of the specified metrics: Order Processing Time (mins), Sales Amount ($), and Order Correct percentage over time. Each section of code is meant to be run in its own cell within a Databricks notebook.\n"
   ]
  },
  {
   "cell_type": "markdown",
   "metadata": {
    "application/vnd.databricks.v1+cell": {
     "cellMetadata": {
      "byteLimit": 2048000,
      "rowLimit": 10000
     },
     "inputWidgets": {},
     "nuid": "beab0e2f-f8a5-4472-b75e-2532148b412e",
     "showTitle": false,
     "title": ""
    }
   },
   "source": [
    "\n",
    "### 1. Order Processing Time (mins)\n",
    "This cell will calculate the average order processing time per day."
   ]
  },
  {
   "cell_type": "code",
   "execution_count": 0,
   "metadata": {
    "application/vnd.databricks.v1+cell": {
     "cellMetadata": {
      "byteLimit": 2048000,
      "rowLimit": 10000
     },
     "inputWidgets": {},
     "nuid": "40a1e702-d488-4200-a5a7-36bc43e12cf4",
     "showTitle": false,
     "title": ""
    }
   },
   "outputs": [
    {
     "output_type": "display_data",
     "data": {
      "text/html": [
       "<style scoped>\n",
       "  .table-result-container {\n",
       "    max-height: 300px;\n",
       "    overflow: auto;\n",
       "  }\n",
       "  table, th, td {\n",
       "    border: 1px solid black;\n",
       "    border-collapse: collapse;\n",
       "  }\n",
       "  th, td {\n",
       "    padding: 5px;\n",
       "  }\n",
       "  th {\n",
       "    text-align: left;\n",
       "  }\n",
       "</style><div class='table-result-container'><table class='table-result'><thead style='background-color: white'><tr><th>DateTime</th><th>avg(Order Processing Time (mins))</th></tr></thead><tbody><tr><td>2024-02-29T20:13:49.590+0000</td><td>2.1692585158991715</td></tr><tr><td>2024-02-29T20:18:41.294+0000</td><td>4.158709354469282</td></tr><tr><td>2024-02-29T20:24:20.155+0000</td><td>4.314570966946461</td></tr><tr><td>2024-02-29T20:30:51.537+0000</td><td>3.395445461556762</td></tr><tr><td>2024-02-29T20:35:37.488+0000</td><td>4.677428576667982</td></tr><tr><td>2024-02-29T20:40:23.440+0000</td><td>5.8081017136290765</td></tr><tr><td>2024-02-29T20:46:58.192+0000</td><td>8.77237180242106</td></tr><tr><td>2024-02-29T20:52:44.239+0000</td><td>5.349155625663678</td></tr><tr><td>2024-02-29T20:57:16.070+0000</td><td>5.515100781445529</td></tr><tr><td>2024-02-29T21:02:48.624+0000</td><td>4.851108168467666</td></tr><tr><td>2024-02-29T21:07:20.819+0000</td><td>1.162457569401917</td></tr><tr><td>2024-02-29T21:11:52.875+0000</td><td>4.946972249101567</td></tr><tr><td>2024-02-29T21:17:07.393+0000</td><td>5.120460419882053</td></tr><tr><td>2024-02-29T21:20:12.596+0000</td><td>9.926484224970572</td></tr><tr><td>2024-02-29T21:23:29.101+0000</td><td>4.615278070437755</td></tr><tr><td>2024-02-29T21:27:55.363+0000</td><td>5.603094684667225</td></tr><tr><td>2024-02-29T21:31:54.594+0000</td><td>4.9305764605895135</td></tr><tr><td>2024-02-29T21:37:13.448+0000</td><td>2.662643924760936</td></tr><tr><td>2024-02-29T21:41:18.967+0000</td><td>7.285645629030041</td></tr><tr><td>2024-02-29T21:44:54.229+0000</td><td>6.503866065373549</td></tr><tr><td>2024-02-29T21:51:22.168+0000</td><td>6.582063894086094</td></tr><tr><td>2024-02-29T21:56:08.621+0000</td><td>3.181225090410522</td></tr><tr><td>2024-02-29T22:01:12.673+0000</td><td>7.805588621872198</td></tr><tr><td>2024-02-29T22:04:47.188+0000</td><td>2.1962978744154382</td></tr><tr><td>2024-02-29T22:09:14.525+0000</td><td>6.173714187600541</td></tr><tr><td>2024-02-29T22:14:21.180+0000</td><td>9.380911251619956</td></tr><tr><td>2024-02-29T22:18:12.121+0000</td><td>3.0189273497386235</td></tr><tr><td>2024-02-29T22:23:34.663+0000</td><td>3.867404540794456</td></tr><tr><td>2024-02-29T22:27:58.624+0000</td><td>5.199302730175282</td></tr><tr><td>2024-02-29T22:32:41.123+0000</td><td>3.9930486917676014</td></tr><tr><td>2024-02-29T22:37:05.020+0000</td><td>1.8986731378677346</td></tr><tr><td>2024-02-29T22:43:56.157+0000</td><td>5.137125949612055</td></tr><tr><td>2024-02-29T22:48:55.347+0000</td><td>2.8753925725477902</td></tr><tr><td>2024-02-29T22:52:51.884+0000</td><td>5.9471848612703635</td></tr><tr><td>2024-02-29T22:58:41.237+0000</td><td>3.1611515315323935</td></tr><tr><td>2024-02-29T23:02:27.986+0000</td><td>8.09986881003508</td></tr><tr><td>2024-02-29T23:07:40.518+0000</td><td>3.4334934153275256</td></tr><tr><td>2024-02-29T23:10:42.938+0000</td><td>4.355876967588649</td></tr><tr><td>2024-02-29T23:14:23.247+0000</td><td>6.62703443473934</td></tr><tr><td>2024-02-29T23:19:35.059+0000</td><td>2.5382713671320896</td></tr><tr><td>2024-02-29T23:25:19.367+0000</td><td>5.4549198692082586</td></tr><tr><td>2024-02-29T23:30:29.649+0000</td><td>7.614285508564857</td></tr><tr><td>2024-02-29T23:35:22.710+0000</td><td>1.785033530877545</td></tr><tr><td>2024-02-29T23:40:04.644+0000</td><td>5.369267717064608</td></tr><tr><td>2024-02-29T23:43:35.932+0000</td><td>5.519765588496847</td></tr><tr><td>2024-02-29T23:47:52.742+0000</td><td>6.563645743554621</td></tr><tr><td>2024-02-29T23:52:25.103+0000</td><td>2.526098578243836</td></tr><tr><td>2024-02-29T23:58:28.531+0000</td><td>2.3590867738314474</td></tr><tr><td>2024-03-01T00:03:49.148+0000</td><td>6.0438831312337955</td></tr><tr><td>2024-03-01T00:07:03.365+0000</td><td>5.5939693464663724</td></tr><tr><td>2024-03-01T00:12:22.810+0000</td><td>5.5009857006917535</td></tr><tr><td>2024-03-01T00:16:59.705+0000</td><td>5.692896418993952</td></tr><tr><td>2024-03-01T00:21:19.090+0000</td><td>3.6399505568430186</td></tr><tr><td>2024-03-01T00:26:55.791+0000</td><td>5.464507394322007</td></tr><tr><td>2024-03-01T00:32:57.651+0000</td><td>5.586144946597362</td></tr><tr><td>2024-03-01T00:38:53.527+0000</td><td>3.571297163947264</td></tr><tr><td>2024-03-01T00:43:03.174+0000</td><td>8.731549022289514</td></tr><tr><td>2024-03-01T00:47:44.622+0000</td><td>5.947665841823575</td></tr><tr><td>2024-03-01T00:53:04.497+0000</td><td>2.617393005594703</td></tr><tr><td>2024-03-01T00:59:03.030+0000</td><td>6.313107217267659</td></tr><tr><td>2024-03-01T01:03:34.280+0000</td><td>3.050636659545357</td></tr><tr><td>2024-03-01T01:08:23.140+0000</td><td>6.574169207484904</td></tr><tr><td>2024-03-01T01:12:16.760+0000</td><td>7.317191158014808</td></tr><tr><td>2024-03-01T01:16:04.988+0000</td><td>3.358635363296579</td></tr><tr><td>2024-03-01T01:21:53.739+0000</td><td>6.926752258488643</td></tr><tr><td>2024-03-01T01:28:15.114+0000</td><td>5.825561853872997</td></tr><tr><td>2024-03-01T01:33:10.793+0000</td><td>6.64412031998898</td></tr><tr><td>2024-03-01T01:39:11.005+0000</td><td>8.793585965307894</td></tr><tr><td>2024-03-01T01:44:32.703+0000</td><td>4.509223767994259</td></tr><tr><td>2024-03-01T01:48:53.996+0000</td><td>3.492527671285021</td></tr><tr><td>2024-03-01T01:54:15.680+0000</td><td>3.2209711407489534</td></tr><tr><td>2024-03-01T02:00:47.962+0000</td><td>3.3683794300691234</td></tr><tr><td>2024-03-01T02:05:45.812+0000</td><td>4.845796581171792</td></tr><tr><td>2024-03-01T02:12:19.691+0000</td><td>5.682303949633288</td></tr><tr><td>2024-03-01T02:14:42.506+0000</td><td>5.553381598660038</td></tr><tr><td>2024-03-01T02:20:31.820+0000</td><td>6.654366498072047</td></tr><tr><td>2024-03-01T02:25:37.043+0000</td><td>5.026003783755814</td></tr><tr><td>2024-03-01T02:30:19.103+0000</td><td>7.907068154314634</td></tr><tr><td>2024-03-01T02:35:24.608+0000</td><td>4.470686333524088</td></tr><tr><td>2024-03-01T02:38:25.354+0000</td><td>10.440338333179238</td></tr><tr><td>2024-03-01T02:43:12.174+0000</td><td>6.251334695530012</td></tr><tr><td>2024-03-01T02:48:33.601+0000</td><td>3.285684887167435</td></tr><tr><td>2024-03-01T02:55:02.274+0000</td><td>2.8582150038777754</td></tr><tr><td>2024-03-01T02:59:31.178+0000</td><td>5.96494483048637</td></tr><tr><td>2024-03-01T03:03:42.669+0000</td><td>4.553074429348298</td></tr><tr><td>2024-03-01T03:08:12.563+0000</td><td>6.428000988184184</td></tr><tr><td>2024-03-01T03:14:07.487+0000</td><td>5.94647524914709</td></tr><tr><td>2024-03-01T03:19:27.212+0000</td><td>4.854342174686255</td></tr><tr><td>2024-03-01T03:23:55.427+0000</td><td>3.30641256386319</td></tr><tr><td>2024-03-01T03:29:26.223+0000</td><td>1.9703055506282707</td></tr><tr><td>2024-03-01T03:34:32.047+0000</td><td>4.106970095865957</td></tr><tr><td>2024-03-01T03:40:30.166+0000</td><td>6.712797588646945</td></tr><tr><td>2024-03-01T03:44:48.043+0000</td><td>5.4281874882604075</td></tr><tr><td>2024-03-01T03:49:28.383+0000</td><td>2.508522442576024</td></tr><tr><td>2024-03-01T03:54:04.857+0000</td><td>5.346361851702364</td></tr><tr><td>2024-03-01T03:57:37.046+0000</td><td>5.770634759457674</td></tr><tr><td>2024-03-01T04:02:54.813+0000</td><td>3.2322851275977342</td></tr><tr><td>2024-03-01T04:08:10.476+0000</td><td>5.307450211891056</td></tr><tr><td>2024-03-01T04:13:10.783+0000</td><td>5.116417436892</td></tr><tr><td>2024-03-01T04:17:56.708+0000</td><td>2.714059404338754</td></tr></tbody></table></div>"
      ]
     },
     "metadata": {
      "application/vnd.databricks.v1+output": {
       "addedWidgets": {},
       "aggData": [],
       "aggError": "",
       "aggOverflow": false,
       "aggSchema": [],
       "aggSeriesLimitReached": false,
       "aggType": "",
       "arguments": {},
       "columnCustomDisplayInfos": {},
       "data": [
        [
         "2024-02-29T20:13:49.590+0000",
         2.1692585158991715
        ],
        [
         "2024-02-29T20:18:41.294+0000",
         4.158709354469282
        ],
        [
         "2024-02-29T20:24:20.155+0000",
         4.314570966946461
        ],
        [
         "2024-02-29T20:30:51.537+0000",
         3.395445461556762
        ],
        [
         "2024-02-29T20:35:37.488+0000",
         4.677428576667982
        ],
        [
         "2024-02-29T20:40:23.440+0000",
         5.8081017136290765
        ],
        [
         "2024-02-29T20:46:58.192+0000",
         8.77237180242106
        ],
        [
         "2024-02-29T20:52:44.239+0000",
         5.349155625663678
        ],
        [
         "2024-02-29T20:57:16.070+0000",
         5.515100781445529
        ],
        [
         "2024-02-29T21:02:48.624+0000",
         4.851108168467666
        ],
        [
         "2024-02-29T21:07:20.819+0000",
         1.162457569401917
        ],
        [
         "2024-02-29T21:11:52.875+0000",
         4.946972249101567
        ],
        [
         "2024-02-29T21:17:07.393+0000",
         5.120460419882053
        ],
        [
         "2024-02-29T21:20:12.596+0000",
         9.926484224970572
        ],
        [
         "2024-02-29T21:23:29.101+0000",
         4.615278070437755
        ],
        [
         "2024-02-29T21:27:55.363+0000",
         5.603094684667225
        ],
        [
         "2024-02-29T21:31:54.594+0000",
         4.9305764605895135
        ],
        [
         "2024-02-29T21:37:13.448+0000",
         2.662643924760936
        ],
        [
         "2024-02-29T21:41:18.967+0000",
         7.285645629030041
        ],
        [
         "2024-02-29T21:44:54.229+0000",
         6.503866065373549
        ],
        [
         "2024-02-29T21:51:22.168+0000",
         6.582063894086094
        ],
        [
         "2024-02-29T21:56:08.621+0000",
         3.181225090410522
        ],
        [
         "2024-02-29T22:01:12.673+0000",
         7.805588621872198
        ],
        [
         "2024-02-29T22:04:47.188+0000",
         2.1962978744154382
        ],
        [
         "2024-02-29T22:09:14.525+0000",
         6.173714187600541
        ],
        [
         "2024-02-29T22:14:21.180+0000",
         9.380911251619956
        ],
        [
         "2024-02-29T22:18:12.121+0000",
         3.0189273497386235
        ],
        [
         "2024-02-29T22:23:34.663+0000",
         3.867404540794456
        ],
        [
         "2024-02-29T22:27:58.624+0000",
         5.199302730175282
        ],
        [
         "2024-02-29T22:32:41.123+0000",
         3.9930486917676014
        ],
        [
         "2024-02-29T22:37:05.020+0000",
         1.8986731378677346
        ],
        [
         "2024-02-29T22:43:56.157+0000",
         5.137125949612055
        ],
        [
         "2024-02-29T22:48:55.347+0000",
         2.8753925725477902
        ],
        [
         "2024-02-29T22:52:51.884+0000",
         5.9471848612703635
        ],
        [
         "2024-02-29T22:58:41.237+0000",
         3.1611515315323935
        ],
        [
         "2024-02-29T23:02:27.986+0000",
         8.09986881003508
        ],
        [
         "2024-02-29T23:07:40.518+0000",
         3.4334934153275256
        ],
        [
         "2024-02-29T23:10:42.938+0000",
         4.355876967588649
        ],
        [
         "2024-02-29T23:14:23.247+0000",
         6.62703443473934
        ],
        [
         "2024-02-29T23:19:35.059+0000",
         2.5382713671320896
        ],
        [
         "2024-02-29T23:25:19.367+0000",
         5.4549198692082586
        ],
        [
         "2024-02-29T23:30:29.649+0000",
         7.614285508564857
        ],
        [
         "2024-02-29T23:35:22.710+0000",
         1.785033530877545
        ],
        [
         "2024-02-29T23:40:04.644+0000",
         5.369267717064608
        ],
        [
         "2024-02-29T23:43:35.932+0000",
         5.519765588496847
        ],
        [
         "2024-02-29T23:47:52.742+0000",
         6.563645743554621
        ],
        [
         "2024-02-29T23:52:25.103+0000",
         2.526098578243836
        ],
        [
         "2024-02-29T23:58:28.531+0000",
         2.3590867738314474
        ],
        [
         "2024-03-01T00:03:49.148+0000",
         6.0438831312337955
        ],
        [
         "2024-03-01T00:07:03.365+0000",
         5.5939693464663724
        ],
        [
         "2024-03-01T00:12:22.810+0000",
         5.5009857006917535
        ],
        [
         "2024-03-01T00:16:59.705+0000",
         5.692896418993952
        ],
        [
         "2024-03-01T00:21:19.090+0000",
         3.6399505568430186
        ],
        [
         "2024-03-01T00:26:55.791+0000",
         5.464507394322007
        ],
        [
         "2024-03-01T00:32:57.651+0000",
         5.586144946597362
        ],
        [
         "2024-03-01T00:38:53.527+0000",
         3.571297163947264
        ],
        [
         "2024-03-01T00:43:03.174+0000",
         8.731549022289514
        ],
        [
         "2024-03-01T00:47:44.622+0000",
         5.947665841823575
        ],
        [
         "2024-03-01T00:53:04.497+0000",
         2.617393005594703
        ],
        [
         "2024-03-01T00:59:03.030+0000",
         6.313107217267659
        ],
        [
         "2024-03-01T01:03:34.280+0000",
         3.050636659545357
        ],
        [
         "2024-03-01T01:08:23.140+0000",
         6.574169207484904
        ],
        [
         "2024-03-01T01:12:16.760+0000",
         7.317191158014808
        ],
        [
         "2024-03-01T01:16:04.988+0000",
         3.358635363296579
        ],
        [
         "2024-03-01T01:21:53.739+0000",
         6.926752258488643
        ],
        [
         "2024-03-01T01:28:15.114+0000",
         5.825561853872997
        ],
        [
         "2024-03-01T01:33:10.793+0000",
         6.64412031998898
        ],
        [
         "2024-03-01T01:39:11.005+0000",
         8.793585965307894
        ],
        [
         "2024-03-01T01:44:32.703+0000",
         4.509223767994259
        ],
        [
         "2024-03-01T01:48:53.996+0000",
         3.492527671285021
        ],
        [
         "2024-03-01T01:54:15.680+0000",
         3.2209711407489534
        ],
        [
         "2024-03-01T02:00:47.962+0000",
         3.3683794300691234
        ],
        [
         "2024-03-01T02:05:45.812+0000",
         4.845796581171792
        ],
        [
         "2024-03-01T02:12:19.691+0000",
         5.682303949633288
        ],
        [
         "2024-03-01T02:14:42.506+0000",
         5.553381598660038
        ],
        [
         "2024-03-01T02:20:31.820+0000",
         6.654366498072047
        ],
        [
         "2024-03-01T02:25:37.043+0000",
         5.026003783755814
        ],
        [
         "2024-03-01T02:30:19.103+0000",
         7.907068154314634
        ],
        [
         "2024-03-01T02:35:24.608+0000",
         4.470686333524088
        ],
        [
         "2024-03-01T02:38:25.354+0000",
         10.440338333179238
        ],
        [
         "2024-03-01T02:43:12.174+0000",
         6.251334695530012
        ],
        [
         "2024-03-01T02:48:33.601+0000",
         3.285684887167435
        ],
        [
         "2024-03-01T02:55:02.274+0000",
         2.8582150038777754
        ],
        [
         "2024-03-01T02:59:31.178+0000",
         5.96494483048637
        ],
        [
         "2024-03-01T03:03:42.669+0000",
         4.553074429348298
        ],
        [
         "2024-03-01T03:08:12.563+0000",
         6.428000988184184
        ],
        [
         "2024-03-01T03:14:07.487+0000",
         5.94647524914709
        ],
        [
         "2024-03-01T03:19:27.212+0000",
         4.854342174686255
        ],
        [
         "2024-03-01T03:23:55.427+0000",
         3.30641256386319
        ],
        [
         "2024-03-01T03:29:26.223+0000",
         1.9703055506282707
        ],
        [
         "2024-03-01T03:34:32.047+0000",
         4.106970095865957
        ],
        [
         "2024-03-01T03:40:30.166+0000",
         6.712797588646945
        ],
        [
         "2024-03-01T03:44:48.043+0000",
         5.4281874882604075
        ],
        [
         "2024-03-01T03:49:28.383+0000",
         2.508522442576024
        ],
        [
         "2024-03-01T03:54:04.857+0000",
         5.346361851702364
        ],
        [
         "2024-03-01T03:57:37.046+0000",
         5.770634759457674
        ],
        [
         "2024-03-01T04:02:54.813+0000",
         3.2322851275977342
        ],
        [
         "2024-03-01T04:08:10.476+0000",
         5.307450211891056
        ],
        [
         "2024-03-01T04:13:10.783+0000",
         5.116417436892
        ],
        [
         "2024-03-01T04:17:56.708+0000",
         2.714059404338754
        ]
       ],
       "datasetInfos": [],
       "dbfsResultPath": null,
       "isJsonSchema": true,
       "metadata": {},
       "overflow": false,
       "plotOptions": {
        "customPlotOptions": {},
        "displayType": "table",
        "pivotAggregation": null,
        "pivotColumns": null,
        "xColumns": null,
        "yColumns": null
       },
       "removedWidgets": [],
       "schema": [
        {
         "metadata": "{}",
         "name": "DateTime",
         "type": "\"timestamp\""
        },
        {
         "metadata": "{}",
         "name": "avg(Order Processing Time (mins))",
         "type": "\"double\""
        }
       ],
       "type": "table"
      }
     },
     "output_type": "display_data"
    },
    {
     "output_type": "display_data",
     "data": {
      "text/plain": [
       "Databricks visualization. Run in Databricks to view."
      ]
     },
     "metadata": {
      "application/vnd.databricks.v1.subcommand+json": {
       "baseErrorDetails": null,
       "bindings": {},
       "collapsed": false,
       "command": "%python\n__backend_agg_display_orig = display\n__backend_agg_dfs = []\ndef __backend_agg_display_new(df):\n    __backend_agg_df_modules = [\"pandas.core.frame\", \"databricks.koalas.frame\", \"pyspark.sql.dataframe\", \"pyspark.pandas.frame\", \"pyspark.sql.connect.dataframe\"]\n    if (type(df).__module__ in __backend_agg_df_modules and type(df).__name__ == 'DataFrame') or isinstance(df, list):\n        __backend_agg_dfs.append(df)\n\ndisplay = __backend_agg_display_new\n\ndef __backend_agg_user_code_fn():\n    import base64\n    exec(base64.standard_b64decode(\"IyBDYWxjdWxhdGUgYXZlcmFnZSBvcmRlciBwcm9jZXNzaW5nIHRpbWUgcGVyIGRheQpvcmRlcl9wcm9jZXNzaW5nX3RpbWVfZGFpbHlfYXZnID0gdGlsbF9kZi5ncm91cEJ5KCJEYXRlVGltZSIpLmF2ZygiT3JkZXIgUHJvY2Vzc2luZyBUaW1lIChtaW5zKSIpLm9yZGVyQnkoIkRhdGVUaW1lIikKCiMgRGlzcGxheSB0aGUgRGF0YUZyYW1lIGZvciBwbG90dGluZyBpbiBEYXRhYnJpY2tzCmRpc3BsYXkob3JkZXJfcHJvY2Vzc2luZ190aW1lX2RhaWx5X2F2Zyk=\").decode())\n\ntry:\n    # run user code\n    __backend_agg_user_code_fn()\n\n    #reset display function\n    display = __backend_agg_display_orig\n\n    if len(__backend_agg_dfs) > 0:\n        # create a temp view\n        if type(__backend_agg_dfs[0]).__module__ == \"databricks.koalas.frame\":\n            # koalas dataframe\n            __backend_agg_dfs[0].to_spark().createOrReplaceTempView(\"DatabricksView9178907\")\n        elif type(__backend_agg_dfs[0]).__module__ == \"pandas.core.frame\" or isinstance(__backend_agg_dfs[0], list):\n            # pandas dataframe\n            spark.createDataFrame(__backend_agg_dfs[0]).createOrReplaceTempView(\"DatabricksView9178907\")\n        else:\n            __backend_agg_dfs[0].createOrReplaceTempView(\"DatabricksView9178907\")\n        #run backend agg\n        display(spark.sql(\"\"\"WITH q AS (select * from DatabricksView9178907) SELECT `DateTime`,SUM(`avg(Order Processing Time (mins))`) `column_ce0a2ab52` FROM q GROUP BY `DateTime`\"\"\"))\n    else:\n        displayHTML(\"dataframe no longer exists. If you're using dataframe.display(), use display(dataframe) instead.\")\n\n\nfinally:\n    spark.sql(\"drop view if exists DatabricksView9178907\")\n    display = __backend_agg_display_orig\n    del __backend_agg_display_new\n    del __backend_agg_display_orig\n    del __backend_agg_dfs\n    del __backend_agg_user_code_fn\n\n",
       "commandTitle": "Visualization 1",
       "commandType": "auto",
       "commandVersion": 0,
       "commentThread": [],
       "commentsVisible": false,
       "contentSha256Hex": null,
       "customPlotOptions": {
        "redashChart": [
         {
          "key": "type",
          "value": "CHART"
         },
         {
          "key": "options",
          "value": {
           "alignYAxesAtZero": true,
           "coefficient": 1,
           "columnConfigurationMap": {
            "x": {
             "column": "DateTime",
             "id": "column_ce0a2ab51"
            },
            "y": [
             {
              "column": "avg(Order Processing Time (mins))",
              "id": "column_ce0a2ab52",
              "transform": "SUM"
             }
            ]
           },
           "dateTimeFormat": "DD/MM/YYYY HH:mm",
           "direction": {
            "type": "counterclockwise"
           },
           "error_y": {
            "type": "data",
            "visible": true
           },
           "globalSeriesType": "line",
           "legend": {
            "traceorder": "normal"
           },
           "missingValuesAsZero": true,
           "numberFormat": "0,0.[00000]",
           "percentFormat": "0[.]00%",
           "series": {
            "error_y": {
             "type": "data",
             "visible": true
            },
            "stacking": null
           },
           "seriesOptions": {
            "column_ce0a2ab52": {
             "name": "avg(Order Processing Time (mins))",
             "yAxis": 0
            }
           },
           "showDataLabels": false,
           "sizemode": "diameter",
           "sortX": true,
           "sortY": true,
           "swappedAxes": false,
           "textFormat": "",
           "useAggregationsUi": true,
           "valuesOptions": {},
           "version": 2,
           "xAxis": {
            "labels": {
             "enabled": true
            },
            "type": "-"
           },
           "yAxis": [
            {
             "type": "-"
            },
            {
             "opposite": true,
             "type": "-"
            }
           ]
          }
         }
        ]
       },
       "datasetPreviewNameToCmdIdMap": {},
       "diffDeletes": [],
       "diffInserts": [],
       "displayType": "redashChart",
       "error": null,
       "errorDetails": null,
       "errorSummary": null,
       "errorTraceType": null,
       "finishTime": 0,
       "globalVars": {},
       "guid": "",
       "height": "auto",
       "hideCommandCode": false,
       "hideCommandResult": false,
       "iPythonMetadata": null,
       "inputWidgets": {},
       "isLockedInExamMode": false,
       "latestUser": "a user",
       "latestUserId": null,
       "listResultMetadata": null,
       "metadata": {
        "byteLimit": 2048000,
        "rowLimit": 10000
       },
       "nuid": "1f4b621f-095f-425b-b7c2-0c647ea5671e",
       "origId": 0,
       "parentHierarchy": [],
       "pivotAggregation": null,
       "pivotColumns": null,
       "position": 1.9375,
       "resultDbfsErrorMessage": null,
       "resultDbfsStatus": "INLINED_IN_TREE",
       "results": null,
       "showCommandTitle": false,
       "startTime": 0,
       "state": "finished",
       "streamStates": {},
       "subcommandOptions": {
        "queryPlan": {
         "groups": [
          {
           "column": "DateTime",
           "type": "column"
          }
         ],
         "selects": [
          {
           "column": "DateTime",
           "type": "column"
          },
          {
           "alias": "column_ce0a2ab52",
           "args": [
            {
             "column": "avg(Order Processing Time (mins))",
             "type": "column"
            }
           ],
           "function": "SUM",
           "type": "function"
          }
         ]
        }
       },
       "submitTime": 0,
       "subtype": "tableResultSubCmd.visualization",
       "tableResultIndex": 0,
       "useConsistentColors": false,
       "version": "CommandV1",
       "width": "auto",
       "workflows": [],
       "xColumns": null,
       "yColumns": null
      }
     },
     "output_type": "display_data"
    }
   ],
   "source": [
    "# Calculate average order processing time per day\n",
    "order_processing_time_daily_avg = till_df.groupBy(\"DateTime\").avg(\"Order Processing Time (mins)\").orderBy(\"DateTime\")\n",
    "\n",
    "# Display the DataFrame for plotting in Databricks\n",
    "display(order_processing_time_daily_avg)"
   ]
  },
  {
   "cell_type": "markdown",
   "metadata": {
    "application/vnd.databricks.v1+cell": {
     "cellMetadata": {
      "byteLimit": 2048000,
      "rowLimit": 10000
     },
     "inputWidgets": {},
     "nuid": "73008501-9932-4cb6-8de8-c0e36624ae12",
     "showTitle": false,
     "title": ""
    }
   },
   "source": [
    "### 2. Sales Amount ($)\n",
    "This cell will calculate the total sales amount per day."
   ]
  },
  {
   "cell_type": "code",
   "execution_count": 0,
   "metadata": {
    "application/vnd.databricks.v1+cell": {
     "cellMetadata": {
      "byteLimit": 2048000,
      "rowLimit": 10000
     },
     "inputWidgets": {},
     "nuid": "d84f3e92-4c72-4426-b902-385423044e86",
     "showTitle": false,
     "title": ""
    }
   },
   "outputs": [
    {
     "output_type": "display_data",
     "data": {
      "text/html": [
       "<style scoped>\n",
       "  .table-result-container {\n",
       "    max-height: 300px;\n",
       "    overflow: auto;\n",
       "  }\n",
       "  table, th, td {\n",
       "    border: 1px solid black;\n",
       "    border-collapse: collapse;\n",
       "  }\n",
       "  th, td {\n",
       "    padding: 5px;\n",
       "  }\n",
       "  th {\n",
       "    text-align: left;\n",
       "  }\n",
       "</style><div class='table-result-container'><table class='table-result'><thead style='background-color: white'><tr><th>DateTime</th><th>sum(Sales Amount ($))</th></tr></thead><tbody><tr><td>2024-02-29T20:13:49.590+0000</td><td>7.440000057220459</td></tr><tr><td>2024-02-29T20:18:41.294+0000</td><td>3.259999990463257</td></tr><tr><td>2024-02-29T20:24:20.155+0000</td><td>18.8700008392334</td></tr><tr><td>2024-02-29T20:30:51.537+0000</td><td>11.520000457763672</td></tr><tr><td>2024-02-29T20:35:37.488+0000</td><td>12.170000076293945</td></tr><tr><td>2024-02-29T20:40:23.440+0000</td><td>14.630000114440918</td></tr><tr><td>2024-02-29T20:46:58.192+0000</td><td>13.470000267028809</td></tr><tr><td>2024-02-29T20:52:44.239+0000</td><td>19.049999237060547</td></tr><tr><td>2024-02-29T20:57:16.070+0000</td><td>19.049999237060547</td></tr><tr><td>2024-02-29T21:02:48.624+0000</td><td>17.739999771118164</td></tr><tr><td>2024-02-29T21:07:20.819+0000</td><td>13.819999694824219</td></tr><tr><td>2024-02-29T21:11:52.875+0000</td><td>16.6200008392334</td></tr><tr><td>2024-02-29T21:17:07.393+0000</td><td>14.510000228881836</td></tr><tr><td>2024-02-29T21:20:12.596+0000</td><td>12.75</td></tr><tr><td>2024-02-29T21:23:29.101+0000</td><td>5.179999828338623</td></tr><tr><td>2024-02-29T21:27:55.363+0000</td><td>16.790000915527344</td></tr><tr><td>2024-02-29T21:31:54.594+0000</td><td>16.950000762939453</td></tr><tr><td>2024-02-29T21:37:13.448+0000</td><td>13.640000343322754</td></tr><tr><td>2024-02-29T21:41:18.967+0000</td><td>16.950000762939453</td></tr><tr><td>2024-02-29T21:44:54.229+0000</td><td>14.079999923706055</td></tr><tr><td>2024-02-29T21:51:22.168+0000</td><td>6.510000228881836</td></tr><tr><td>2024-02-29T21:56:08.621+0000</td><td>7.659999847412109</td></tr><tr><td>2024-02-29T22:01:12.673+0000</td><td>6.650000095367432</td></tr><tr><td>2024-02-29T22:04:47.188+0000</td><td>9.40999984741211</td></tr><tr><td>2024-02-29T22:09:14.525+0000</td><td>3.6600000858306885</td></tr><tr><td>2024-02-29T22:14:21.180+0000</td><td>13.510000228881836</td></tr><tr><td>2024-02-29T22:18:12.121+0000</td><td>8.720000267028809</td></tr><tr><td>2024-02-29T22:23:34.663+0000</td><td>14.149999618530273</td></tr><tr><td>2024-02-29T22:27:58.624+0000</td><td>9.550000190734863</td></tr><tr><td>2024-02-29T22:32:41.123+0000</td><td>14.59000015258789</td></tr><tr><td>2024-02-29T22:37:05.020+0000</td><td>8.789999961853027</td></tr><tr><td>2024-02-29T22:43:56.157+0000</td><td>7.429999828338623</td></tr><tr><td>2024-02-29T22:48:55.347+0000</td><td>11.430000305175781</td></tr><tr><td>2024-02-29T22:52:51.884+0000</td><td>14.779999732971191</td></tr><tr><td>2024-02-29T22:58:41.237+0000</td><td>8.920000076293945</td></tr><tr><td>2024-02-29T23:02:27.986+0000</td><td>18.920000076293945</td></tr><tr><td>2024-02-29T23:07:40.518+0000</td><td>3.6700000762939453</td></tr><tr><td>2024-02-29T23:10:42.938+0000</td><td>10.109999656677246</td></tr><tr><td>2024-02-29T23:14:23.247+0000</td><td>19.450000762939453</td></tr><tr><td>2024-02-29T23:19:35.059+0000</td><td>12.319999694824219</td></tr><tr><td>2024-02-29T23:25:19.367+0000</td><td>10.199999809265137</td></tr><tr><td>2024-02-29T23:30:29.649+0000</td><td>12.65999984741211</td></tr><tr><td>2024-02-29T23:35:22.710+0000</td><td>12.789999961853027</td></tr><tr><td>2024-02-29T23:40:04.644+0000</td><td>15.4399995803833</td></tr><tr><td>2024-02-29T23:43:35.932+0000</td><td>5.170000076293945</td></tr><tr><td>2024-02-29T23:47:52.742+0000</td><td>7.25</td></tr><tr><td>2024-02-29T23:52:25.103+0000</td><td>12.869999885559082</td></tr><tr><td>2024-02-29T23:58:28.531+0000</td><td>17.739999771118164</td></tr><tr><td>2024-03-01T00:03:49.148+0000</td><td>12.550000190734863</td></tr><tr><td>2024-03-01T00:07:03.365+0000</td><td>7.059999942779541</td></tr><tr><td>2024-03-01T00:12:22.810+0000</td><td>14.5600004196167</td></tr><tr><td>2024-03-01T00:16:59.705+0000</td><td>15.579999923706055</td></tr><tr><td>2024-03-01T00:21:19.090+0000</td><td>7.050000190734863</td></tr><tr><td>2024-03-01T00:26:55.791+0000</td><td>9.420000076293945</td></tr><tr><td>2024-03-01T00:32:57.651+0000</td><td>12.079999923706055</td></tr><tr><td>2024-03-01T00:38:53.527+0000</td><td>11.4399995803833</td></tr><tr><td>2024-03-01T00:43:03.174+0000</td><td>9.619999885559082</td></tr><tr><td>2024-03-01T00:47:44.622+0000</td><td>8.0600004196167</td></tr><tr><td>2024-03-01T00:53:04.497+0000</td><td>4.699999809265137</td></tr><tr><td>2024-03-01T00:59:03.030+0000</td><td>3.9100000858306885</td></tr><tr><td>2024-03-01T01:03:34.280+0000</td><td>19.299999237060547</td></tr><tr><td>2024-03-01T01:08:23.140+0000</td><td>17.399999618530273</td></tr><tr><td>2024-03-01T01:12:16.760+0000</td><td>9.029999732971191</td></tr><tr><td>2024-03-01T01:16:04.988+0000</td><td>19.270000457763672</td></tr><tr><td>2024-03-01T01:21:53.739+0000</td><td>14.510000228881836</td></tr><tr><td>2024-03-01T01:28:15.114+0000</td><td>11.199999809265137</td></tr><tr><td>2024-03-01T01:33:10.793+0000</td><td>11.380000114440918</td></tr><tr><td>2024-03-01T01:39:11.005+0000</td><td>4.420000076293945</td></tr><tr><td>2024-03-01T01:44:32.703+0000</td><td>4.559999942779541</td></tr><tr><td>2024-03-01T01:48:53.996+0000</td><td>13.239999771118164</td></tr><tr><td>2024-03-01T01:54:15.680+0000</td><td>12.40999984741211</td></tr><tr><td>2024-03-01T02:00:47.962+0000</td><td>6.619999885559082</td></tr><tr><td>2024-03-01T02:05:45.812+0000</td><td>19.09000015258789</td></tr><tr><td>2024-03-01T02:12:19.691+0000</td><td>16.280000686645508</td></tr><tr><td>2024-03-01T02:14:42.506+0000</td><td>4.929999828338623</td></tr><tr><td>2024-03-01T02:20:31.820+0000</td><td>18.829999923706055</td></tr><tr><td>2024-03-01T02:25:37.043+0000</td><td>19.559999465942383</td></tr><tr><td>2024-03-01T02:30:19.103+0000</td><td>19.93000030517578</td></tr><tr><td>2024-03-01T02:35:24.608+0000</td><td>3.950000047683716</td></tr><tr><td>2024-03-01T02:38:25.354+0000</td><td>15.529999732971191</td></tr><tr><td>2024-03-01T02:43:12.174+0000</td><td>12.279999732971191</td></tr><tr><td>2024-03-01T02:48:33.601+0000</td><td>15.0</td></tr><tr><td>2024-03-01T02:55:02.274+0000</td><td>19.469999313354492</td></tr><tr><td>2024-03-01T02:59:31.178+0000</td><td>14.699999809265137</td></tr><tr><td>2024-03-01T03:03:42.669+0000</td><td>17.229999542236328</td></tr><tr><td>2024-03-01T03:08:12.563+0000</td><td>17.739999771118164</td></tr><tr><td>2024-03-01T03:14:07.487+0000</td><td>17.25</td></tr><tr><td>2024-03-01T03:19:27.212+0000</td><td>10.239999771118164</td></tr><tr><td>2024-03-01T03:23:55.427+0000</td><td>6.78000020980835</td></tr><tr><td>2024-03-01T03:29:26.223+0000</td><td>9.739999771118164</td></tr><tr><td>2024-03-01T03:34:32.047+0000</td><td>18.15999984741211</td></tr><tr><td>2024-03-01T03:40:30.166+0000</td><td>5.489999771118164</td></tr><tr><td>2024-03-01T03:44:48.043+0000</td><td>11.729999542236328</td></tr><tr><td>2024-03-01T03:49:28.383+0000</td><td>6.960000038146973</td></tr><tr><td>2024-03-01T03:54:04.857+0000</td><td>12.880000114440918</td></tr><tr><td>2024-03-01T03:57:37.046+0000</td><td>17.670000076293945</td></tr><tr><td>2024-03-01T04:02:54.813+0000</td><td>17.969999313354492</td></tr><tr><td>2024-03-01T04:08:10.476+0000</td><td>7.019999980926514</td></tr><tr><td>2024-03-01T04:13:10.783+0000</td><td>18.43000030517578</td></tr><tr><td>2024-03-01T04:17:56.708+0000</td><td>13.0600004196167</td></tr></tbody></table></div>"
      ]
     },
     "metadata": {
      "application/vnd.databricks.v1+output": {
       "addedWidgets": {},
       "aggData": [],
       "aggError": "",
       "aggOverflow": false,
       "aggSchema": [],
       "aggSeriesLimitReached": false,
       "aggType": "",
       "arguments": {},
       "columnCustomDisplayInfos": {},
       "data": [
        [
         "2024-02-29T20:13:49.590+0000",
         7.440000057220459
        ],
        [
         "2024-02-29T20:18:41.294+0000",
         3.259999990463257
        ],
        [
         "2024-02-29T20:24:20.155+0000",
         18.8700008392334
        ],
        [
         "2024-02-29T20:30:51.537+0000",
         11.520000457763672
        ],
        [
         "2024-02-29T20:35:37.488+0000",
         12.170000076293945
        ],
        [
         "2024-02-29T20:40:23.440+0000",
         14.630000114440918
        ],
        [
         "2024-02-29T20:46:58.192+0000",
         13.470000267028809
        ],
        [
         "2024-02-29T20:52:44.239+0000",
         19.049999237060547
        ],
        [
         "2024-02-29T20:57:16.070+0000",
         19.049999237060547
        ],
        [
         "2024-02-29T21:02:48.624+0000",
         17.739999771118164
        ],
        [
         "2024-02-29T21:07:20.819+0000",
         13.819999694824219
        ],
        [
         "2024-02-29T21:11:52.875+0000",
         16.6200008392334
        ],
        [
         "2024-02-29T21:17:07.393+0000",
         14.510000228881836
        ],
        [
         "2024-02-29T21:20:12.596+0000",
         12.75
        ],
        [
         "2024-02-29T21:23:29.101+0000",
         5.179999828338623
        ],
        [
         "2024-02-29T21:27:55.363+0000",
         16.790000915527344
        ],
        [
         "2024-02-29T21:31:54.594+0000",
         16.950000762939453
        ],
        [
         "2024-02-29T21:37:13.448+0000",
         13.640000343322754
        ],
        [
         "2024-02-29T21:41:18.967+0000",
         16.950000762939453
        ],
        [
         "2024-02-29T21:44:54.229+0000",
         14.079999923706055
        ],
        [
         "2024-02-29T21:51:22.168+0000",
         6.510000228881836
        ],
        [
         "2024-02-29T21:56:08.621+0000",
         7.659999847412109
        ],
        [
         "2024-02-29T22:01:12.673+0000",
         6.650000095367432
        ],
        [
         "2024-02-29T22:04:47.188+0000",
         9.40999984741211
        ],
        [
         "2024-02-29T22:09:14.525+0000",
         3.6600000858306885
        ],
        [
         "2024-02-29T22:14:21.180+0000",
         13.510000228881836
        ],
        [
         "2024-02-29T22:18:12.121+0000",
         8.720000267028809
        ],
        [
         "2024-02-29T22:23:34.663+0000",
         14.149999618530273
        ],
        [
         "2024-02-29T22:27:58.624+0000",
         9.550000190734863
        ],
        [
         "2024-02-29T22:32:41.123+0000",
         14.59000015258789
        ],
        [
         "2024-02-29T22:37:05.020+0000",
         8.789999961853027
        ],
        [
         "2024-02-29T22:43:56.157+0000",
         7.429999828338623
        ],
        [
         "2024-02-29T22:48:55.347+0000",
         11.430000305175781
        ],
        [
         "2024-02-29T22:52:51.884+0000",
         14.779999732971191
        ],
        [
         "2024-02-29T22:58:41.237+0000",
         8.920000076293945
        ],
        [
         "2024-02-29T23:02:27.986+0000",
         18.920000076293945
        ],
        [
         "2024-02-29T23:07:40.518+0000",
         3.6700000762939453
        ],
        [
         "2024-02-29T23:10:42.938+0000",
         10.109999656677246
        ],
        [
         "2024-02-29T23:14:23.247+0000",
         19.450000762939453
        ],
        [
         "2024-02-29T23:19:35.059+0000",
         12.319999694824219
        ],
        [
         "2024-02-29T23:25:19.367+0000",
         10.199999809265137
        ],
        [
         "2024-02-29T23:30:29.649+0000",
         12.65999984741211
        ],
        [
         "2024-02-29T23:35:22.710+0000",
         12.789999961853027
        ],
        [
         "2024-02-29T23:40:04.644+0000",
         15.4399995803833
        ],
        [
         "2024-02-29T23:43:35.932+0000",
         5.170000076293945
        ],
        [
         "2024-02-29T23:47:52.742+0000",
         7.25
        ],
        [
         "2024-02-29T23:52:25.103+0000",
         12.869999885559082
        ],
        [
         "2024-02-29T23:58:28.531+0000",
         17.739999771118164
        ],
        [
         "2024-03-01T00:03:49.148+0000",
         12.550000190734863
        ],
        [
         "2024-03-01T00:07:03.365+0000",
         7.059999942779541
        ],
        [
         "2024-03-01T00:12:22.810+0000",
         14.5600004196167
        ],
        [
         "2024-03-01T00:16:59.705+0000",
         15.579999923706055
        ],
        [
         "2024-03-01T00:21:19.090+0000",
         7.050000190734863
        ],
        [
         "2024-03-01T00:26:55.791+0000",
         9.420000076293945
        ],
        [
         "2024-03-01T00:32:57.651+0000",
         12.079999923706055
        ],
        [
         "2024-03-01T00:38:53.527+0000",
         11.4399995803833
        ],
        [
         "2024-03-01T00:43:03.174+0000",
         9.619999885559082
        ],
        [
         "2024-03-01T00:47:44.622+0000",
         8.0600004196167
        ],
        [
         "2024-03-01T00:53:04.497+0000",
         4.699999809265137
        ],
        [
         "2024-03-01T00:59:03.030+0000",
         3.9100000858306885
        ],
        [
         "2024-03-01T01:03:34.280+0000",
         19.299999237060547
        ],
        [
         "2024-03-01T01:08:23.140+0000",
         17.399999618530273
        ],
        [
         "2024-03-01T01:12:16.760+0000",
         9.029999732971191
        ],
        [
         "2024-03-01T01:16:04.988+0000",
         19.270000457763672
        ],
        [
         "2024-03-01T01:21:53.739+0000",
         14.510000228881836
        ],
        [
         "2024-03-01T01:28:15.114+0000",
         11.199999809265137
        ],
        [
         "2024-03-01T01:33:10.793+0000",
         11.380000114440918
        ],
        [
         "2024-03-01T01:39:11.005+0000",
         4.420000076293945
        ],
        [
         "2024-03-01T01:44:32.703+0000",
         4.559999942779541
        ],
        [
         "2024-03-01T01:48:53.996+0000",
         13.239999771118164
        ],
        [
         "2024-03-01T01:54:15.680+0000",
         12.40999984741211
        ],
        [
         "2024-03-01T02:00:47.962+0000",
         6.619999885559082
        ],
        [
         "2024-03-01T02:05:45.812+0000",
         19.09000015258789
        ],
        [
         "2024-03-01T02:12:19.691+0000",
         16.280000686645508
        ],
        [
         "2024-03-01T02:14:42.506+0000",
         4.929999828338623
        ],
        [
         "2024-03-01T02:20:31.820+0000",
         18.829999923706055
        ],
        [
         "2024-03-01T02:25:37.043+0000",
         19.559999465942383
        ],
        [
         "2024-03-01T02:30:19.103+0000",
         19.93000030517578
        ],
        [
         "2024-03-01T02:35:24.608+0000",
         3.950000047683716
        ],
        [
         "2024-03-01T02:38:25.354+0000",
         15.529999732971191
        ],
        [
         "2024-03-01T02:43:12.174+0000",
         12.279999732971191
        ],
        [
         "2024-03-01T02:48:33.601+0000",
         15.0
        ],
        [
         "2024-03-01T02:55:02.274+0000",
         19.469999313354492
        ],
        [
         "2024-03-01T02:59:31.178+0000",
         14.699999809265137
        ],
        [
         "2024-03-01T03:03:42.669+0000",
         17.229999542236328
        ],
        [
         "2024-03-01T03:08:12.563+0000",
         17.739999771118164
        ],
        [
         "2024-03-01T03:14:07.487+0000",
         17.25
        ],
        [
         "2024-03-01T03:19:27.212+0000",
         10.239999771118164
        ],
        [
         "2024-03-01T03:23:55.427+0000",
         6.78000020980835
        ],
        [
         "2024-03-01T03:29:26.223+0000",
         9.739999771118164
        ],
        [
         "2024-03-01T03:34:32.047+0000",
         18.15999984741211
        ],
        [
         "2024-03-01T03:40:30.166+0000",
         5.489999771118164
        ],
        [
         "2024-03-01T03:44:48.043+0000",
         11.729999542236328
        ],
        [
         "2024-03-01T03:49:28.383+0000",
         6.960000038146973
        ],
        [
         "2024-03-01T03:54:04.857+0000",
         12.880000114440918
        ],
        [
         "2024-03-01T03:57:37.046+0000",
         17.670000076293945
        ],
        [
         "2024-03-01T04:02:54.813+0000",
         17.969999313354492
        ],
        [
         "2024-03-01T04:08:10.476+0000",
         7.019999980926514
        ],
        [
         "2024-03-01T04:13:10.783+0000",
         18.43000030517578
        ],
        [
         "2024-03-01T04:17:56.708+0000",
         13.0600004196167
        ]
       ],
       "datasetInfos": [],
       "dbfsResultPath": null,
       "isJsonSchema": true,
       "metadata": {},
       "overflow": false,
       "plotOptions": {
        "customPlotOptions": {},
        "displayType": "table",
        "pivotAggregation": null,
        "pivotColumns": null,
        "xColumns": null,
        "yColumns": null
       },
       "removedWidgets": [],
       "schema": [
        {
         "metadata": "{}",
         "name": "DateTime",
         "type": "\"timestamp\""
        },
        {
         "metadata": "{}",
         "name": "sum(Sales Amount ($))",
         "type": "\"double\""
        }
       ],
       "type": "table"
      }
     },
     "output_type": "display_data"
    },
    {
     "output_type": "display_data",
     "data": {
      "text/plain": [
       "Databricks visualization. Run in Databricks to view."
      ]
     },
     "metadata": {
      "application/vnd.databricks.v1.subcommand+json": {
       "baseErrorDetails": null,
       "bindings": {},
       "collapsed": false,
       "command": "%python\n__backend_agg_display_orig = display\n__backend_agg_dfs = []\ndef __backend_agg_display_new(df):\n    __backend_agg_df_modules = [\"pandas.core.frame\", \"databricks.koalas.frame\", \"pyspark.sql.dataframe\", \"pyspark.pandas.frame\", \"pyspark.sql.connect.dataframe\"]\n    if (type(df).__module__ in __backend_agg_df_modules and type(df).__name__ == 'DataFrame') or isinstance(df, list):\n        __backend_agg_dfs.append(df)\n\ndisplay = __backend_agg_display_new\n\ndef __backend_agg_user_code_fn():\n    import base64\n    exec(base64.standard_b64decode(\"IyBDYWxjdWxhdGUgdG90YWwgc2FsZXMgYW1vdW50IHBlciBkYXkKc2FsZXNfYW1vdW50X2RhaWx5X3N1bSA9IHRpbGxfZGYuZ3JvdXBCeSgiRGF0ZVRpbWUiKS5zdW0oIlNhbGVzIEFtb3VudCAoJCkiKS5vcmRlckJ5KCJEYXRlVGltZSIpCgojIERpc3BsYXkgdGhlIERhdGFGcmFtZSBmb3IgcGxvdHRpbmcgaW4gRGF0YWJyaWNrcwpkaXNwbGF5KHNhbGVzX2Ftb3VudF9kYWlseV9zdW0p\").decode())\n\ntry:\n    # run user code\n    __backend_agg_user_code_fn()\n\n    #reset display function\n    display = __backend_agg_display_orig\n\n    if len(__backend_agg_dfs) > 0:\n        # create a temp view\n        if type(__backend_agg_dfs[0]).__module__ == \"databricks.koalas.frame\":\n            # koalas dataframe\n            __backend_agg_dfs[0].to_spark().createOrReplaceTempView(\"DatabricksView414d262\")\n        elif type(__backend_agg_dfs[0]).__module__ == \"pandas.core.frame\" or isinstance(__backend_agg_dfs[0], list):\n            # pandas dataframe\n            spark.createDataFrame(__backend_agg_dfs[0]).createOrReplaceTempView(\"DatabricksView414d262\")\n        else:\n            __backend_agg_dfs[0].createOrReplaceTempView(\"DatabricksView414d262\")\n        #run backend agg\n        display(spark.sql(\"\"\"WITH q AS (select * from DatabricksView414d262) SELECT `DateTime`,SUM(`sum(Sales Amount ($))`) `column_ce0a2ab56` FROM q GROUP BY `DateTime`\"\"\"))\n    else:\n        displayHTML(\"dataframe no longer exists. If you're using dataframe.display(), use display(dataframe) instead.\")\n\n\nfinally:\n    spark.sql(\"drop view if exists DatabricksView414d262\")\n    display = __backend_agg_display_orig\n    del __backend_agg_display_new\n    del __backend_agg_display_orig\n    del __backend_agg_dfs\n    del __backend_agg_user_code_fn\n\n",
       "commandTitle": "Visualization 1",
       "commandType": "auto",
       "commandVersion": 0,
       "commentThread": [],
       "commentsVisible": false,
       "contentSha256Hex": null,
       "customPlotOptions": {
        "redashChart": [
         {
          "key": "type",
          "value": "CHART"
         },
         {
          "key": "options",
          "value": {
           "alignYAxesAtZero": true,
           "coefficient": 1,
           "columnConfigurationMap": {
            "x": {
             "column": "DateTime",
             "id": "column_ce0a2ab55"
            },
            "y": [
             {
              "column": "sum(Sales Amount ($))",
              "id": "column_ce0a2ab56",
              "transform": "SUM"
             }
            ]
           },
           "dateTimeFormat": "DD/MM/YYYY HH:mm",
           "direction": {
            "type": "counterclockwise"
           },
           "error_y": {
            "type": "data",
            "visible": true
           },
           "globalSeriesType": "line",
           "isAggregationOn": true,
           "legend": {
            "traceorder": "normal"
           },
           "missingValuesAsZero": true,
           "numberFormat": "0,0.[00000]",
           "percentFormat": "0[.]00%",
           "series": {
            "error_y": {
             "type": "data",
             "visible": true
            },
            "stacking": null
           },
           "seriesOptions": {
            "column_ce0a2ab56": {
             "color": "#99DDB4",
             "name": "sum(Sales Amount ($))",
             "yAxis": 0
            }
           },
           "showDataLabels": false,
           "sizemode": "diameter",
           "sortX": true,
           "sortY": true,
           "swappedAxes": false,
           "textFormat": "",
           "useAggregationsUi": true,
           "valuesOptions": {},
           "version": 2,
           "xAxis": {
            "labels": {
             "enabled": true
            },
            "type": "-"
           },
           "yAxis": [
            {
             "type": "-"
            },
            {
             "opposite": true,
             "type": "-"
            }
           ]
          }
         }
        ]
       },
       "datasetPreviewNameToCmdIdMap": {},
       "diffDeletes": [],
       "diffInserts": [],
       "displayType": "redashChart",
       "error": null,
       "errorDetails": null,
       "errorSummary": null,
       "errorTraceType": null,
       "finishTime": 0,
       "globalVars": {},
       "guid": "",
       "height": "auto",
       "hideCommandCode": false,
       "hideCommandResult": false,
       "iPythonMetadata": null,
       "inputWidgets": {},
       "isLockedInExamMode": false,
       "latestUser": "a user",
       "latestUserId": null,
       "listResultMetadata": null,
       "metadata": {
        "byteLimit": 2048000,
        "rowLimit": 10000
       },
       "nuid": "e2ec9742-ba5e-4f3c-b788-69142c74dc01",
       "origId": 0,
       "parentHierarchy": [],
       "pivotAggregation": null,
       "pivotColumns": null,
       "position": 1.984375,
       "resultDbfsErrorMessage": null,
       "resultDbfsStatus": "INLINED_IN_TREE",
       "results": null,
       "showCommandTitle": false,
       "startTime": 0,
       "state": "finished",
       "streamStates": {},
       "subcommandOptions": {
        "queryPlan": {
         "groups": [
          {
           "column": "DateTime",
           "type": "column"
          }
         ],
         "selects": [
          {
           "column": "DateTime",
           "type": "column"
          },
          {
           "alias": "column_ce0a2ab56",
           "args": [
            {
             "column": "sum(Sales Amount ($))",
             "type": "column"
            }
           ],
           "function": "SUM",
           "type": "function"
          }
         ]
        }
       },
       "submitTime": 0,
       "subtype": "tableResultSubCmd.visualization",
       "tableResultIndex": 0,
       "useConsistentColors": false,
       "version": "CommandV1",
       "width": "auto",
       "workflows": [],
       "xColumns": null,
       "yColumns": null
      }
     },
     "output_type": "display_data"
    }
   ],
   "source": [
    "# Calculate total sales amount per day\n",
    "sales_amount_daily_sum = till_df.groupBy(\"DateTime\").sum(\"Sales Amount ($)\").orderBy(\"DateTime\")\n",
    "\n",
    "# Display the DataFrame for plotting in Databricks\n",
    "display(sales_amount_daily_sum)"
   ]
  },
  {
   "cell_type": "markdown",
   "metadata": {
    "application/vnd.databricks.v1+cell": {
     "cellMetadata": {
      "byteLimit": 2048000,
      "rowLimit": 10000
     },
     "inputWidgets": {},
     "nuid": "604dfa6a-40bc-4cdf-81d5-3c2bf8c4e442",
     "showTitle": false,
     "title": ""
    }
   },
   "source": [
    "### 3. Order Correct Percentage\n",
    "For the Order Correct percentage, you'll first need to calculate the daily percentage of orders that were correct. This involves counting the number of correct orders per day, dividing by the total number of orders that day, and then multiplying by 100 to get a percentage."
   ]
  },
  {
   "cell_type": "code",
   "execution_count": 0,
   "metadata": {
    "application/vnd.databricks.v1+cell": {
     "cellMetadata": {
      "byteLimit": 2048000,
      "rowLimit": 10000
     },
     "inputWidgets": {},
     "nuid": "ff1bb8d5-a610-420d-a946-f014ad610c42",
     "showTitle": false,
     "title": ""
    }
   },
   "outputs": [
    {
     "output_type": "display_data",
     "data": {
      "text/html": [
       "<style scoped>\n",
       "  .table-result-container {\n",
       "    max-height: 300px;\n",
       "    overflow: auto;\n",
       "  }\n",
       "  table, th, td {\n",
       "    border: 1px solid black;\n",
       "    border-collapse: collapse;\n",
       "  }\n",
       "  th, td {\n",
       "    padding: 5px;\n",
       "  }\n",
       "  th {\n",
       "    text-align: left;\n",
       "  }\n",
       "</style><div class='table-result-container'><table class='table-result'><thead style='background-color: white'><tr><th>DateTime</th><th>Order Correct Percentage</th></tr></thead><tbody><tr><td>2024-02-29T20:13:49.590+0000</td><td>100.0</td></tr><tr><td>2024-02-29T20:18:41.294+0000</td><td>100.0</td></tr><tr><td>2024-02-29T20:24:20.155+0000</td><td>100.0</td></tr><tr><td>2024-02-29T20:30:51.537+0000</td><td>100.0</td></tr><tr><td>2024-02-29T20:35:37.488+0000</td><td>100.0</td></tr><tr><td>2024-02-29T20:40:23.440+0000</td><td>100.0</td></tr><tr><td>2024-02-29T20:46:58.192+0000</td><td>100.0</td></tr><tr><td>2024-02-29T20:52:44.239+0000</td><td>100.0</td></tr><tr><td>2024-02-29T20:57:16.070+0000</td><td>100.0</td></tr><tr><td>2024-02-29T21:02:48.624+0000</td><td>100.0</td></tr><tr><td>2024-02-29T21:07:20.819+0000</td><td>100.0</td></tr><tr><td>2024-02-29T21:11:52.875+0000</td><td>100.0</td></tr><tr><td>2024-02-29T21:17:07.393+0000</td><td>100.0</td></tr><tr><td>2024-02-29T21:20:12.596+0000</td><td>100.0</td></tr><tr><td>2024-02-29T21:23:29.101+0000</td><td>100.0</td></tr><tr><td>2024-02-29T21:27:55.363+0000</td><td>100.0</td></tr><tr><td>2024-02-29T21:31:54.594+0000</td><td>100.0</td></tr><tr><td>2024-02-29T21:37:13.448+0000</td><td>100.0</td></tr><tr><td>2024-02-29T21:41:18.967+0000</td><td>100.0</td></tr><tr><td>2024-02-29T21:44:54.229+0000</td><td>100.0</td></tr><tr><td>2024-02-29T21:51:22.168+0000</td><td>100.0</td></tr><tr><td>2024-02-29T21:56:08.621+0000</td><td>100.0</td></tr><tr><td>2024-02-29T22:01:12.673+0000</td><td>100.0</td></tr><tr><td>2024-02-29T22:04:47.188+0000</td><td>0.0</td></tr><tr><td>2024-02-29T22:09:14.525+0000</td><td>100.0</td></tr><tr><td>2024-02-29T22:14:21.180+0000</td><td>100.0</td></tr><tr><td>2024-02-29T22:18:12.121+0000</td><td>100.0</td></tr><tr><td>2024-02-29T22:23:34.663+0000</td><td>0.0</td></tr><tr><td>2024-02-29T22:27:58.624+0000</td><td>0.0</td></tr><tr><td>2024-02-29T22:32:41.123+0000</td><td>100.0</td></tr><tr><td>2024-02-29T22:37:05.020+0000</td><td>100.0</td></tr><tr><td>2024-02-29T22:43:56.157+0000</td><td>100.0</td></tr><tr><td>2024-02-29T22:48:55.347+0000</td><td>100.0</td></tr><tr><td>2024-02-29T22:52:51.884+0000</td><td>100.0</td></tr><tr><td>2024-02-29T22:58:41.237+0000</td><td>100.0</td></tr><tr><td>2024-02-29T23:02:27.986+0000</td><td>0.0</td></tr><tr><td>2024-02-29T23:07:40.518+0000</td><td>100.0</td></tr><tr><td>2024-02-29T23:10:42.938+0000</td><td>100.0</td></tr><tr><td>2024-02-29T23:14:23.247+0000</td><td>100.0</td></tr><tr><td>2024-02-29T23:19:35.059+0000</td><td>0.0</td></tr><tr><td>2024-02-29T23:25:19.367+0000</td><td>0.0</td></tr><tr><td>2024-02-29T23:30:29.649+0000</td><td>100.0</td></tr><tr><td>2024-02-29T23:35:22.710+0000</td><td>100.0</td></tr><tr><td>2024-02-29T23:40:04.644+0000</td><td>100.0</td></tr><tr><td>2024-02-29T23:43:35.932+0000</td><td>100.0</td></tr><tr><td>2024-02-29T23:47:52.742+0000</td><td>100.0</td></tr><tr><td>2024-02-29T23:52:25.103+0000</td><td>100.0</td></tr><tr><td>2024-02-29T23:58:28.531+0000</td><td>100.0</td></tr><tr><td>2024-03-01T00:03:49.148+0000</td><td>100.0</td></tr><tr><td>2024-03-01T00:07:03.365+0000</td><td>100.0</td></tr><tr><td>2024-03-01T00:12:22.810+0000</td><td>100.0</td></tr><tr><td>2024-03-01T00:16:59.705+0000</td><td>100.0</td></tr><tr><td>2024-03-01T00:21:19.090+0000</td><td>100.0</td></tr><tr><td>2024-03-01T00:26:55.791+0000</td><td>100.0</td></tr><tr><td>2024-03-01T00:32:57.651+0000</td><td>100.0</td></tr><tr><td>2024-03-01T00:38:53.527+0000</td><td>100.0</td></tr><tr><td>2024-03-01T00:43:03.174+0000</td><td>100.0</td></tr><tr><td>2024-03-01T00:47:44.622+0000</td><td>100.0</td></tr><tr><td>2024-03-01T00:53:04.497+0000</td><td>100.0</td></tr><tr><td>2024-03-01T00:59:03.030+0000</td><td>100.0</td></tr><tr><td>2024-03-01T01:03:34.280+0000</td><td>0.0</td></tr><tr><td>2024-03-01T01:08:23.140+0000</td><td>100.0</td></tr><tr><td>2024-03-01T01:12:16.760+0000</td><td>100.0</td></tr><tr><td>2024-03-01T01:16:04.988+0000</td><td>0.0</td></tr><tr><td>2024-03-01T01:21:53.739+0000</td><td>100.0</td></tr><tr><td>2024-03-01T01:28:15.114+0000</td><td>100.0</td></tr><tr><td>2024-03-01T01:33:10.793+0000</td><td>100.0</td></tr><tr><td>2024-03-01T01:39:11.005+0000</td><td>100.0</td></tr><tr><td>2024-03-01T01:44:32.703+0000</td><td>100.0</td></tr><tr><td>2024-03-01T01:48:53.996+0000</td><td>100.0</td></tr><tr><td>2024-03-01T01:54:15.680+0000</td><td>100.0</td></tr><tr><td>2024-03-01T02:00:47.962+0000</td><td>0.0</td></tr><tr><td>2024-03-01T02:05:45.812+0000</td><td>100.0</td></tr><tr><td>2024-03-01T02:12:19.691+0000</td><td>100.0</td></tr><tr><td>2024-03-01T02:14:42.506+0000</td><td>100.0</td></tr><tr><td>2024-03-01T02:20:31.820+0000</td><td>100.0</td></tr><tr><td>2024-03-01T02:25:37.043+0000</td><td>100.0</td></tr><tr><td>2024-03-01T02:30:19.103+0000</td><td>100.0</td></tr><tr><td>2024-03-01T02:35:24.608+0000</td><td>100.0</td></tr><tr><td>2024-03-01T02:38:25.354+0000</td><td>100.0</td></tr><tr><td>2024-03-01T02:43:12.174+0000</td><td>100.0</td></tr><tr><td>2024-03-01T02:48:33.601+0000</td><td>100.0</td></tr><tr><td>2024-03-01T02:55:02.274+0000</td><td>100.0</td></tr><tr><td>2024-03-01T02:59:31.178+0000</td><td>100.0</td></tr><tr><td>2024-03-01T03:03:42.669+0000</td><td>100.0</td></tr><tr><td>2024-03-01T03:08:12.563+0000</td><td>0.0</td></tr><tr><td>2024-03-01T03:14:07.487+0000</td><td>100.0</td></tr><tr><td>2024-03-01T03:19:27.212+0000</td><td>100.0</td></tr><tr><td>2024-03-01T03:23:55.427+0000</td><td>100.0</td></tr><tr><td>2024-03-01T03:29:26.223+0000</td><td>100.0</td></tr><tr><td>2024-03-01T03:34:32.047+0000</td><td>100.0</td></tr><tr><td>2024-03-01T03:40:30.166+0000</td><td>100.0</td></tr><tr><td>2024-03-01T03:44:48.043+0000</td><td>100.0</td></tr><tr><td>2024-03-01T03:49:28.383+0000</td><td>100.0</td></tr><tr><td>2024-03-01T03:54:04.857+0000</td><td>100.0</td></tr><tr><td>2024-03-01T03:57:37.046+0000</td><td>100.0</td></tr><tr><td>2024-03-01T04:02:54.813+0000</td><td>100.0</td></tr><tr><td>2024-03-01T04:08:10.476+0000</td><td>100.0</td></tr><tr><td>2024-03-01T04:13:10.783+0000</td><td>100.0</td></tr><tr><td>2024-03-01T04:17:56.708+0000</td><td>100.0</td></tr></tbody></table></div>"
      ]
     },
     "metadata": {
      "application/vnd.databricks.v1+output": {
       "addedWidgets": {},
       "aggData": [],
       "aggError": "",
       "aggOverflow": false,
       "aggSchema": [],
       "aggSeriesLimitReached": false,
       "aggType": "",
       "arguments": {},
       "columnCustomDisplayInfos": {},
       "data": [
        [
         "2024-02-29T20:13:49.590+0000",
         100.0
        ],
        [
         "2024-02-29T20:18:41.294+0000",
         100.0
        ],
        [
         "2024-02-29T20:24:20.155+0000",
         100.0
        ],
        [
         "2024-02-29T20:30:51.537+0000",
         100.0
        ],
        [
         "2024-02-29T20:35:37.488+0000",
         100.0
        ],
        [
         "2024-02-29T20:40:23.440+0000",
         100.0
        ],
        [
         "2024-02-29T20:46:58.192+0000",
         100.0
        ],
        [
         "2024-02-29T20:52:44.239+0000",
         100.0
        ],
        [
         "2024-02-29T20:57:16.070+0000",
         100.0
        ],
        [
         "2024-02-29T21:02:48.624+0000",
         100.0
        ],
        [
         "2024-02-29T21:07:20.819+0000",
         100.0
        ],
        [
         "2024-02-29T21:11:52.875+0000",
         100.0
        ],
        [
         "2024-02-29T21:17:07.393+0000",
         100.0
        ],
        [
         "2024-02-29T21:20:12.596+0000",
         100.0
        ],
        [
         "2024-02-29T21:23:29.101+0000",
         100.0
        ],
        [
         "2024-02-29T21:27:55.363+0000",
         100.0
        ],
        [
         "2024-02-29T21:31:54.594+0000",
         100.0
        ],
        [
         "2024-02-29T21:37:13.448+0000",
         100.0
        ],
        [
         "2024-02-29T21:41:18.967+0000",
         100.0
        ],
        [
         "2024-02-29T21:44:54.229+0000",
         100.0
        ],
        [
         "2024-02-29T21:51:22.168+0000",
         100.0
        ],
        [
         "2024-02-29T21:56:08.621+0000",
         100.0
        ],
        [
         "2024-02-29T22:01:12.673+0000",
         100.0
        ],
        [
         "2024-02-29T22:04:47.188+0000",
         0.0
        ],
        [
         "2024-02-29T22:09:14.525+0000",
         100.0
        ],
        [
         "2024-02-29T22:14:21.180+0000",
         100.0
        ],
        [
         "2024-02-29T22:18:12.121+0000",
         100.0
        ],
        [
         "2024-02-29T22:23:34.663+0000",
         0.0
        ],
        [
         "2024-02-29T22:27:58.624+0000",
         0.0
        ],
        [
         "2024-02-29T22:32:41.123+0000",
         100.0
        ],
        [
         "2024-02-29T22:37:05.020+0000",
         100.0
        ],
        [
         "2024-02-29T22:43:56.157+0000",
         100.0
        ],
        [
         "2024-02-29T22:48:55.347+0000",
         100.0
        ],
        [
         "2024-02-29T22:52:51.884+0000",
         100.0
        ],
        [
         "2024-02-29T22:58:41.237+0000",
         100.0
        ],
        [
         "2024-02-29T23:02:27.986+0000",
         0.0
        ],
        [
         "2024-02-29T23:07:40.518+0000",
         100.0
        ],
        [
         "2024-02-29T23:10:42.938+0000",
         100.0
        ],
        [
         "2024-02-29T23:14:23.247+0000",
         100.0
        ],
        [
         "2024-02-29T23:19:35.059+0000",
         0.0
        ],
        [
         "2024-02-29T23:25:19.367+0000",
         0.0
        ],
        [
         "2024-02-29T23:30:29.649+0000",
         100.0
        ],
        [
         "2024-02-29T23:35:22.710+0000",
         100.0
        ],
        [
         "2024-02-29T23:40:04.644+0000",
         100.0
        ],
        [
         "2024-02-29T23:43:35.932+0000",
         100.0
        ],
        [
         "2024-02-29T23:47:52.742+0000",
         100.0
        ],
        [
         "2024-02-29T23:52:25.103+0000",
         100.0
        ],
        [
         "2024-02-29T23:58:28.531+0000",
         100.0
        ],
        [
         "2024-03-01T00:03:49.148+0000",
         100.0
        ],
        [
         "2024-03-01T00:07:03.365+0000",
         100.0
        ],
        [
         "2024-03-01T00:12:22.810+0000",
         100.0
        ],
        [
         "2024-03-01T00:16:59.705+0000",
         100.0
        ],
        [
         "2024-03-01T00:21:19.090+0000",
         100.0
        ],
        [
         "2024-03-01T00:26:55.791+0000",
         100.0
        ],
        [
         "2024-03-01T00:32:57.651+0000",
         100.0
        ],
        [
         "2024-03-01T00:38:53.527+0000",
         100.0
        ],
        [
         "2024-03-01T00:43:03.174+0000",
         100.0
        ],
        [
         "2024-03-01T00:47:44.622+0000",
         100.0
        ],
        [
         "2024-03-01T00:53:04.497+0000",
         100.0
        ],
        [
         "2024-03-01T00:59:03.030+0000",
         100.0
        ],
        [
         "2024-03-01T01:03:34.280+0000",
         0.0
        ],
        [
         "2024-03-01T01:08:23.140+0000",
         100.0
        ],
        [
         "2024-03-01T01:12:16.760+0000",
         100.0
        ],
        [
         "2024-03-01T01:16:04.988+0000",
         0.0
        ],
        [
         "2024-03-01T01:21:53.739+0000",
         100.0
        ],
        [
         "2024-03-01T01:28:15.114+0000",
         100.0
        ],
        [
         "2024-03-01T01:33:10.793+0000",
         100.0
        ],
        [
         "2024-03-01T01:39:11.005+0000",
         100.0
        ],
        [
         "2024-03-01T01:44:32.703+0000",
         100.0
        ],
        [
         "2024-03-01T01:48:53.996+0000",
         100.0
        ],
        [
         "2024-03-01T01:54:15.680+0000",
         100.0
        ],
        [
         "2024-03-01T02:00:47.962+0000",
         0.0
        ],
        [
         "2024-03-01T02:05:45.812+0000",
         100.0
        ],
        [
         "2024-03-01T02:12:19.691+0000",
         100.0
        ],
        [
         "2024-03-01T02:14:42.506+0000",
         100.0
        ],
        [
         "2024-03-01T02:20:31.820+0000",
         100.0
        ],
        [
         "2024-03-01T02:25:37.043+0000",
         100.0
        ],
        [
         "2024-03-01T02:30:19.103+0000",
         100.0
        ],
        [
         "2024-03-01T02:35:24.608+0000",
         100.0
        ],
        [
         "2024-03-01T02:38:25.354+0000",
         100.0
        ],
        [
         "2024-03-01T02:43:12.174+0000",
         100.0
        ],
        [
         "2024-03-01T02:48:33.601+0000",
         100.0
        ],
        [
         "2024-03-01T02:55:02.274+0000",
         100.0
        ],
        [
         "2024-03-01T02:59:31.178+0000",
         100.0
        ],
        [
         "2024-03-01T03:03:42.669+0000",
         100.0
        ],
        [
         "2024-03-01T03:08:12.563+0000",
         0.0
        ],
        [
         "2024-03-01T03:14:07.487+0000",
         100.0
        ],
        [
         "2024-03-01T03:19:27.212+0000",
         100.0
        ],
        [
         "2024-03-01T03:23:55.427+0000",
         100.0
        ],
        [
         "2024-03-01T03:29:26.223+0000",
         100.0
        ],
        [
         "2024-03-01T03:34:32.047+0000",
         100.0
        ],
        [
         "2024-03-01T03:40:30.166+0000",
         100.0
        ],
        [
         "2024-03-01T03:44:48.043+0000",
         100.0
        ],
        [
         "2024-03-01T03:49:28.383+0000",
         100.0
        ],
        [
         "2024-03-01T03:54:04.857+0000",
         100.0
        ],
        [
         "2024-03-01T03:57:37.046+0000",
         100.0
        ],
        [
         "2024-03-01T04:02:54.813+0000",
         100.0
        ],
        [
         "2024-03-01T04:08:10.476+0000",
         100.0
        ],
        [
         "2024-03-01T04:13:10.783+0000",
         100.0
        ],
        [
         "2024-03-01T04:17:56.708+0000",
         100.0
        ]
       ],
       "datasetInfos": [],
       "dbfsResultPath": null,
       "isJsonSchema": true,
       "metadata": {},
       "overflow": false,
       "plotOptions": {
        "customPlotOptions": {},
        "displayType": "table",
        "pivotAggregation": null,
        "pivotColumns": null,
        "xColumns": null,
        "yColumns": null
       },
       "removedWidgets": [],
       "schema": [
        {
         "metadata": "{}",
         "name": "DateTime",
         "type": "\"timestamp\""
        },
        {
         "metadata": "{}",
         "name": "Order Correct Percentage",
         "type": "\"double\""
        }
       ],
       "type": "table"
      }
     },
     "output_type": "display_data"
    },
    {
     "output_type": "display_data",
     "data": {
      "text/plain": [
       "Databricks visualization. Run in Databricks to view."
      ]
     },
     "metadata": {
      "application/vnd.databricks.v1.subcommand+json": {
       "baseErrorDetails": null,
       "bindings": {},
       "collapsed": false,
       "command": "%python\n__backend_agg_display_orig = display\n__backend_agg_dfs = []\ndef __backend_agg_display_new(df):\n    __backend_agg_df_modules = [\"pandas.core.frame\", \"databricks.koalas.frame\", \"pyspark.sql.dataframe\", \"pyspark.pandas.frame\", \"pyspark.sql.connect.dataframe\"]\n    if (type(df).__module__ in __backend_agg_df_modules and type(df).__name__ == 'DataFrame') or isinstance(df, list):\n        __backend_agg_dfs.append(df)\n\ndisplay = __backend_agg_display_new\n\ndef __backend_agg_user_code_fn():\n    import base64\n    exec(base64.standard_b64decode(\"ZnJvbSBweXNwYXJrLnNxbC5mdW5jdGlvbnMgaW1wb3J0IHN1bSBhcyBfc3VtLCBjb3VudCBhcyBfY291bnQsIGNvbAoKIyBDYWxjdWxhdGUgZGFpbHkgcGVyY2VudGFnZSBvZiBvcmRlcnMgdGhhdCB3ZXJlIGNvcnJlY3QKb3JkZXJfY29ycmVjdF9kYWlseV9wZXJjZW50YWdlID0gdGlsbF9kZi5ncm91cEJ5KCJEYXRlVGltZSIpLmFnZygKICAgIChfc3VtKGNvbCgiT3JkZXIgQ29ycmVjdCIpLmNhc3QoImludCIpKSAvIF9jb3VudCgiKiIpICogMTAwKS5hbGlhcygiT3JkZXIgQ29ycmVjdCBQZXJjZW50YWdlIikKKS5vcmRlckJ5KCJEYXRlVGltZSIpCgojIERpc3BsYXkgdGhlIERhdGFGcmFtZSBmb3IgcGxvdHRpbmcgaW4gRGF0YWJyaWNrcwpkaXNwbGF5KG9yZGVyX2NvcnJlY3RfZGFpbHlfcGVyY2VudGFnZSk=\").decode())\n\ntry:\n    # run user code\n    __backend_agg_user_code_fn()\n\n    #reset display function\n    display = __backend_agg_display_orig\n\n    if len(__backend_agg_dfs) > 0:\n        # create a temp view\n        if type(__backend_agg_dfs[0]).__module__ == \"databricks.koalas.frame\":\n            # koalas dataframe\n            __backend_agg_dfs[0].to_spark().createOrReplaceTempView(\"DatabricksViewf20ad3c\")\n        elif type(__backend_agg_dfs[0]).__module__ == \"pandas.core.frame\" or isinstance(__backend_agg_dfs[0], list):\n            # pandas dataframe\n            spark.createDataFrame(__backend_agg_dfs[0]).createOrReplaceTempView(\"DatabricksViewf20ad3c\")\n        else:\n            __backend_agg_dfs[0].createOrReplaceTempView(\"DatabricksViewf20ad3c\")\n        #run backend agg\n        display(spark.sql(\"\"\"WITH q AS (select * from DatabricksViewf20ad3c) SELECT `DateTime`,SUM(`Order Correct Percentage`) `column_ce0a2ab510` FROM q GROUP BY `DateTime`\"\"\"))\n    else:\n        displayHTML(\"dataframe no longer exists. If you're using dataframe.display(), use display(dataframe) instead.\")\n\n\nfinally:\n    spark.sql(\"drop view if exists DatabricksViewf20ad3c\")\n    display = __backend_agg_display_orig\n    del __backend_agg_display_new\n    del __backend_agg_display_orig\n    del __backend_agg_dfs\n    del __backend_agg_user_code_fn\n\n",
       "commandTitle": "Visualization 1",
       "commandType": "auto",
       "commandVersion": 0,
       "commentThread": [],
       "commentsVisible": false,
       "contentSha256Hex": null,
       "customPlotOptions": {
        "redashChart": [
         {
          "key": "type",
          "value": "CHART"
         },
         {
          "key": "options",
          "value": {
           "alignYAxesAtZero": true,
           "coefficient": 1,
           "columnConfigurationMap": {
            "x": {
             "column": "DateTime",
             "id": "column_ce0a2ab59"
            },
            "y": [
             {
              "column": "Order Correct Percentage",
              "id": "column_ce0a2ab510",
              "transform": "SUM"
             }
            ]
           },
           "dateTimeFormat": "DD/MM/YYYY HH:mm",
           "direction": {
            "type": "counterclockwise"
           },
           "error_y": {
            "type": "data",
            "visible": true
           },
           "globalSeriesType": "line",
           "isAggregationOn": true,
           "legend": {
            "traceorder": "normal"
           },
           "missingValuesAsZero": true,
           "numberFormat": "0,0.[00000]",
           "percentFormat": "0[.]00%",
           "series": {
            "error_y": {
             "type": "data",
             "visible": true
            },
            "stacking": null
           },
           "seriesOptions": {
            "column_ce0a2ab510": {
             "color": "#FFAB00",
             "name": "Order Correct Percentage",
             "yAxis": 0
            }
           },
           "showDataLabels": false,
           "sizemode": "diameter",
           "sortX": true,
           "sortY": true,
           "swappedAxes": false,
           "textFormat": "",
           "useAggregationsUi": true,
           "valuesOptions": {},
           "version": 2,
           "xAxis": {
            "labels": {
             "enabled": true
            },
            "type": "-"
           },
           "yAxis": [
            {
             "type": "-"
            },
            {
             "opposite": true,
             "type": "-"
            }
           ]
          }
         }
        ]
       },
       "datasetPreviewNameToCmdIdMap": {},
       "diffDeletes": [],
       "diffInserts": [],
       "displayType": "redashChart",
       "error": null,
       "errorDetails": null,
       "errorSummary": null,
       "errorTraceType": null,
       "finishTime": 0,
       "globalVars": {},
       "guid": "",
       "height": "auto",
       "hideCommandCode": false,
       "hideCommandResult": false,
       "iPythonMetadata": null,
       "inputWidgets": {},
       "isLockedInExamMode": false,
       "latestUser": "a user",
       "latestUserId": null,
       "listResultMetadata": null,
       "metadata": {
        "byteLimit": 2048000,
        "rowLimit": 10000
       },
       "nuid": "c12715e8-d570-4c1f-8353-5b2e6b5a5106",
       "origId": 0,
       "parentHierarchy": [],
       "pivotAggregation": null,
       "pivotColumns": null,
       "position": 1.99609375,
       "resultDbfsErrorMessage": null,
       "resultDbfsStatus": "INLINED_IN_TREE",
       "results": null,
       "showCommandTitle": false,
       "startTime": 0,
       "state": "finished",
       "streamStates": {},
       "subcommandOptions": {
        "queryPlan": {
         "groups": [
          {
           "column": "DateTime",
           "type": "column"
          }
         ],
         "selects": [
          {
           "column": "DateTime",
           "type": "column"
          },
          {
           "alias": "column_ce0a2ab510",
           "args": [
            {
             "column": "Order Correct Percentage",
             "type": "column"
            }
           ],
           "function": "SUM",
           "type": "function"
          }
         ]
        }
       },
       "submitTime": 0,
       "subtype": "tableResultSubCmd.visualization",
       "tableResultIndex": 0,
       "useConsistentColors": false,
       "version": "CommandV1",
       "width": "auto",
       "workflows": [],
       "xColumns": null,
       "yColumns": null
      }
     },
     "output_type": "display_data"
    }
   ],
   "source": [
    "from pyspark.sql.functions import sum as _sum, count as _count, col\n",
    "\n",
    "# Calculate daily percentage of orders that were correct\n",
    "order_correct_daily_percentage = till_df.groupBy(\"DateTime\").agg(\n",
    "    (_sum(col(\"Order Correct\").cast(\"int\")) / _count(\"*\") * 100).alias(\"Order Correct Percentage\")\n",
    ").orderBy(\"DateTime\")\n",
    "\n",
    "# Display the DataFrame for plotting in Databricks\n",
    "display(order_correct_daily_percentage)"
   ]
  },
  {
   "cell_type": "markdown",
   "metadata": {
    "application/vnd.databricks.v1+cell": {
     "cellMetadata": {
      "byteLimit": 2048000,
      "rowLimit": 10000
     },
     "inputWidgets": {},
     "nuid": "27cedd75-9162-443a-bb1e-45952bbba208",
     "showTitle": false,
     "title": ""
    }
   },
   "source": [
    "# Using Databricks Plotting Tool\n",
    "After running each cell, you can use Databricks' built-in plotting tool to create line charts for each metric. Here's how to do it for each cell's output:\n",
    "\n",
    "For the output of each cell, you'll see a table with your data and a set of options for visualization at the bottom of the cell's output area.\n",
    "Select the 'Line' chart option from the visualization menu.\n",
    "Configure the chart:\n",
    "For the X-axis, select Date.\n",
    "For the Y-axis, choose the corresponding metric (e.g., the average for order processing time, the sum for sales amount, and the percentage for order correctness).\n",
    "Apply any additional customizations as needed, such as titles, axis labels, or line colors.\n",
    "By following these instructions, you'll be able to visualize trends in order processing time, sales amount, and order accuracy over time, providing valuable insights into the till shop's daily operations and areas for potential improvement."
   ]
  },
  {
   "cell_type": "markdown",
   "metadata": {
    "application/vnd.databricks.v1+cell": {
     "cellMetadata": {
      "byteLimit": 2048000,
      "rowLimit": 10000
     },
     "inputWidgets": {},
     "nuid": "88526d3e-c578-453a-879e-8f568370281c",
     "showTitle": false,
     "title": ""
    }
   },
   "source": [
    "# Run Chart\n",
    "Creating run charts for the specified metrics involves a similar process to generating line charts, focusing on the same metrics but with an emphasis on identifying trends, shifts, or patterns over time. In a Databricks notebook, you'll use the same aggregation methods to prepare the data. A run chart essentially is a line chart with a focus on analyzing the data over time, so the preparation of data remains consistent. Below are the code snippets for each metric to be run in separate cells in a Databricks notebook."
   ]
  },
  {
   "cell_type": "markdown",
   "metadata": {
    "application/vnd.databricks.v1+cell": {
     "cellMetadata": {
      "byteLimit": 2048000,
      "rowLimit": 10000
     },
     "inputWidgets": {},
     "nuid": "a99f81c5-3156-4db6-9d11-1a0f7905ca6d",
     "showTitle": false,
     "title": ""
    }
   },
   "source": [
    "## Mean or Median\n",
    "The choice between mean and median depends on the data's distribution and the presence of outliers. The mean, providing the arithmetic average, is best used for data that is symmetrically distributed with few outliers, as it considers all values. However, it can be misleading for skewed distributions or when outliers significantly impact the average. The median, identifying the middle value, is more robust in skewed distributions or when outliers are present, as it is less affected by extreme values. For small datasets, both can be informative, but for larger datasets, the median can provide a clearer picture of central tendency in the presence of skewness or outliers."
   ]
  },
  {
   "cell_type": "markdown",
   "metadata": {
    "application/vnd.databricks.v1+cell": {
     "cellMetadata": {
      "byteLimit": 2048000,
      "rowLimit": 10000
     },
     "inputWidgets": {},
     "nuid": "c65da96b-a159-496b-91e7-259e74f47df5",
     "showTitle": false,
     "title": ""
    }
   },
   "source": [
    "### GO TO:\n",
    "Median as Measure of Central Tendency\n",
    "Mean as Measure of Central Tendency"
   ]
  },
  {
   "cell_type": "markdown",
   "metadata": {
    "application/vnd.databricks.v1+cell": {
     "cellMetadata": {
      "byteLimit": 2048000,
      "rowLimit": 10000
     },
     "inputWidgets": {},
     "nuid": "1472cb19-91c2-4166-b32d-d31596ce81be",
     "showTitle": false,
     "title": ""
    }
   },
   "source": [
    "### Median as Measure of Central Tendency"
   ]
  },
  {
   "cell_type": "markdown",
   "metadata": {
    "application/vnd.databricks.v1+cell": {
     "cellMetadata": {
      "byteLimit": 2048000,
      "rowLimit": 10000
     },
     "inputWidgets": {},
     "nuid": "988ee420-dd7a-40c7-91cd-70ae8e307650",
     "showTitle": false,
     "title": ""
    }
   },
   "source": [
    "\n",
    "#### 1. Order Processing Time (mins) (Median)\n",
    "Calculate the average order processing time per day:\n"
   ]
  },
  {
   "cell_type": "code",
   "execution_count": 0,
   "metadata": {
    "application/vnd.databricks.v1+cell": {
     "cellMetadata": {
      "byteLimit": 2048000,
      "rowLimit": 10000
     },
     "inputWidgets": {},
     "nuid": "9538aaa0-bd1c-42fb-89e6-b5c8b738ed05",
     "showTitle": false,
     "title": ""
    }
   },
   "outputs": [
    {
     "output_type": "display_data",
     "data": {
      "text/html": [
       "<style scoped>\n",
       "  .table-result-container {\n",
       "    max-height: 300px;\n",
       "    overflow: auto;\n",
       "  }\n",
       "  table, th, td {\n",
       "    border: 1px solid black;\n",
       "    border-collapse: collapse;\n",
       "  }\n",
       "  th, td {\n",
       "    padding: 5px;\n",
       "  }\n",
       "  th {\n",
       "    text-align: left;\n",
       "  }\n",
       "</style><div class='table-result-container'><table class='table-result'><thead style='background-color: white'><tr><th>DateTime</th><th>avg(Order Processing Time (mins))</th><th>Median Order Processing Time</th></tr></thead><tbody><tr><td>2024-02-29T20:13:49.590+0000</td><td>2.1692585158991715</td><td>5.137125949612055</td></tr><tr><td>2024-02-29T20:18:41.294+0000</td><td>4.158709354469282</td><td>5.137125949612055</td></tr><tr><td>2024-02-29T20:24:20.155+0000</td><td>4.314570966946461</td><td>5.137125949612055</td></tr><tr><td>2024-02-29T20:30:51.537+0000</td><td>3.395445461556762</td><td>5.137125949612055</td></tr><tr><td>2024-02-29T20:35:37.488+0000</td><td>4.677428576667982</td><td>5.137125949612055</td></tr><tr><td>2024-02-29T20:40:23.440+0000</td><td>5.8081017136290765</td><td>5.137125949612055</td></tr><tr><td>2024-02-29T20:46:58.192+0000</td><td>8.77237180242106</td><td>5.137125949612055</td></tr><tr><td>2024-02-29T20:52:44.239+0000</td><td>5.349155625663678</td><td>5.137125949612055</td></tr><tr><td>2024-02-29T20:57:16.070+0000</td><td>5.515100781445529</td><td>5.137125949612055</td></tr><tr><td>2024-02-29T21:02:48.624+0000</td><td>4.851108168467666</td><td>5.137125949612055</td></tr><tr><td>2024-02-29T21:07:20.819+0000</td><td>1.162457569401917</td><td>5.137125949612055</td></tr><tr><td>2024-02-29T21:11:52.875+0000</td><td>4.946972249101567</td><td>5.137125949612055</td></tr><tr><td>2024-02-29T21:17:07.393+0000</td><td>5.120460419882053</td><td>5.137125949612055</td></tr><tr><td>2024-02-29T21:20:12.596+0000</td><td>9.926484224970572</td><td>5.137125949612055</td></tr><tr><td>2024-02-29T21:23:29.101+0000</td><td>4.615278070437755</td><td>5.137125949612055</td></tr><tr><td>2024-02-29T21:27:55.363+0000</td><td>5.603094684667225</td><td>5.137125949612055</td></tr><tr><td>2024-02-29T21:31:54.594+0000</td><td>4.9305764605895135</td><td>5.137125949612055</td></tr><tr><td>2024-02-29T21:37:13.448+0000</td><td>2.662643924760936</td><td>5.137125949612055</td></tr><tr><td>2024-02-29T21:41:18.967+0000</td><td>7.285645629030041</td><td>5.137125949612055</td></tr><tr><td>2024-02-29T21:44:54.229+0000</td><td>6.503866065373549</td><td>5.137125949612055</td></tr><tr><td>2024-02-29T21:51:22.168+0000</td><td>6.582063894086094</td><td>5.137125949612055</td></tr><tr><td>2024-02-29T21:56:08.621+0000</td><td>3.181225090410522</td><td>5.137125949612055</td></tr><tr><td>2024-02-29T22:01:12.673+0000</td><td>7.805588621872198</td><td>5.137125949612055</td></tr><tr><td>2024-02-29T22:04:47.188+0000</td><td>2.1962978744154382</td><td>5.137125949612055</td></tr><tr><td>2024-02-29T22:09:14.525+0000</td><td>6.173714187600541</td><td>5.137125949612055</td></tr><tr><td>2024-02-29T22:14:21.180+0000</td><td>9.380911251619956</td><td>5.137125949612055</td></tr><tr><td>2024-02-29T22:18:12.121+0000</td><td>3.0189273497386235</td><td>5.137125949612055</td></tr><tr><td>2024-02-29T22:23:34.663+0000</td><td>3.867404540794456</td><td>5.137125949612055</td></tr><tr><td>2024-02-29T22:27:58.624+0000</td><td>5.199302730175282</td><td>5.137125949612055</td></tr><tr><td>2024-02-29T22:32:41.123+0000</td><td>3.9930486917676014</td><td>5.137125949612055</td></tr><tr><td>2024-02-29T22:37:05.020+0000</td><td>1.8986731378677346</td><td>5.137125949612055</td></tr><tr><td>2024-02-29T22:43:56.157+0000</td><td>5.137125949612055</td><td>5.137125949612055</td></tr><tr><td>2024-02-29T22:48:55.347+0000</td><td>2.8753925725477902</td><td>5.137125949612055</td></tr><tr><td>2024-02-29T22:52:51.884+0000</td><td>5.9471848612703635</td><td>5.137125949612055</td></tr><tr><td>2024-02-29T22:58:41.237+0000</td><td>3.1611515315323935</td><td>5.137125949612055</td></tr><tr><td>2024-02-29T23:02:27.986+0000</td><td>8.09986881003508</td><td>5.137125949612055</td></tr><tr><td>2024-02-29T23:07:40.518+0000</td><td>3.4334934153275256</td><td>5.137125949612055</td></tr><tr><td>2024-02-29T23:10:42.938+0000</td><td>4.355876967588649</td><td>5.137125949612055</td></tr><tr><td>2024-02-29T23:14:23.247+0000</td><td>6.62703443473934</td><td>5.137125949612055</td></tr><tr><td>2024-02-29T23:19:35.059+0000</td><td>2.5382713671320896</td><td>5.137125949612055</td></tr><tr><td>2024-02-29T23:25:19.367+0000</td><td>5.4549198692082586</td><td>5.137125949612055</td></tr><tr><td>2024-02-29T23:30:29.649+0000</td><td>7.614285508564857</td><td>5.137125949612055</td></tr><tr><td>2024-02-29T23:35:22.710+0000</td><td>1.785033530877545</td><td>5.137125949612055</td></tr><tr><td>2024-02-29T23:40:04.644+0000</td><td>5.369267717064608</td><td>5.137125949612055</td></tr><tr><td>2024-02-29T23:43:35.932+0000</td><td>5.519765588496847</td><td>5.137125949612055</td></tr><tr><td>2024-02-29T23:47:52.742+0000</td><td>6.563645743554621</td><td>5.137125949612055</td></tr><tr><td>2024-02-29T23:52:25.103+0000</td><td>2.526098578243836</td><td>5.137125949612055</td></tr><tr><td>2024-02-29T23:58:28.531+0000</td><td>2.3590867738314474</td><td>5.137125949612055</td></tr><tr><td>2024-03-01T00:03:49.148+0000</td><td>6.0438831312337955</td><td>5.137125949612055</td></tr><tr><td>2024-03-01T00:07:03.365+0000</td><td>5.5939693464663724</td><td>5.137125949612055</td></tr><tr><td>2024-03-01T00:12:22.810+0000</td><td>5.5009857006917535</td><td>5.137125949612055</td></tr><tr><td>2024-03-01T00:16:59.705+0000</td><td>5.692896418993952</td><td>5.137125949612055</td></tr><tr><td>2024-03-01T00:21:19.090+0000</td><td>3.6399505568430186</td><td>5.137125949612055</td></tr><tr><td>2024-03-01T00:26:55.791+0000</td><td>5.464507394322007</td><td>5.137125949612055</td></tr><tr><td>2024-03-01T00:32:57.651+0000</td><td>5.586144946597362</td><td>5.137125949612055</td></tr><tr><td>2024-03-01T00:38:53.527+0000</td><td>3.571297163947264</td><td>5.137125949612055</td></tr><tr><td>2024-03-01T00:43:03.174+0000</td><td>8.731549022289514</td><td>5.137125949612055</td></tr><tr><td>2024-03-01T00:47:44.622+0000</td><td>5.947665841823575</td><td>5.137125949612055</td></tr><tr><td>2024-03-01T00:53:04.497+0000</td><td>2.617393005594703</td><td>5.137125949612055</td></tr><tr><td>2024-03-01T00:59:03.030+0000</td><td>6.313107217267659</td><td>5.137125949612055</td></tr><tr><td>2024-03-01T01:03:34.280+0000</td><td>3.050636659545357</td><td>5.137125949612055</td></tr><tr><td>2024-03-01T01:08:23.140+0000</td><td>6.574169207484904</td><td>5.137125949612055</td></tr><tr><td>2024-03-01T01:12:16.760+0000</td><td>7.317191158014808</td><td>5.137125949612055</td></tr><tr><td>2024-03-01T01:16:04.988+0000</td><td>3.358635363296579</td><td>5.137125949612055</td></tr><tr><td>2024-03-01T01:21:53.739+0000</td><td>6.926752258488643</td><td>5.137125949612055</td></tr><tr><td>2024-03-01T01:28:15.114+0000</td><td>5.825561853872997</td><td>5.137125949612055</td></tr><tr><td>2024-03-01T01:33:10.793+0000</td><td>6.64412031998898</td><td>5.137125949612055</td></tr><tr><td>2024-03-01T01:39:11.005+0000</td><td>8.793585965307894</td><td>5.137125949612055</td></tr><tr><td>2024-03-01T01:44:32.703+0000</td><td>4.509223767994259</td><td>5.137125949612055</td></tr><tr><td>2024-03-01T01:48:53.996+0000</td><td>3.492527671285021</td><td>5.137125949612055</td></tr><tr><td>2024-03-01T01:54:15.680+0000</td><td>3.2209711407489534</td><td>5.137125949612055</td></tr><tr><td>2024-03-01T02:00:47.962+0000</td><td>3.3683794300691234</td><td>5.137125949612055</td></tr><tr><td>2024-03-01T02:05:45.812+0000</td><td>4.845796581171792</td><td>5.137125949612055</td></tr><tr><td>2024-03-01T02:12:19.691+0000</td><td>5.682303949633288</td><td>5.137125949612055</td></tr><tr><td>2024-03-01T02:14:42.506+0000</td><td>5.553381598660038</td><td>5.137125949612055</td></tr><tr><td>2024-03-01T02:20:31.820+0000</td><td>6.654366498072047</td><td>5.137125949612055</td></tr><tr><td>2024-03-01T02:25:37.043+0000</td><td>5.026003783755814</td><td>5.137125949612055</td></tr><tr><td>2024-03-01T02:30:19.103+0000</td><td>7.907068154314634</td><td>5.137125949612055</td></tr><tr><td>2024-03-01T02:35:24.608+0000</td><td>4.470686333524088</td><td>5.137125949612055</td></tr><tr><td>2024-03-01T02:38:25.354+0000</td><td>10.440338333179238</td><td>5.137125949612055</td></tr><tr><td>2024-03-01T02:43:12.174+0000</td><td>6.251334695530012</td><td>5.137125949612055</td></tr><tr><td>2024-03-01T02:48:33.601+0000</td><td>3.285684887167435</td><td>5.137125949612055</td></tr><tr><td>2024-03-01T02:55:02.274+0000</td><td>2.8582150038777754</td><td>5.137125949612055</td></tr><tr><td>2024-03-01T02:59:31.178+0000</td><td>5.96494483048637</td><td>5.137125949612055</td></tr><tr><td>2024-03-01T03:03:42.669+0000</td><td>4.553074429348298</td><td>5.137125949612055</td></tr><tr><td>2024-03-01T03:08:12.563+0000</td><td>6.428000988184184</td><td>5.137125949612055</td></tr><tr><td>2024-03-01T03:14:07.487+0000</td><td>5.94647524914709</td><td>5.137125949612055</td></tr><tr><td>2024-03-01T03:19:27.212+0000</td><td>4.854342174686255</td><td>5.137125949612055</td></tr><tr><td>2024-03-01T03:23:55.427+0000</td><td>3.30641256386319</td><td>5.137125949612055</td></tr><tr><td>2024-03-01T03:29:26.223+0000</td><td>1.9703055506282707</td><td>5.137125949612055</td></tr><tr><td>2024-03-01T03:34:32.047+0000</td><td>4.106970095865957</td><td>5.137125949612055</td></tr><tr><td>2024-03-01T03:40:30.166+0000</td><td>6.712797588646945</td><td>5.137125949612055</td></tr><tr><td>2024-03-01T03:44:48.043+0000</td><td>5.4281874882604075</td><td>5.137125949612055</td></tr><tr><td>2024-03-01T03:49:28.383+0000</td><td>2.508522442576024</td><td>5.137125949612055</td></tr><tr><td>2024-03-01T03:54:04.857+0000</td><td>5.346361851702364</td><td>5.137125949612055</td></tr><tr><td>2024-03-01T03:57:37.046+0000</td><td>5.770634759457674</td><td>5.137125949612055</td></tr><tr><td>2024-03-01T04:02:54.813+0000</td><td>3.2322851275977342</td><td>5.137125949612055</td></tr><tr><td>2024-03-01T04:08:10.476+0000</td><td>5.307450211891056</td><td>5.137125949612055</td></tr><tr><td>2024-03-01T04:13:10.783+0000</td><td>5.116417436892</td><td>5.137125949612055</td></tr><tr><td>2024-03-01T04:17:56.708+0000</td><td>2.714059404338754</td><td>5.137125949612055</td></tr></tbody></table></div>"
      ]
     },
     "metadata": {
      "application/vnd.databricks.v1+output": {
       "addedWidgets": {},
       "aggData": [],
       "aggError": "",
       "aggOverflow": false,
       "aggSchema": [],
       "aggSeriesLimitReached": false,
       "aggType": "",
       "arguments": {},
       "columnCustomDisplayInfos": {},
       "data": [
        [
         "2024-02-29T20:13:49.590+0000",
         2.1692585158991715,
         5.137125949612055
        ],
        [
         "2024-02-29T20:18:41.294+0000",
         4.158709354469282,
         5.137125949612055
        ],
        [
         "2024-02-29T20:24:20.155+0000",
         4.314570966946461,
         5.137125949612055
        ],
        [
         "2024-02-29T20:30:51.537+0000",
         3.395445461556762,
         5.137125949612055
        ],
        [
         "2024-02-29T20:35:37.488+0000",
         4.677428576667982,
         5.137125949612055
        ],
        [
         "2024-02-29T20:40:23.440+0000",
         5.8081017136290765,
         5.137125949612055
        ],
        [
         "2024-02-29T20:46:58.192+0000",
         8.77237180242106,
         5.137125949612055
        ],
        [
         "2024-02-29T20:52:44.239+0000",
         5.349155625663678,
         5.137125949612055
        ],
        [
         "2024-02-29T20:57:16.070+0000",
         5.515100781445529,
         5.137125949612055
        ],
        [
         "2024-02-29T21:02:48.624+0000",
         4.851108168467666,
         5.137125949612055
        ],
        [
         "2024-02-29T21:07:20.819+0000",
         1.162457569401917,
         5.137125949612055
        ],
        [
         "2024-02-29T21:11:52.875+0000",
         4.946972249101567,
         5.137125949612055
        ],
        [
         "2024-02-29T21:17:07.393+0000",
         5.120460419882053,
         5.137125949612055
        ],
        [
         "2024-02-29T21:20:12.596+0000",
         9.926484224970572,
         5.137125949612055
        ],
        [
         "2024-02-29T21:23:29.101+0000",
         4.615278070437755,
         5.137125949612055
        ],
        [
         "2024-02-29T21:27:55.363+0000",
         5.603094684667225,
         5.137125949612055
        ],
        [
         "2024-02-29T21:31:54.594+0000",
         4.9305764605895135,
         5.137125949612055
        ],
        [
         "2024-02-29T21:37:13.448+0000",
         2.662643924760936,
         5.137125949612055
        ],
        [
         "2024-02-29T21:41:18.967+0000",
         7.285645629030041,
         5.137125949612055
        ],
        [
         "2024-02-29T21:44:54.229+0000",
         6.503866065373549,
         5.137125949612055
        ],
        [
         "2024-02-29T21:51:22.168+0000",
         6.582063894086094,
         5.137125949612055
        ],
        [
         "2024-02-29T21:56:08.621+0000",
         3.181225090410522,
         5.137125949612055
        ],
        [
         "2024-02-29T22:01:12.673+0000",
         7.805588621872198,
         5.137125949612055
        ],
        [
         "2024-02-29T22:04:47.188+0000",
         2.1962978744154382,
         5.137125949612055
        ],
        [
         "2024-02-29T22:09:14.525+0000",
         6.173714187600541,
         5.137125949612055
        ],
        [
         "2024-02-29T22:14:21.180+0000",
         9.380911251619956,
         5.137125949612055
        ],
        [
         "2024-02-29T22:18:12.121+0000",
         3.0189273497386235,
         5.137125949612055
        ],
        [
         "2024-02-29T22:23:34.663+0000",
         3.867404540794456,
         5.137125949612055
        ],
        [
         "2024-02-29T22:27:58.624+0000",
         5.199302730175282,
         5.137125949612055
        ],
        [
         "2024-02-29T22:32:41.123+0000",
         3.9930486917676014,
         5.137125949612055
        ],
        [
         "2024-02-29T22:37:05.020+0000",
         1.8986731378677346,
         5.137125949612055
        ],
        [
         "2024-02-29T22:43:56.157+0000",
         5.137125949612055,
         5.137125949612055
        ],
        [
         "2024-02-29T22:48:55.347+0000",
         2.8753925725477902,
         5.137125949612055
        ],
        [
         "2024-02-29T22:52:51.884+0000",
         5.9471848612703635,
         5.137125949612055
        ],
        [
         "2024-02-29T22:58:41.237+0000",
         3.1611515315323935,
         5.137125949612055
        ],
        [
         "2024-02-29T23:02:27.986+0000",
         8.09986881003508,
         5.137125949612055
        ],
        [
         "2024-02-29T23:07:40.518+0000",
         3.4334934153275256,
         5.137125949612055
        ],
        [
         "2024-02-29T23:10:42.938+0000",
         4.355876967588649,
         5.137125949612055
        ],
        [
         "2024-02-29T23:14:23.247+0000",
         6.62703443473934,
         5.137125949612055
        ],
        [
         "2024-02-29T23:19:35.059+0000",
         2.5382713671320896,
         5.137125949612055
        ],
        [
         "2024-02-29T23:25:19.367+0000",
         5.4549198692082586,
         5.137125949612055
        ],
        [
         "2024-02-29T23:30:29.649+0000",
         7.614285508564857,
         5.137125949612055
        ],
        [
         "2024-02-29T23:35:22.710+0000",
         1.785033530877545,
         5.137125949612055
        ],
        [
         "2024-02-29T23:40:04.644+0000",
         5.369267717064608,
         5.137125949612055
        ],
        [
         "2024-02-29T23:43:35.932+0000",
         5.519765588496847,
         5.137125949612055
        ],
        [
         "2024-02-29T23:47:52.742+0000",
         6.563645743554621,
         5.137125949612055
        ],
        [
         "2024-02-29T23:52:25.103+0000",
         2.526098578243836,
         5.137125949612055
        ],
        [
         "2024-02-29T23:58:28.531+0000",
         2.3590867738314474,
         5.137125949612055
        ],
        [
         "2024-03-01T00:03:49.148+0000",
         6.0438831312337955,
         5.137125949612055
        ],
        [
         "2024-03-01T00:07:03.365+0000",
         5.5939693464663724,
         5.137125949612055
        ],
        [
         "2024-03-01T00:12:22.810+0000",
         5.5009857006917535,
         5.137125949612055
        ],
        [
         "2024-03-01T00:16:59.705+0000",
         5.692896418993952,
         5.137125949612055
        ],
        [
         "2024-03-01T00:21:19.090+0000",
         3.6399505568430186,
         5.137125949612055
        ],
        [
         "2024-03-01T00:26:55.791+0000",
         5.464507394322007,
         5.137125949612055
        ],
        [
         "2024-03-01T00:32:57.651+0000",
         5.586144946597362,
         5.137125949612055
        ],
        [
         "2024-03-01T00:38:53.527+0000",
         3.571297163947264,
         5.137125949612055
        ],
        [
         "2024-03-01T00:43:03.174+0000",
         8.731549022289514,
         5.137125949612055
        ],
        [
         "2024-03-01T00:47:44.622+0000",
         5.947665841823575,
         5.137125949612055
        ],
        [
         "2024-03-01T00:53:04.497+0000",
         2.617393005594703,
         5.137125949612055
        ],
        [
         "2024-03-01T00:59:03.030+0000",
         6.313107217267659,
         5.137125949612055
        ],
        [
         "2024-03-01T01:03:34.280+0000",
         3.050636659545357,
         5.137125949612055
        ],
        [
         "2024-03-01T01:08:23.140+0000",
         6.574169207484904,
         5.137125949612055
        ],
        [
         "2024-03-01T01:12:16.760+0000",
         7.317191158014808,
         5.137125949612055
        ],
        [
         "2024-03-01T01:16:04.988+0000",
         3.358635363296579,
         5.137125949612055
        ],
        [
         "2024-03-01T01:21:53.739+0000",
         6.926752258488643,
         5.137125949612055
        ],
        [
         "2024-03-01T01:28:15.114+0000",
         5.825561853872997,
         5.137125949612055
        ],
        [
         "2024-03-01T01:33:10.793+0000",
         6.64412031998898,
         5.137125949612055
        ],
        [
         "2024-03-01T01:39:11.005+0000",
         8.793585965307894,
         5.137125949612055
        ],
        [
         "2024-03-01T01:44:32.703+0000",
         4.509223767994259,
         5.137125949612055
        ],
        [
         "2024-03-01T01:48:53.996+0000",
         3.492527671285021,
         5.137125949612055
        ],
        [
         "2024-03-01T01:54:15.680+0000",
         3.2209711407489534,
         5.137125949612055
        ],
        [
         "2024-03-01T02:00:47.962+0000",
         3.3683794300691234,
         5.137125949612055
        ],
        [
         "2024-03-01T02:05:45.812+0000",
         4.845796581171792,
         5.137125949612055
        ],
        [
         "2024-03-01T02:12:19.691+0000",
         5.682303949633288,
         5.137125949612055
        ],
        [
         "2024-03-01T02:14:42.506+0000",
         5.553381598660038,
         5.137125949612055
        ],
        [
         "2024-03-01T02:20:31.820+0000",
         6.654366498072047,
         5.137125949612055
        ],
        [
         "2024-03-01T02:25:37.043+0000",
         5.026003783755814,
         5.137125949612055
        ],
        [
         "2024-03-01T02:30:19.103+0000",
         7.907068154314634,
         5.137125949612055
        ],
        [
         "2024-03-01T02:35:24.608+0000",
         4.470686333524088,
         5.137125949612055
        ],
        [
         "2024-03-01T02:38:25.354+0000",
         10.440338333179238,
         5.137125949612055
        ],
        [
         "2024-03-01T02:43:12.174+0000",
         6.251334695530012,
         5.137125949612055
        ],
        [
         "2024-03-01T02:48:33.601+0000",
         3.285684887167435,
         5.137125949612055
        ],
        [
         "2024-03-01T02:55:02.274+0000",
         2.8582150038777754,
         5.137125949612055
        ],
        [
         "2024-03-01T02:59:31.178+0000",
         5.96494483048637,
         5.137125949612055
        ],
        [
         "2024-03-01T03:03:42.669+0000",
         4.553074429348298,
         5.137125949612055
        ],
        [
         "2024-03-01T03:08:12.563+0000",
         6.428000988184184,
         5.137125949612055
        ],
        [
         "2024-03-01T03:14:07.487+0000",
         5.94647524914709,
         5.137125949612055
        ],
        [
         "2024-03-01T03:19:27.212+0000",
         4.854342174686255,
         5.137125949612055
        ],
        [
         "2024-03-01T03:23:55.427+0000",
         3.30641256386319,
         5.137125949612055
        ],
        [
         "2024-03-01T03:29:26.223+0000",
         1.9703055506282707,
         5.137125949612055
        ],
        [
         "2024-03-01T03:34:32.047+0000",
         4.106970095865957,
         5.137125949612055
        ],
        [
         "2024-03-01T03:40:30.166+0000",
         6.712797588646945,
         5.137125949612055
        ],
        [
         "2024-03-01T03:44:48.043+0000",
         5.4281874882604075,
         5.137125949612055
        ],
        [
         "2024-03-01T03:49:28.383+0000",
         2.508522442576024,
         5.137125949612055
        ],
        [
         "2024-03-01T03:54:04.857+0000",
         5.346361851702364,
         5.137125949612055
        ],
        [
         "2024-03-01T03:57:37.046+0000",
         5.770634759457674,
         5.137125949612055
        ],
        [
         "2024-03-01T04:02:54.813+0000",
         3.2322851275977342,
         5.137125949612055
        ],
        [
         "2024-03-01T04:08:10.476+0000",
         5.307450211891056,
         5.137125949612055
        ],
        [
         "2024-03-01T04:13:10.783+0000",
         5.116417436892,
         5.137125949612055
        ],
        [
         "2024-03-01T04:17:56.708+0000",
         2.714059404338754,
         5.137125949612055
        ]
       ],
       "datasetInfos": [],
       "dbfsResultPath": null,
       "isJsonSchema": true,
       "metadata": {},
       "overflow": false,
       "plotOptions": {
        "customPlotOptions": {},
        "displayType": "table",
        "pivotAggregation": null,
        "pivotColumns": null,
        "xColumns": null,
        "yColumns": null
       },
       "removedWidgets": [],
       "schema": [
        {
         "metadata": "{}",
         "name": "DateTime",
         "type": "\"timestamp\""
        },
        {
         "metadata": "{}",
         "name": "avg(Order Processing Time (mins))",
         "type": "\"double\""
        },
        {
         "metadata": "{}",
         "name": "Median Order Processing Time",
         "type": "\"double\""
        }
       ],
       "type": "table"
      }
     },
     "output_type": "display_data"
    },
    {
     "output_type": "display_data",
     "data": {
      "text/plain": [
       "Databricks visualization. Run in Databricks to view."
      ]
     },
     "metadata": {
      "application/vnd.databricks.v1.subcommand+json": {
       "baseErrorDetails": null,
       "bindings": {},
       "collapsed": false,
       "command": "%python\n__backend_agg_display_orig = display\n__backend_agg_dfs = []\ndef __backend_agg_display_new(df):\n    __backend_agg_df_modules = [\"pandas.core.frame\", \"databricks.koalas.frame\", \"pyspark.sql.dataframe\", \"pyspark.pandas.frame\", \"pyspark.sql.connect.dataframe\"]\n    if (type(df).__module__ in __backend_agg_df_modules and type(df).__name__ == 'DataFrame') or isinstance(df, list):\n        __backend_agg_dfs.append(df)\n\ndisplay = __backend_agg_display_new\n\ndef __backend_agg_user_code_fn():\n    import base64\n    exec(base64.standard_b64decode(\"ZnJvbSBweXNwYXJrLnNxbC5mdW5jdGlvbnMgaW1wb3J0IGV4cHIKCiMgQ2FsY3VsYXRlIGF2ZXJhZ2Ugb3JkZXIgcHJvY2Vzc2luZyB0aW1lIHBlciBkYXkKb3JkZXJfcHJvY2Vzc2luZ190aW1lX2RhaWx5X2F2ZyA9IHRpbGxfZGYuZ3JvdXBCeSgiRGF0ZVRpbWUiKS5hdmcoIk9yZGVyIFByb2Nlc3NpbmcgVGltZSAobWlucykiKS5vcmRlckJ5KCJEYXRlVGltZSIpCgojIENhbGN1bGF0ZSB0aGUgb3ZlcmFsbCBtZWRpYW4gb2Ygb3JkZXIgcHJvY2Vzc2luZyB0aW1lcwptZWRpYW5fb3JkZXJfcHJvY2Vzc2luZ190aW1lID0gdGlsbF9kZi5hcHByb3hRdWFudGlsZSgiT3JkZXIgUHJvY2Vzc2luZyBUaW1lIChtaW5zKSIsIFswLjVdLCAwKVswXQoKIyBBZGQgdGhlIG1lZGlhbiBhcyBhIGNvbnN0YW50IGNvbHVtbiB0byB0aGUgZGFpbHkgYXZlcmFnZSBEYXRhRnJhbWUKb3JkZXJfcHJvY2Vzc2luZ190aW1lX2RhaWx5X2F2ZyA9IG9yZGVyX3Byb2Nlc3NpbmdfdGltZV9kYWlseV9hdmcud2l0aENvbHVtbigiTWVkaWFuIE9yZGVyIFByb2Nlc3NpbmcgVGltZSIsIGxpdChtZWRpYW5fb3JkZXJfcHJvY2Vzc2luZ190aW1lKSkKCiMgRGlzcGxheSB0aGUgRGF0YUZyYW1lIGZvciBwbG90dGluZyBpbiBEYXRhYnJpY2tzIGFzIGEgcnVuIGNoYXJ0IHdpdGggbWVkaWFuCmRpc3BsYXkob3JkZXJfcHJvY2Vzc2luZ190aW1lX2RhaWx5X2F2Zyk=\").decode())\n\ntry:\n    # run user code\n    __backend_agg_user_code_fn()\n\n    #reset display function\n    display = __backend_agg_display_orig\n\n    if len(__backend_agg_dfs) > 0:\n        # create a temp view\n        if type(__backend_agg_dfs[0]).__module__ == \"databricks.koalas.frame\":\n            # koalas dataframe\n            __backend_agg_dfs[0].to_spark().createOrReplaceTempView(\"DatabricksViewdffb8ae\")\n        elif type(__backend_agg_dfs[0]).__module__ == \"pandas.core.frame\" or isinstance(__backend_agg_dfs[0], list):\n            # pandas dataframe\n            spark.createDataFrame(__backend_agg_dfs[0]).createOrReplaceTempView(\"DatabricksViewdffb8ae\")\n        else:\n            __backend_agg_dfs[0].createOrReplaceTempView(\"DatabricksViewdffb8ae\")\n        #run backend agg\n        display(spark.sql(\"\"\"WITH q AS (select * from DatabricksViewdffb8ae) SELECT SUM(`avg(Order Processing Time (mins))`) `column_ce0a2ab513`,SUM(`Median Order Processing Time`) `column_ce0a2ab514`,`DateTime` FROM q GROUP BY `DateTime`\"\"\"))\n    else:\n        displayHTML(\"dataframe no longer exists. If you're using dataframe.display(), use display(dataframe) instead.\")\n\n\nfinally:\n    spark.sql(\"drop view if exists DatabricksViewdffb8ae\")\n    display = __backend_agg_display_orig\n    del __backend_agg_display_new\n    del __backend_agg_display_orig\n    del __backend_agg_dfs\n    del __backend_agg_user_code_fn\n\n",
       "commandTitle": "Visualization 1",
       "commandType": "auto",
       "commandVersion": 0,
       "commentThread": [],
       "commentsVisible": false,
       "contentSha256Hex": null,
       "customPlotOptions": {
        "redashChart": [
         {
          "key": "type",
          "value": "CHART"
         },
         {
          "key": "options",
          "value": {
           "alignYAxesAtZero": true,
           "coefficient": 1,
           "columnConfigurationMap": {
            "x": {
             "column": "DateTime",
             "id": "column_ce0a2ab515"
            },
            "y": [
             {
              "column": "avg(Order Processing Time (mins))",
              "id": "column_ce0a2ab513",
              "transform": "SUM"
             },
             {
              "column": "Median Order Processing Time",
              "id": "column_ce0a2ab514",
              "transform": "SUM"
             }
            ]
           },
           "dateTimeFormat": "DD/MM/YYYY HH:mm",
           "direction": {
            "type": "counterclockwise"
           },
           "error_y": {
            "type": "data",
            "visible": true
           },
           "globalSeriesType": "line",
           "isAggregationOn": true,
           "legend": {
            "traceorder": "normal"
           },
           "missingValuesAsZero": true,
           "numberFormat": "0,0.[00000]",
           "percentFormat": "0[.]00%",
           "series": {
            "error_y": {
             "type": "data",
             "visible": true
            },
            "stacking": null
           },
           "seriesOptions": {
            "column_ce0a2ab513": {
             "name": "avg(Order Processing Time (mins))",
             "yAxis": 0
            },
            "column_ce0a2ab514": {
             "color": "#FF3621",
             "name": "Median Order Processing Time",
             "yAxis": 0
            }
           },
           "showDataLabels": false,
           "sizemode": "diameter",
           "sortX": true,
           "sortY": true,
           "swappedAxes": false,
           "textFormat": "",
           "useAggregationsUi": true,
           "valuesOptions": {},
           "version": 2,
           "xAxis": {
            "labels": {
             "enabled": true
            },
            "type": "-"
           },
           "yAxis": [
            {
             "type": "-"
            },
            {
             "opposite": true,
             "type": "-"
            }
           ]
          }
         }
        ]
       },
       "datasetPreviewNameToCmdIdMap": {},
       "diffDeletes": [],
       "diffInserts": [],
       "displayType": "redashChart",
       "error": null,
       "errorDetails": null,
       "errorSummary": null,
       "errorTraceType": null,
       "finishTime": 0,
       "globalVars": {},
       "guid": "",
       "height": "auto",
       "hideCommandCode": false,
       "hideCommandResult": false,
       "iPythonMetadata": null,
       "inputWidgets": {},
       "isLockedInExamMode": false,
       "latestUser": "a user",
       "latestUserId": null,
       "listResultMetadata": null,
       "metadata": {
        "byteLimit": 2048000,
        "rowLimit": 10000
       },
       "nuid": "2de1a069-b0dc-44a8-b976-74bee9e5e6af",
       "origId": 0,
       "parentHierarchy": [],
       "pivotAggregation": null,
       "pivotColumns": null,
       "position": 1.99993896484375,
       "resultDbfsErrorMessage": null,
       "resultDbfsStatus": "INLINED_IN_TREE",
       "results": null,
       "showCommandTitle": false,
       "startTime": 0,
       "state": "finished",
       "streamStates": {},
       "subcommandOptions": {
        "queryPlan": {
         "groups": [
          {
           "column": "DateTime",
           "type": "column"
          }
         ],
         "selects": [
          {
           "alias": "column_ce0a2ab513",
           "args": [
            {
             "column": "avg(Order Processing Time (mins))",
             "type": "column"
            }
           ],
           "function": "SUM",
           "type": "function"
          },
          {
           "alias": "column_ce0a2ab514",
           "args": [
            {
             "column": "Median Order Processing Time",
             "type": "column"
            }
           ],
           "function": "SUM",
           "type": "function"
          },
          {
           "column": "DateTime",
           "type": "column"
          }
         ]
        }
       },
       "submitTime": 0,
       "subtype": "tableResultSubCmd.visualization",
       "tableResultIndex": 0,
       "useConsistentColors": false,
       "version": "CommandV1",
       "width": "auto",
       "workflows": [],
       "xColumns": null,
       "yColumns": null
      }
     },
     "output_type": "display_data"
    }
   ],
   "source": [
    "from pyspark.sql.functions import expr\n",
    "\n",
    "# Calculate average order processing time per day\n",
    "order_processing_time_daily_avg = till_df.groupBy(\"DateTime\").avg(\"Order Processing Time (mins)\").orderBy(\"DateTime\")\n",
    "\n",
    "# Calculate the overall median of order processing times\n",
    "median_order_processing_time = till_df.approxQuantile(\"Order Processing Time (mins)\", [0.5], 0)[0]\n",
    "\n",
    "# Add the median as a constant column to the daily average DataFrame\n",
    "order_processing_time_daily_avg = order_processing_time_daily_avg.withColumn(\"Median Order Processing Time\", lit(median_order_processing_time))\n",
    "\n",
    "# Display the DataFrame for plotting in Databricks as a run chart with median\n",
    "display(order_processing_time_daily_avg)"
   ]
  },
  {
   "cell_type": "markdown",
   "metadata": {
    "application/vnd.databricks.v1+cell": {
     "cellMetadata": {
      "byteLimit": 2048000,
      "rowLimit": 10000
     },
     "inputWidgets": {},
     "nuid": "7543cbe5-feff-4957-a0d2-84209850066b",
     "showTitle": false,
     "title": ""
    }
   },
   "source": [
    "#### 2. Sales Amount ($) (Median)  \n",
    "Calculate the total sales amount per day:"
   ]
  },
  {
   "cell_type": "code",
   "execution_count": 0,
   "metadata": {
    "application/vnd.databricks.v1+cell": {
     "cellMetadata": {
      "byteLimit": 2048000,
      "rowLimit": 10000
     },
     "inputWidgets": {},
     "nuid": "b02255b6-d247-428b-a5df-e9538c04c384",
     "showTitle": false,
     "title": ""
    }
   },
   "outputs": [
    {
     "output_type": "display_data",
     "data": {
      "text/html": [
       "<style scoped>\n",
       "  .table-result-container {\n",
       "    max-height: 300px;\n",
       "    overflow: auto;\n",
       "  }\n",
       "  table, th, td {\n",
       "    border: 1px solid black;\n",
       "    border-collapse: collapse;\n",
       "  }\n",
       "  th, td {\n",
       "    padding: 5px;\n",
       "  }\n",
       "  th {\n",
       "    text-align: left;\n",
       "  }\n",
       "</style><div class='table-result-container'><table class='table-result'><thead style='background-color: white'><tr><th>DateTime</th><th>sum(Sales Amount ($))</th><th>Median Sales Amount</th></tr></thead><tbody><tr><td>2024-02-29T20:13:49.590+0000</td><td>7.440000057220459</td><td>12.65999984741211</td></tr><tr><td>2024-02-29T20:18:41.294+0000</td><td>3.259999990463257</td><td>12.65999984741211</td></tr><tr><td>2024-02-29T20:24:20.155+0000</td><td>18.8700008392334</td><td>12.65999984741211</td></tr><tr><td>2024-02-29T20:30:51.537+0000</td><td>11.520000457763672</td><td>12.65999984741211</td></tr><tr><td>2024-02-29T20:35:37.488+0000</td><td>12.170000076293945</td><td>12.65999984741211</td></tr><tr><td>2024-02-29T20:40:23.440+0000</td><td>14.630000114440918</td><td>12.65999984741211</td></tr><tr><td>2024-02-29T20:46:58.192+0000</td><td>13.470000267028809</td><td>12.65999984741211</td></tr><tr><td>2024-02-29T20:52:44.239+0000</td><td>19.049999237060547</td><td>12.65999984741211</td></tr><tr><td>2024-02-29T20:57:16.070+0000</td><td>19.049999237060547</td><td>12.65999984741211</td></tr><tr><td>2024-02-29T21:02:48.624+0000</td><td>17.739999771118164</td><td>12.65999984741211</td></tr><tr><td>2024-02-29T21:07:20.819+0000</td><td>13.819999694824219</td><td>12.65999984741211</td></tr><tr><td>2024-02-29T21:11:52.875+0000</td><td>16.6200008392334</td><td>12.65999984741211</td></tr><tr><td>2024-02-29T21:17:07.393+0000</td><td>14.510000228881836</td><td>12.65999984741211</td></tr><tr><td>2024-02-29T21:20:12.596+0000</td><td>12.75</td><td>12.65999984741211</td></tr><tr><td>2024-02-29T21:23:29.101+0000</td><td>5.179999828338623</td><td>12.65999984741211</td></tr><tr><td>2024-02-29T21:27:55.363+0000</td><td>16.790000915527344</td><td>12.65999984741211</td></tr><tr><td>2024-02-29T21:31:54.594+0000</td><td>16.950000762939453</td><td>12.65999984741211</td></tr><tr><td>2024-02-29T21:37:13.448+0000</td><td>13.640000343322754</td><td>12.65999984741211</td></tr><tr><td>2024-02-29T21:41:18.967+0000</td><td>16.950000762939453</td><td>12.65999984741211</td></tr><tr><td>2024-02-29T21:44:54.229+0000</td><td>14.079999923706055</td><td>12.65999984741211</td></tr><tr><td>2024-02-29T21:51:22.168+0000</td><td>6.510000228881836</td><td>12.65999984741211</td></tr><tr><td>2024-02-29T21:56:08.621+0000</td><td>7.659999847412109</td><td>12.65999984741211</td></tr><tr><td>2024-02-29T22:01:12.673+0000</td><td>6.650000095367432</td><td>12.65999984741211</td></tr><tr><td>2024-02-29T22:04:47.188+0000</td><td>9.40999984741211</td><td>12.65999984741211</td></tr><tr><td>2024-02-29T22:09:14.525+0000</td><td>3.6600000858306885</td><td>12.65999984741211</td></tr><tr><td>2024-02-29T22:14:21.180+0000</td><td>13.510000228881836</td><td>12.65999984741211</td></tr><tr><td>2024-02-29T22:18:12.121+0000</td><td>8.720000267028809</td><td>12.65999984741211</td></tr><tr><td>2024-02-29T22:23:34.663+0000</td><td>14.149999618530273</td><td>12.65999984741211</td></tr><tr><td>2024-02-29T22:27:58.624+0000</td><td>9.550000190734863</td><td>12.65999984741211</td></tr><tr><td>2024-02-29T22:32:41.123+0000</td><td>14.59000015258789</td><td>12.65999984741211</td></tr><tr><td>2024-02-29T22:37:05.020+0000</td><td>8.789999961853027</td><td>12.65999984741211</td></tr><tr><td>2024-02-29T22:43:56.157+0000</td><td>7.429999828338623</td><td>12.65999984741211</td></tr><tr><td>2024-02-29T22:48:55.347+0000</td><td>11.430000305175781</td><td>12.65999984741211</td></tr><tr><td>2024-02-29T22:52:51.884+0000</td><td>14.779999732971191</td><td>12.65999984741211</td></tr><tr><td>2024-02-29T22:58:41.237+0000</td><td>8.920000076293945</td><td>12.65999984741211</td></tr><tr><td>2024-02-29T23:02:27.986+0000</td><td>18.920000076293945</td><td>12.65999984741211</td></tr><tr><td>2024-02-29T23:07:40.518+0000</td><td>3.6700000762939453</td><td>12.65999984741211</td></tr><tr><td>2024-02-29T23:10:42.938+0000</td><td>10.109999656677246</td><td>12.65999984741211</td></tr><tr><td>2024-02-29T23:14:23.247+0000</td><td>19.450000762939453</td><td>12.65999984741211</td></tr><tr><td>2024-02-29T23:19:35.059+0000</td><td>12.319999694824219</td><td>12.65999984741211</td></tr><tr><td>2024-02-29T23:25:19.367+0000</td><td>10.199999809265137</td><td>12.65999984741211</td></tr><tr><td>2024-02-29T23:30:29.649+0000</td><td>12.65999984741211</td><td>12.65999984741211</td></tr><tr><td>2024-02-29T23:35:22.710+0000</td><td>12.789999961853027</td><td>12.65999984741211</td></tr><tr><td>2024-02-29T23:40:04.644+0000</td><td>15.4399995803833</td><td>12.65999984741211</td></tr><tr><td>2024-02-29T23:43:35.932+0000</td><td>5.170000076293945</td><td>12.65999984741211</td></tr><tr><td>2024-02-29T23:47:52.742+0000</td><td>7.25</td><td>12.65999984741211</td></tr><tr><td>2024-02-29T23:52:25.103+0000</td><td>12.869999885559082</td><td>12.65999984741211</td></tr><tr><td>2024-02-29T23:58:28.531+0000</td><td>17.739999771118164</td><td>12.65999984741211</td></tr><tr><td>2024-03-01T00:03:49.148+0000</td><td>12.550000190734863</td><td>12.65999984741211</td></tr><tr><td>2024-03-01T00:07:03.365+0000</td><td>7.059999942779541</td><td>12.65999984741211</td></tr><tr><td>2024-03-01T00:12:22.810+0000</td><td>14.5600004196167</td><td>12.65999984741211</td></tr><tr><td>2024-03-01T00:16:59.705+0000</td><td>15.579999923706055</td><td>12.65999984741211</td></tr><tr><td>2024-03-01T00:21:19.090+0000</td><td>7.050000190734863</td><td>12.65999984741211</td></tr><tr><td>2024-03-01T00:26:55.791+0000</td><td>9.420000076293945</td><td>12.65999984741211</td></tr><tr><td>2024-03-01T00:32:57.651+0000</td><td>12.079999923706055</td><td>12.65999984741211</td></tr><tr><td>2024-03-01T00:38:53.527+0000</td><td>11.4399995803833</td><td>12.65999984741211</td></tr><tr><td>2024-03-01T00:43:03.174+0000</td><td>9.619999885559082</td><td>12.65999984741211</td></tr><tr><td>2024-03-01T00:47:44.622+0000</td><td>8.0600004196167</td><td>12.65999984741211</td></tr><tr><td>2024-03-01T00:53:04.497+0000</td><td>4.699999809265137</td><td>12.65999984741211</td></tr><tr><td>2024-03-01T00:59:03.030+0000</td><td>3.9100000858306885</td><td>12.65999984741211</td></tr><tr><td>2024-03-01T01:03:34.280+0000</td><td>19.299999237060547</td><td>12.65999984741211</td></tr><tr><td>2024-03-01T01:08:23.140+0000</td><td>17.399999618530273</td><td>12.65999984741211</td></tr><tr><td>2024-03-01T01:12:16.760+0000</td><td>9.029999732971191</td><td>12.65999984741211</td></tr><tr><td>2024-03-01T01:16:04.988+0000</td><td>19.270000457763672</td><td>12.65999984741211</td></tr><tr><td>2024-03-01T01:21:53.739+0000</td><td>14.510000228881836</td><td>12.65999984741211</td></tr><tr><td>2024-03-01T01:28:15.114+0000</td><td>11.199999809265137</td><td>12.65999984741211</td></tr><tr><td>2024-03-01T01:33:10.793+0000</td><td>11.380000114440918</td><td>12.65999984741211</td></tr><tr><td>2024-03-01T01:39:11.005+0000</td><td>4.420000076293945</td><td>12.65999984741211</td></tr><tr><td>2024-03-01T01:44:32.703+0000</td><td>4.559999942779541</td><td>12.65999984741211</td></tr><tr><td>2024-03-01T01:48:53.996+0000</td><td>13.239999771118164</td><td>12.65999984741211</td></tr><tr><td>2024-03-01T01:54:15.680+0000</td><td>12.40999984741211</td><td>12.65999984741211</td></tr><tr><td>2024-03-01T02:00:47.962+0000</td><td>6.619999885559082</td><td>12.65999984741211</td></tr><tr><td>2024-03-01T02:05:45.812+0000</td><td>19.09000015258789</td><td>12.65999984741211</td></tr><tr><td>2024-03-01T02:12:19.691+0000</td><td>16.280000686645508</td><td>12.65999984741211</td></tr><tr><td>2024-03-01T02:14:42.506+0000</td><td>4.929999828338623</td><td>12.65999984741211</td></tr><tr><td>2024-03-01T02:20:31.820+0000</td><td>18.829999923706055</td><td>12.65999984741211</td></tr><tr><td>2024-03-01T02:25:37.043+0000</td><td>19.559999465942383</td><td>12.65999984741211</td></tr><tr><td>2024-03-01T02:30:19.103+0000</td><td>19.93000030517578</td><td>12.65999984741211</td></tr><tr><td>2024-03-01T02:35:24.608+0000</td><td>3.950000047683716</td><td>12.65999984741211</td></tr><tr><td>2024-03-01T02:38:25.354+0000</td><td>15.529999732971191</td><td>12.65999984741211</td></tr><tr><td>2024-03-01T02:43:12.174+0000</td><td>12.279999732971191</td><td>12.65999984741211</td></tr><tr><td>2024-03-01T02:48:33.601+0000</td><td>15.0</td><td>12.65999984741211</td></tr><tr><td>2024-03-01T02:55:02.274+0000</td><td>19.469999313354492</td><td>12.65999984741211</td></tr><tr><td>2024-03-01T02:59:31.178+0000</td><td>14.699999809265137</td><td>12.65999984741211</td></tr><tr><td>2024-03-01T03:03:42.669+0000</td><td>17.229999542236328</td><td>12.65999984741211</td></tr><tr><td>2024-03-01T03:08:12.563+0000</td><td>17.739999771118164</td><td>12.65999984741211</td></tr><tr><td>2024-03-01T03:14:07.487+0000</td><td>17.25</td><td>12.65999984741211</td></tr><tr><td>2024-03-01T03:19:27.212+0000</td><td>10.239999771118164</td><td>12.65999984741211</td></tr><tr><td>2024-03-01T03:23:55.427+0000</td><td>6.78000020980835</td><td>12.65999984741211</td></tr><tr><td>2024-03-01T03:29:26.223+0000</td><td>9.739999771118164</td><td>12.65999984741211</td></tr><tr><td>2024-03-01T03:34:32.047+0000</td><td>18.15999984741211</td><td>12.65999984741211</td></tr><tr><td>2024-03-01T03:40:30.166+0000</td><td>5.489999771118164</td><td>12.65999984741211</td></tr><tr><td>2024-03-01T03:44:48.043+0000</td><td>11.729999542236328</td><td>12.65999984741211</td></tr><tr><td>2024-03-01T03:49:28.383+0000</td><td>6.960000038146973</td><td>12.65999984741211</td></tr><tr><td>2024-03-01T03:54:04.857+0000</td><td>12.880000114440918</td><td>12.65999984741211</td></tr><tr><td>2024-03-01T03:57:37.046+0000</td><td>17.670000076293945</td><td>12.65999984741211</td></tr><tr><td>2024-03-01T04:02:54.813+0000</td><td>17.969999313354492</td><td>12.65999984741211</td></tr><tr><td>2024-03-01T04:08:10.476+0000</td><td>7.019999980926514</td><td>12.65999984741211</td></tr><tr><td>2024-03-01T04:13:10.783+0000</td><td>18.43000030517578</td><td>12.65999984741211</td></tr><tr><td>2024-03-01T04:17:56.708+0000</td><td>13.0600004196167</td><td>12.65999984741211</td></tr></tbody></table></div>"
      ]
     },
     "metadata": {
      "application/vnd.databricks.v1+output": {
       "addedWidgets": {},
       "aggData": [],
       "aggError": "",
       "aggOverflow": false,
       "aggSchema": [],
       "aggSeriesLimitReached": false,
       "aggType": "",
       "arguments": {},
       "columnCustomDisplayInfos": {},
       "data": [
        [
         "2024-02-29T20:13:49.590+0000",
         7.440000057220459,
         12.65999984741211
        ],
        [
         "2024-02-29T20:18:41.294+0000",
         3.259999990463257,
         12.65999984741211
        ],
        [
         "2024-02-29T20:24:20.155+0000",
         18.8700008392334,
         12.65999984741211
        ],
        [
         "2024-02-29T20:30:51.537+0000",
         11.520000457763672,
         12.65999984741211
        ],
        [
         "2024-02-29T20:35:37.488+0000",
         12.170000076293945,
         12.65999984741211
        ],
        [
         "2024-02-29T20:40:23.440+0000",
         14.630000114440918,
         12.65999984741211
        ],
        [
         "2024-02-29T20:46:58.192+0000",
         13.470000267028809,
         12.65999984741211
        ],
        [
         "2024-02-29T20:52:44.239+0000",
         19.049999237060547,
         12.65999984741211
        ],
        [
         "2024-02-29T20:57:16.070+0000",
         19.049999237060547,
         12.65999984741211
        ],
        [
         "2024-02-29T21:02:48.624+0000",
         17.739999771118164,
         12.65999984741211
        ],
        [
         "2024-02-29T21:07:20.819+0000",
         13.819999694824219,
         12.65999984741211
        ],
        [
         "2024-02-29T21:11:52.875+0000",
         16.6200008392334,
         12.65999984741211
        ],
        [
         "2024-02-29T21:17:07.393+0000",
         14.510000228881836,
         12.65999984741211
        ],
        [
         "2024-02-29T21:20:12.596+0000",
         12.75,
         12.65999984741211
        ],
        [
         "2024-02-29T21:23:29.101+0000",
         5.179999828338623,
         12.65999984741211
        ],
        [
         "2024-02-29T21:27:55.363+0000",
         16.790000915527344,
         12.65999984741211
        ],
        [
         "2024-02-29T21:31:54.594+0000",
         16.950000762939453,
         12.65999984741211
        ],
        [
         "2024-02-29T21:37:13.448+0000",
         13.640000343322754,
         12.65999984741211
        ],
        [
         "2024-02-29T21:41:18.967+0000",
         16.950000762939453,
         12.65999984741211
        ],
        [
         "2024-02-29T21:44:54.229+0000",
         14.079999923706055,
         12.65999984741211
        ],
        [
         "2024-02-29T21:51:22.168+0000",
         6.510000228881836,
         12.65999984741211
        ],
        [
         "2024-02-29T21:56:08.621+0000",
         7.659999847412109,
         12.65999984741211
        ],
        [
         "2024-02-29T22:01:12.673+0000",
         6.650000095367432,
         12.65999984741211
        ],
        [
         "2024-02-29T22:04:47.188+0000",
         9.40999984741211,
         12.65999984741211
        ],
        [
         "2024-02-29T22:09:14.525+0000",
         3.6600000858306885,
         12.65999984741211
        ],
        [
         "2024-02-29T22:14:21.180+0000",
         13.510000228881836,
         12.65999984741211
        ],
        [
         "2024-02-29T22:18:12.121+0000",
         8.720000267028809,
         12.65999984741211
        ],
        [
         "2024-02-29T22:23:34.663+0000",
         14.149999618530273,
         12.65999984741211
        ],
        [
         "2024-02-29T22:27:58.624+0000",
         9.550000190734863,
         12.65999984741211
        ],
        [
         "2024-02-29T22:32:41.123+0000",
         14.59000015258789,
         12.65999984741211
        ],
        [
         "2024-02-29T22:37:05.020+0000",
         8.789999961853027,
         12.65999984741211
        ],
        [
         "2024-02-29T22:43:56.157+0000",
         7.429999828338623,
         12.65999984741211
        ],
        [
         "2024-02-29T22:48:55.347+0000",
         11.430000305175781,
         12.65999984741211
        ],
        [
         "2024-02-29T22:52:51.884+0000",
         14.779999732971191,
         12.65999984741211
        ],
        [
         "2024-02-29T22:58:41.237+0000",
         8.920000076293945,
         12.65999984741211
        ],
        [
         "2024-02-29T23:02:27.986+0000",
         18.920000076293945,
         12.65999984741211
        ],
        [
         "2024-02-29T23:07:40.518+0000",
         3.6700000762939453,
         12.65999984741211
        ],
        [
         "2024-02-29T23:10:42.938+0000",
         10.109999656677246,
         12.65999984741211
        ],
        [
         "2024-02-29T23:14:23.247+0000",
         19.450000762939453,
         12.65999984741211
        ],
        [
         "2024-02-29T23:19:35.059+0000",
         12.319999694824219,
         12.65999984741211
        ],
        [
         "2024-02-29T23:25:19.367+0000",
         10.199999809265137,
         12.65999984741211
        ],
        [
         "2024-02-29T23:30:29.649+0000",
         12.65999984741211,
         12.65999984741211
        ],
        [
         "2024-02-29T23:35:22.710+0000",
         12.789999961853027,
         12.65999984741211
        ],
        [
         "2024-02-29T23:40:04.644+0000",
         15.4399995803833,
         12.65999984741211
        ],
        [
         "2024-02-29T23:43:35.932+0000",
         5.170000076293945,
         12.65999984741211
        ],
        [
         "2024-02-29T23:47:52.742+0000",
         7.25,
         12.65999984741211
        ],
        [
         "2024-02-29T23:52:25.103+0000",
         12.869999885559082,
         12.65999984741211
        ],
        [
         "2024-02-29T23:58:28.531+0000",
         17.739999771118164,
         12.65999984741211
        ],
        [
         "2024-03-01T00:03:49.148+0000",
         12.550000190734863,
         12.65999984741211
        ],
        [
         "2024-03-01T00:07:03.365+0000",
         7.059999942779541,
         12.65999984741211
        ],
        [
         "2024-03-01T00:12:22.810+0000",
         14.5600004196167,
         12.65999984741211
        ],
        [
         "2024-03-01T00:16:59.705+0000",
         15.579999923706055,
         12.65999984741211
        ],
        [
         "2024-03-01T00:21:19.090+0000",
         7.050000190734863,
         12.65999984741211
        ],
        [
         "2024-03-01T00:26:55.791+0000",
         9.420000076293945,
         12.65999984741211
        ],
        [
         "2024-03-01T00:32:57.651+0000",
         12.079999923706055,
         12.65999984741211
        ],
        [
         "2024-03-01T00:38:53.527+0000",
         11.4399995803833,
         12.65999984741211
        ],
        [
         "2024-03-01T00:43:03.174+0000",
         9.619999885559082,
         12.65999984741211
        ],
        [
         "2024-03-01T00:47:44.622+0000",
         8.0600004196167,
         12.65999984741211
        ],
        [
         "2024-03-01T00:53:04.497+0000",
         4.699999809265137,
         12.65999984741211
        ],
        [
         "2024-03-01T00:59:03.030+0000",
         3.9100000858306885,
         12.65999984741211
        ],
        [
         "2024-03-01T01:03:34.280+0000",
         19.299999237060547,
         12.65999984741211
        ],
        [
         "2024-03-01T01:08:23.140+0000",
         17.399999618530273,
         12.65999984741211
        ],
        [
         "2024-03-01T01:12:16.760+0000",
         9.029999732971191,
         12.65999984741211
        ],
        [
         "2024-03-01T01:16:04.988+0000",
         19.270000457763672,
         12.65999984741211
        ],
        [
         "2024-03-01T01:21:53.739+0000",
         14.510000228881836,
         12.65999984741211
        ],
        [
         "2024-03-01T01:28:15.114+0000",
         11.199999809265137,
         12.65999984741211
        ],
        [
         "2024-03-01T01:33:10.793+0000",
         11.380000114440918,
         12.65999984741211
        ],
        [
         "2024-03-01T01:39:11.005+0000",
         4.420000076293945,
         12.65999984741211
        ],
        [
         "2024-03-01T01:44:32.703+0000",
         4.559999942779541,
         12.65999984741211
        ],
        [
         "2024-03-01T01:48:53.996+0000",
         13.239999771118164,
         12.65999984741211
        ],
        [
         "2024-03-01T01:54:15.680+0000",
         12.40999984741211,
         12.65999984741211
        ],
        [
         "2024-03-01T02:00:47.962+0000",
         6.619999885559082,
         12.65999984741211
        ],
        [
         "2024-03-01T02:05:45.812+0000",
         19.09000015258789,
         12.65999984741211
        ],
        [
         "2024-03-01T02:12:19.691+0000",
         16.280000686645508,
         12.65999984741211
        ],
        [
         "2024-03-01T02:14:42.506+0000",
         4.929999828338623,
         12.65999984741211
        ],
        [
         "2024-03-01T02:20:31.820+0000",
         18.829999923706055,
         12.65999984741211
        ],
        [
         "2024-03-01T02:25:37.043+0000",
         19.559999465942383,
         12.65999984741211
        ],
        [
         "2024-03-01T02:30:19.103+0000",
         19.93000030517578,
         12.65999984741211
        ],
        [
         "2024-03-01T02:35:24.608+0000",
         3.950000047683716,
         12.65999984741211
        ],
        [
         "2024-03-01T02:38:25.354+0000",
         15.529999732971191,
         12.65999984741211
        ],
        [
         "2024-03-01T02:43:12.174+0000",
         12.279999732971191,
         12.65999984741211
        ],
        [
         "2024-03-01T02:48:33.601+0000",
         15.0,
         12.65999984741211
        ],
        [
         "2024-03-01T02:55:02.274+0000",
         19.469999313354492,
         12.65999984741211
        ],
        [
         "2024-03-01T02:59:31.178+0000",
         14.699999809265137,
         12.65999984741211
        ],
        [
         "2024-03-01T03:03:42.669+0000",
         17.229999542236328,
         12.65999984741211
        ],
        [
         "2024-03-01T03:08:12.563+0000",
         17.739999771118164,
         12.65999984741211
        ],
        [
         "2024-03-01T03:14:07.487+0000",
         17.25,
         12.65999984741211
        ],
        [
         "2024-03-01T03:19:27.212+0000",
         10.239999771118164,
         12.65999984741211
        ],
        [
         "2024-03-01T03:23:55.427+0000",
         6.78000020980835,
         12.65999984741211
        ],
        [
         "2024-03-01T03:29:26.223+0000",
         9.739999771118164,
         12.65999984741211
        ],
        [
         "2024-03-01T03:34:32.047+0000",
         18.15999984741211,
         12.65999984741211
        ],
        [
         "2024-03-01T03:40:30.166+0000",
         5.489999771118164,
         12.65999984741211
        ],
        [
         "2024-03-01T03:44:48.043+0000",
         11.729999542236328,
         12.65999984741211
        ],
        [
         "2024-03-01T03:49:28.383+0000",
         6.960000038146973,
         12.65999984741211
        ],
        [
         "2024-03-01T03:54:04.857+0000",
         12.880000114440918,
         12.65999984741211
        ],
        [
         "2024-03-01T03:57:37.046+0000",
         17.670000076293945,
         12.65999984741211
        ],
        [
         "2024-03-01T04:02:54.813+0000",
         17.969999313354492,
         12.65999984741211
        ],
        [
         "2024-03-01T04:08:10.476+0000",
         7.019999980926514,
         12.65999984741211
        ],
        [
         "2024-03-01T04:13:10.783+0000",
         18.43000030517578,
         12.65999984741211
        ],
        [
         "2024-03-01T04:17:56.708+0000",
         13.0600004196167,
         12.65999984741211
        ]
       ],
       "datasetInfos": [],
       "dbfsResultPath": null,
       "isJsonSchema": true,
       "metadata": {},
       "overflow": false,
       "plotOptions": {
        "customPlotOptions": {},
        "displayType": "table",
        "pivotAggregation": null,
        "pivotColumns": null,
        "xColumns": null,
        "yColumns": null
       },
       "removedWidgets": [],
       "schema": [
        {
         "metadata": "{}",
         "name": "DateTime",
         "type": "\"timestamp\""
        },
        {
         "metadata": "{}",
         "name": "sum(Sales Amount ($))",
         "type": "\"double\""
        },
        {
         "metadata": "{}",
         "name": "Median Sales Amount",
         "type": "\"double\""
        }
       ],
       "type": "table"
      }
     },
     "output_type": "display_data"
    },
    {
     "output_type": "display_data",
     "data": {
      "text/plain": [
       "Databricks visualization. Run in Databricks to view."
      ]
     },
     "metadata": {
      "application/vnd.databricks.v1.subcommand+json": {
       "baseErrorDetails": null,
       "bindings": {},
       "collapsed": false,
       "command": "%python\n__backend_agg_display_orig = display\n__backend_agg_dfs = []\ndef __backend_agg_display_new(df):\n    __backend_agg_df_modules = [\"pandas.core.frame\", \"databricks.koalas.frame\", \"pyspark.sql.dataframe\", \"pyspark.pandas.frame\", \"pyspark.sql.connect.dataframe\"]\n    if (type(df).__module__ in __backend_agg_df_modules and type(df).__name__ == 'DataFrame') or isinstance(df, list):\n        __backend_agg_dfs.append(df)\n\ndisplay = __backend_agg_display_new\n\ndef __backend_agg_user_code_fn():\n    import base64\n    exec(base64.standard_b64decode(\"IyBDYWxjdWxhdGUgdG90YWwgc2FsZXMgYW1vdW50IHBlciBkYXkKc2FsZXNfYW1vdW50X2RhaWx5X3N1bSA9IHRpbGxfZGYuZ3JvdXBCeSgiRGF0ZVRpbWUiKS5zdW0oIlNhbGVzIEFtb3VudCAoJCkiKS5vcmRlckJ5KCJEYXRlVGltZSIpCgojIENhbGN1bGF0ZSB0aGUgb3ZlcmFsbCBtZWRpYW4gb2Ygc2FsZXMgYW1vdW50cwptZWRpYW5fc2FsZXNfYW1vdW50ID0gdGlsbF9kZi5hcHByb3hRdWFudGlsZSgiU2FsZXMgQW1vdW50ICgkKSIsIFswLjVdLCAwKVswXQoKIyBBZGQgdGhlIG1lZGlhbiBhcyBhIGNvbnN0YW50IGNvbHVtbiB0byB0aGUgZGFpbHkgc3VtIERhdGFGcmFtZQpzYWxlc19hbW91bnRfZGFpbHlfc3VtID0gc2FsZXNfYW1vdW50X2RhaWx5X3N1bS53aXRoQ29sdW1uKCJNZWRpYW4gU2FsZXMgQW1vdW50IiwgbGl0KG1lZGlhbl9zYWxlc19hbW91bnQpKQoKIyBEaXNwbGF5IHRoZSBEYXRhRnJhbWUgZm9yIHBsb3R0aW5nIGluIERhdGFicmlja3MgYXMgYSBydW4gY2hhcnQgd2l0aCBtZWRpYW4KZGlzcGxheShzYWxlc19hbW91bnRfZGFpbHlfc3VtKQ==\").decode())\n\ntry:\n    # run user code\n    __backend_agg_user_code_fn()\n\n    #reset display function\n    display = __backend_agg_display_orig\n\n    if len(__backend_agg_dfs) > 0:\n        # create a temp view\n        if type(__backend_agg_dfs[0]).__module__ == \"databricks.koalas.frame\":\n            # koalas dataframe\n            __backend_agg_dfs[0].to_spark().createOrReplaceTempView(\"DatabricksView549fb6a\")\n        elif type(__backend_agg_dfs[0]).__module__ == \"pandas.core.frame\" or isinstance(__backend_agg_dfs[0], list):\n            # pandas dataframe\n            spark.createDataFrame(__backend_agg_dfs[0]).createOrReplaceTempView(\"DatabricksView549fb6a\")\n        else:\n            __backend_agg_dfs[0].createOrReplaceTempView(\"DatabricksView549fb6a\")\n        #run backend agg\n        display(spark.sql(\"\"\"WITH q AS (select * from DatabricksView549fb6a) SELECT SUM(`sum(Sales Amount ($))`) `column_ce0a2ab519`,SUM(`Median Sales Amount`) `column_ce0a2ab520`,`DateTime` FROM q GROUP BY `DateTime`\"\"\"))\n    else:\n        displayHTML(\"dataframe no longer exists. If you're using dataframe.display(), use display(dataframe) instead.\")\n\n\nfinally:\n    spark.sql(\"drop view if exists DatabricksView549fb6a\")\n    display = __backend_agg_display_orig\n    del __backend_agg_display_new\n    del __backend_agg_display_orig\n    del __backend_agg_dfs\n    del __backend_agg_user_code_fn\n\n",
       "commandTitle": "Visualization 1",
       "commandType": "auto",
       "commandVersion": 0,
       "commentThread": [],
       "commentsVisible": false,
       "contentSha256Hex": null,
       "customPlotOptions": {
        "redashChart": [
         {
          "key": "type",
          "value": "CHART"
         },
         {
          "key": "options",
          "value": {
           "alignYAxesAtZero": true,
           "coefficient": 1,
           "columnConfigurationMap": {
            "x": {
             "column": "DateTime",
             "id": "column_ce0a2ab521"
            },
            "y": [
             {
              "column": "sum(Sales Amount ($))",
              "id": "column_ce0a2ab519",
              "transform": "SUM"
             },
             {
              "column": "Median Sales Amount",
              "id": "column_ce0a2ab520",
              "transform": "SUM"
             }
            ]
           },
           "dateTimeFormat": "DD/MM/YYYY HH:mm",
           "direction": {
            "type": "counterclockwise"
           },
           "error_y": {
            "type": "data",
            "visible": true
           },
           "globalSeriesType": "line",
           "isAggregationOn": true,
           "legend": {
            "traceorder": "normal"
           },
           "missingValuesAsZero": true,
           "numberFormat": "0,0.[00000]",
           "percentFormat": "0[.]00%",
           "series": {
            "error_y": {
             "type": "data",
             "visible": true
            },
            "stacking": null
           },
           "seriesOptions": {
            "column_ce0a2ab519": {
             "color": "#99DDB4",
             "name": "sum(Sales Amount ($))",
             "yAxis": 0
            },
            "column_ce0a2ab520": {
             "color": "#FCA4A1",
             "name": "Median Sales Amount",
             "yAxis": 0
            }
           },
           "showDataLabels": false,
           "sizemode": "diameter",
           "sortX": true,
           "sortY": true,
           "swappedAxes": false,
           "textFormat": "",
           "useAggregationsUi": true,
           "valuesOptions": {},
           "version": 2,
           "xAxis": {
            "labels": {
             "enabled": true
            },
            "type": "-"
           },
           "yAxis": [
            {
             "type": "-"
            },
            {
             "opposite": true,
             "type": "-"
            }
           ]
          }
         }
        ]
       },
       "datasetPreviewNameToCmdIdMap": {},
       "diffDeletes": [],
       "diffInserts": [],
       "displayType": "redashChart",
       "error": null,
       "errorDetails": null,
       "errorSummary": null,
       "errorTraceType": null,
       "finishTime": 0,
       "globalVars": {},
       "guid": "",
       "height": "auto",
       "hideCommandCode": false,
       "hideCommandResult": false,
       "iPythonMetadata": null,
       "inputWidgets": {},
       "isLockedInExamMode": false,
       "latestUser": "a user",
       "latestUserId": null,
       "listResultMetadata": null,
       "metadata": {
        "byteLimit": 2048000,
        "rowLimit": 10000
       },
       "nuid": "715d959e-6786-4c22-9694-41372b07f0fc",
       "origId": 0,
       "parentHierarchy": [],
       "pivotAggregation": null,
       "pivotColumns": null,
       "position": 1.9999847412109375,
       "resultDbfsErrorMessage": null,
       "resultDbfsStatus": "INLINED_IN_TREE",
       "results": null,
       "showCommandTitle": false,
       "startTime": 0,
       "state": "finished",
       "streamStates": {},
       "subcommandOptions": {
        "queryPlan": {
         "groups": [
          {
           "column": "DateTime",
           "type": "column"
          }
         ],
         "selects": [
          {
           "alias": "column_ce0a2ab519",
           "args": [
            {
             "column": "sum(Sales Amount ($))",
             "type": "column"
            }
           ],
           "function": "SUM",
           "type": "function"
          },
          {
           "alias": "column_ce0a2ab520",
           "args": [
            {
             "column": "Median Sales Amount",
             "type": "column"
            }
           ],
           "function": "SUM",
           "type": "function"
          },
          {
           "column": "DateTime",
           "type": "column"
          }
         ]
        }
       },
       "submitTime": 0,
       "subtype": "tableResultSubCmd.visualization",
       "tableResultIndex": 0,
       "useConsistentColors": false,
       "version": "CommandV1",
       "width": "auto",
       "workflows": [],
       "xColumns": null,
       "yColumns": null
      }
     },
     "output_type": "display_data"
    }
   ],
   "source": [
    "# Calculate total sales amount per day\n",
    "sales_amount_daily_sum = till_df.groupBy(\"DateTime\").sum(\"Sales Amount ($)\").orderBy(\"DateTime\")\n",
    "\n",
    "# Calculate the overall median of sales amounts\n",
    "median_sales_amount = till_df.approxQuantile(\"Sales Amount ($)\", [0.5], 0)[0]\n",
    "\n",
    "# Add the median as a constant column to the daily sum DataFrame\n",
    "sales_amount_daily_sum = sales_amount_daily_sum.withColumn(\"Median Sales Amount\", lit(median_sales_amount))\n",
    "\n",
    "# Display the DataFrame for plotting in Databricks as a run chart with median\n",
    "display(sales_amount_daily_sum)"
   ]
  },
  {
   "cell_type": "markdown",
   "metadata": {
    "application/vnd.databricks.v1+cell": {
     "cellMetadata": {
      "byteLimit": 2048000,
      "rowLimit": 10000
     },
     "inputWidgets": {},
     "nuid": "41c2268b-c8b4-457f-b8fd-bbbbeb3d0cdd",
     "showTitle": false,
     "title": ""
    }
   },
   "source": [
    "#### 3. Order Correct Percentage (Median)  \n",
    "Calculate the daily percentage of orders that were correct:"
   ]
  },
  {
   "cell_type": "code",
   "execution_count": 0,
   "metadata": {
    "application/vnd.databricks.v1+cell": {
     "cellMetadata": {
      "byteLimit": 2048000,
      "rowLimit": 10000
     },
     "inputWidgets": {},
     "nuid": "33e7341f-188a-46e1-99f4-57db8c945c3b",
     "showTitle": false,
     "title": ""
    }
   },
   "outputs": [
    {
     "output_type": "display_data",
     "data": {
      "text/html": [
       "<style scoped>\n",
       "  .table-result-container {\n",
       "    max-height: 300px;\n",
       "    overflow: auto;\n",
       "  }\n",
       "  table, th, td {\n",
       "    border: 1px solid black;\n",
       "    border-collapse: collapse;\n",
       "  }\n",
       "  th, td {\n",
       "    padding: 5px;\n",
       "  }\n",
       "  th {\n",
       "    text-align: left;\n",
       "  }\n",
       "</style><div class='table-result-container'><table class='table-result'><thead style='background-color: white'><tr><th>DateTime</th><th>Order Correct Percentage</th><th>Median Order Correct Percentage</th></tr></thead><tbody><tr><td>2024-02-29T20:13:49.590+0000</td><td>100.0</td><td>100.0</td></tr><tr><td>2024-02-29T20:18:41.294+0000</td><td>100.0</td><td>100.0</td></tr><tr><td>2024-02-29T20:24:20.155+0000</td><td>100.0</td><td>100.0</td></tr><tr><td>2024-02-29T20:30:51.537+0000</td><td>100.0</td><td>100.0</td></tr><tr><td>2024-02-29T20:35:37.488+0000</td><td>100.0</td><td>100.0</td></tr><tr><td>2024-02-29T20:40:23.440+0000</td><td>100.0</td><td>100.0</td></tr><tr><td>2024-02-29T20:46:58.192+0000</td><td>100.0</td><td>100.0</td></tr><tr><td>2024-02-29T20:52:44.239+0000</td><td>100.0</td><td>100.0</td></tr><tr><td>2024-02-29T20:57:16.070+0000</td><td>100.0</td><td>100.0</td></tr><tr><td>2024-02-29T21:02:48.624+0000</td><td>100.0</td><td>100.0</td></tr><tr><td>2024-02-29T21:07:20.819+0000</td><td>100.0</td><td>100.0</td></tr><tr><td>2024-02-29T21:11:52.875+0000</td><td>100.0</td><td>100.0</td></tr><tr><td>2024-02-29T21:17:07.393+0000</td><td>100.0</td><td>100.0</td></tr><tr><td>2024-02-29T21:20:12.596+0000</td><td>100.0</td><td>100.0</td></tr><tr><td>2024-02-29T21:23:29.101+0000</td><td>100.0</td><td>100.0</td></tr><tr><td>2024-02-29T21:27:55.363+0000</td><td>100.0</td><td>100.0</td></tr><tr><td>2024-02-29T21:31:54.594+0000</td><td>100.0</td><td>100.0</td></tr><tr><td>2024-02-29T21:37:13.448+0000</td><td>100.0</td><td>100.0</td></tr><tr><td>2024-02-29T21:41:18.967+0000</td><td>100.0</td><td>100.0</td></tr><tr><td>2024-02-29T21:44:54.229+0000</td><td>100.0</td><td>100.0</td></tr><tr><td>2024-02-29T21:51:22.168+0000</td><td>100.0</td><td>100.0</td></tr><tr><td>2024-02-29T21:56:08.621+0000</td><td>100.0</td><td>100.0</td></tr><tr><td>2024-02-29T22:01:12.673+0000</td><td>100.0</td><td>100.0</td></tr><tr><td>2024-02-29T22:04:47.188+0000</td><td>0.0</td><td>100.0</td></tr><tr><td>2024-02-29T22:09:14.525+0000</td><td>100.0</td><td>100.0</td></tr><tr><td>2024-02-29T22:14:21.180+0000</td><td>100.0</td><td>100.0</td></tr><tr><td>2024-02-29T22:18:12.121+0000</td><td>100.0</td><td>100.0</td></tr><tr><td>2024-02-29T22:23:34.663+0000</td><td>0.0</td><td>100.0</td></tr><tr><td>2024-02-29T22:27:58.624+0000</td><td>0.0</td><td>100.0</td></tr><tr><td>2024-02-29T22:32:41.123+0000</td><td>100.0</td><td>100.0</td></tr><tr><td>2024-02-29T22:37:05.020+0000</td><td>100.0</td><td>100.0</td></tr><tr><td>2024-02-29T22:43:56.157+0000</td><td>100.0</td><td>100.0</td></tr><tr><td>2024-02-29T22:48:55.347+0000</td><td>100.0</td><td>100.0</td></tr><tr><td>2024-02-29T22:52:51.884+0000</td><td>100.0</td><td>100.0</td></tr><tr><td>2024-02-29T22:58:41.237+0000</td><td>100.0</td><td>100.0</td></tr><tr><td>2024-02-29T23:02:27.986+0000</td><td>0.0</td><td>100.0</td></tr><tr><td>2024-02-29T23:07:40.518+0000</td><td>100.0</td><td>100.0</td></tr><tr><td>2024-02-29T23:10:42.938+0000</td><td>100.0</td><td>100.0</td></tr><tr><td>2024-02-29T23:14:23.247+0000</td><td>100.0</td><td>100.0</td></tr><tr><td>2024-02-29T23:19:35.059+0000</td><td>0.0</td><td>100.0</td></tr><tr><td>2024-02-29T23:25:19.367+0000</td><td>0.0</td><td>100.0</td></tr><tr><td>2024-02-29T23:30:29.649+0000</td><td>100.0</td><td>100.0</td></tr><tr><td>2024-02-29T23:35:22.710+0000</td><td>100.0</td><td>100.0</td></tr><tr><td>2024-02-29T23:40:04.644+0000</td><td>100.0</td><td>100.0</td></tr><tr><td>2024-02-29T23:43:35.932+0000</td><td>100.0</td><td>100.0</td></tr><tr><td>2024-02-29T23:47:52.742+0000</td><td>100.0</td><td>100.0</td></tr><tr><td>2024-02-29T23:52:25.103+0000</td><td>100.0</td><td>100.0</td></tr><tr><td>2024-02-29T23:58:28.531+0000</td><td>100.0</td><td>100.0</td></tr><tr><td>2024-03-01T00:03:49.148+0000</td><td>100.0</td><td>100.0</td></tr><tr><td>2024-03-01T00:07:03.365+0000</td><td>100.0</td><td>100.0</td></tr><tr><td>2024-03-01T00:12:22.810+0000</td><td>100.0</td><td>100.0</td></tr><tr><td>2024-03-01T00:16:59.705+0000</td><td>100.0</td><td>100.0</td></tr><tr><td>2024-03-01T00:21:19.090+0000</td><td>100.0</td><td>100.0</td></tr><tr><td>2024-03-01T00:26:55.791+0000</td><td>100.0</td><td>100.0</td></tr><tr><td>2024-03-01T00:32:57.651+0000</td><td>100.0</td><td>100.0</td></tr><tr><td>2024-03-01T00:38:53.527+0000</td><td>100.0</td><td>100.0</td></tr><tr><td>2024-03-01T00:43:03.174+0000</td><td>100.0</td><td>100.0</td></tr><tr><td>2024-03-01T00:47:44.622+0000</td><td>100.0</td><td>100.0</td></tr><tr><td>2024-03-01T00:53:04.497+0000</td><td>100.0</td><td>100.0</td></tr><tr><td>2024-03-01T00:59:03.030+0000</td><td>100.0</td><td>100.0</td></tr><tr><td>2024-03-01T01:03:34.280+0000</td><td>0.0</td><td>100.0</td></tr><tr><td>2024-03-01T01:08:23.140+0000</td><td>100.0</td><td>100.0</td></tr><tr><td>2024-03-01T01:12:16.760+0000</td><td>100.0</td><td>100.0</td></tr><tr><td>2024-03-01T01:16:04.988+0000</td><td>0.0</td><td>100.0</td></tr><tr><td>2024-03-01T01:21:53.739+0000</td><td>100.0</td><td>100.0</td></tr><tr><td>2024-03-01T01:28:15.114+0000</td><td>100.0</td><td>100.0</td></tr><tr><td>2024-03-01T01:33:10.793+0000</td><td>100.0</td><td>100.0</td></tr><tr><td>2024-03-01T01:39:11.005+0000</td><td>100.0</td><td>100.0</td></tr><tr><td>2024-03-01T01:44:32.703+0000</td><td>100.0</td><td>100.0</td></tr><tr><td>2024-03-01T01:48:53.996+0000</td><td>100.0</td><td>100.0</td></tr><tr><td>2024-03-01T01:54:15.680+0000</td><td>100.0</td><td>100.0</td></tr><tr><td>2024-03-01T02:00:47.962+0000</td><td>0.0</td><td>100.0</td></tr><tr><td>2024-03-01T02:05:45.812+0000</td><td>100.0</td><td>100.0</td></tr><tr><td>2024-03-01T02:12:19.691+0000</td><td>100.0</td><td>100.0</td></tr><tr><td>2024-03-01T02:14:42.506+0000</td><td>100.0</td><td>100.0</td></tr><tr><td>2024-03-01T02:20:31.820+0000</td><td>100.0</td><td>100.0</td></tr><tr><td>2024-03-01T02:25:37.043+0000</td><td>100.0</td><td>100.0</td></tr><tr><td>2024-03-01T02:30:19.103+0000</td><td>100.0</td><td>100.0</td></tr><tr><td>2024-03-01T02:35:24.608+0000</td><td>100.0</td><td>100.0</td></tr><tr><td>2024-03-01T02:38:25.354+0000</td><td>100.0</td><td>100.0</td></tr><tr><td>2024-03-01T02:43:12.174+0000</td><td>100.0</td><td>100.0</td></tr><tr><td>2024-03-01T02:48:33.601+0000</td><td>100.0</td><td>100.0</td></tr><tr><td>2024-03-01T02:55:02.274+0000</td><td>100.0</td><td>100.0</td></tr><tr><td>2024-03-01T02:59:31.178+0000</td><td>100.0</td><td>100.0</td></tr><tr><td>2024-03-01T03:03:42.669+0000</td><td>100.0</td><td>100.0</td></tr><tr><td>2024-03-01T03:08:12.563+0000</td><td>0.0</td><td>100.0</td></tr><tr><td>2024-03-01T03:14:07.487+0000</td><td>100.0</td><td>100.0</td></tr><tr><td>2024-03-01T03:19:27.212+0000</td><td>100.0</td><td>100.0</td></tr><tr><td>2024-03-01T03:23:55.427+0000</td><td>100.0</td><td>100.0</td></tr><tr><td>2024-03-01T03:29:26.223+0000</td><td>100.0</td><td>100.0</td></tr><tr><td>2024-03-01T03:34:32.047+0000</td><td>100.0</td><td>100.0</td></tr><tr><td>2024-03-01T03:40:30.166+0000</td><td>100.0</td><td>100.0</td></tr><tr><td>2024-03-01T03:44:48.043+0000</td><td>100.0</td><td>100.0</td></tr><tr><td>2024-03-01T03:49:28.383+0000</td><td>100.0</td><td>100.0</td></tr><tr><td>2024-03-01T03:54:04.857+0000</td><td>100.0</td><td>100.0</td></tr><tr><td>2024-03-01T03:57:37.046+0000</td><td>100.0</td><td>100.0</td></tr><tr><td>2024-03-01T04:02:54.813+0000</td><td>100.0</td><td>100.0</td></tr><tr><td>2024-03-01T04:08:10.476+0000</td><td>100.0</td><td>100.0</td></tr><tr><td>2024-03-01T04:13:10.783+0000</td><td>100.0</td><td>100.0</td></tr><tr><td>2024-03-01T04:17:56.708+0000</td><td>100.0</td><td>100.0</td></tr></tbody></table></div>"
      ]
     },
     "metadata": {
      "application/vnd.databricks.v1+output": {
       "addedWidgets": {},
       "aggData": [],
       "aggError": "",
       "aggOverflow": false,
       "aggSchema": [],
       "aggSeriesLimitReached": false,
       "aggType": "",
       "arguments": {},
       "columnCustomDisplayInfos": {},
       "data": [
        [
         "2024-02-29T20:13:49.590+0000",
         100.0,
         100.0
        ],
        [
         "2024-02-29T20:18:41.294+0000",
         100.0,
         100.0
        ],
        [
         "2024-02-29T20:24:20.155+0000",
         100.0,
         100.0
        ],
        [
         "2024-02-29T20:30:51.537+0000",
         100.0,
         100.0
        ],
        [
         "2024-02-29T20:35:37.488+0000",
         100.0,
         100.0
        ],
        [
         "2024-02-29T20:40:23.440+0000",
         100.0,
         100.0
        ],
        [
         "2024-02-29T20:46:58.192+0000",
         100.0,
         100.0
        ],
        [
         "2024-02-29T20:52:44.239+0000",
         100.0,
         100.0
        ],
        [
         "2024-02-29T20:57:16.070+0000",
         100.0,
         100.0
        ],
        [
         "2024-02-29T21:02:48.624+0000",
         100.0,
         100.0
        ],
        [
         "2024-02-29T21:07:20.819+0000",
         100.0,
         100.0
        ],
        [
         "2024-02-29T21:11:52.875+0000",
         100.0,
         100.0
        ],
        [
         "2024-02-29T21:17:07.393+0000",
         100.0,
         100.0
        ],
        [
         "2024-02-29T21:20:12.596+0000",
         100.0,
         100.0
        ],
        [
         "2024-02-29T21:23:29.101+0000",
         100.0,
         100.0
        ],
        [
         "2024-02-29T21:27:55.363+0000",
         100.0,
         100.0
        ],
        [
         "2024-02-29T21:31:54.594+0000",
         100.0,
         100.0
        ],
        [
         "2024-02-29T21:37:13.448+0000",
         100.0,
         100.0
        ],
        [
         "2024-02-29T21:41:18.967+0000",
         100.0,
         100.0
        ],
        [
         "2024-02-29T21:44:54.229+0000",
         100.0,
         100.0
        ],
        [
         "2024-02-29T21:51:22.168+0000",
         100.0,
         100.0
        ],
        [
         "2024-02-29T21:56:08.621+0000",
         100.0,
         100.0
        ],
        [
         "2024-02-29T22:01:12.673+0000",
         100.0,
         100.0
        ],
        [
         "2024-02-29T22:04:47.188+0000",
         0.0,
         100.0
        ],
        [
         "2024-02-29T22:09:14.525+0000",
         100.0,
         100.0
        ],
        [
         "2024-02-29T22:14:21.180+0000",
         100.0,
         100.0
        ],
        [
         "2024-02-29T22:18:12.121+0000",
         100.0,
         100.0
        ],
        [
         "2024-02-29T22:23:34.663+0000",
         0.0,
         100.0
        ],
        [
         "2024-02-29T22:27:58.624+0000",
         0.0,
         100.0
        ],
        [
         "2024-02-29T22:32:41.123+0000",
         100.0,
         100.0
        ],
        [
         "2024-02-29T22:37:05.020+0000",
         100.0,
         100.0
        ],
        [
         "2024-02-29T22:43:56.157+0000",
         100.0,
         100.0
        ],
        [
         "2024-02-29T22:48:55.347+0000",
         100.0,
         100.0
        ],
        [
         "2024-02-29T22:52:51.884+0000",
         100.0,
         100.0
        ],
        [
         "2024-02-29T22:58:41.237+0000",
         100.0,
         100.0
        ],
        [
         "2024-02-29T23:02:27.986+0000",
         0.0,
         100.0
        ],
        [
         "2024-02-29T23:07:40.518+0000",
         100.0,
         100.0
        ],
        [
         "2024-02-29T23:10:42.938+0000",
         100.0,
         100.0
        ],
        [
         "2024-02-29T23:14:23.247+0000",
         100.0,
         100.0
        ],
        [
         "2024-02-29T23:19:35.059+0000",
         0.0,
         100.0
        ],
        [
         "2024-02-29T23:25:19.367+0000",
         0.0,
         100.0
        ],
        [
         "2024-02-29T23:30:29.649+0000",
         100.0,
         100.0
        ],
        [
         "2024-02-29T23:35:22.710+0000",
         100.0,
         100.0
        ],
        [
         "2024-02-29T23:40:04.644+0000",
         100.0,
         100.0
        ],
        [
         "2024-02-29T23:43:35.932+0000",
         100.0,
         100.0
        ],
        [
         "2024-02-29T23:47:52.742+0000",
         100.0,
         100.0
        ],
        [
         "2024-02-29T23:52:25.103+0000",
         100.0,
         100.0
        ],
        [
         "2024-02-29T23:58:28.531+0000",
         100.0,
         100.0
        ],
        [
         "2024-03-01T00:03:49.148+0000",
         100.0,
         100.0
        ],
        [
         "2024-03-01T00:07:03.365+0000",
         100.0,
         100.0
        ],
        [
         "2024-03-01T00:12:22.810+0000",
         100.0,
         100.0
        ],
        [
         "2024-03-01T00:16:59.705+0000",
         100.0,
         100.0
        ],
        [
         "2024-03-01T00:21:19.090+0000",
         100.0,
         100.0
        ],
        [
         "2024-03-01T00:26:55.791+0000",
         100.0,
         100.0
        ],
        [
         "2024-03-01T00:32:57.651+0000",
         100.0,
         100.0
        ],
        [
         "2024-03-01T00:38:53.527+0000",
         100.0,
         100.0
        ],
        [
         "2024-03-01T00:43:03.174+0000",
         100.0,
         100.0
        ],
        [
         "2024-03-01T00:47:44.622+0000",
         100.0,
         100.0
        ],
        [
         "2024-03-01T00:53:04.497+0000",
         100.0,
         100.0
        ],
        [
         "2024-03-01T00:59:03.030+0000",
         100.0,
         100.0
        ],
        [
         "2024-03-01T01:03:34.280+0000",
         0.0,
         100.0
        ],
        [
         "2024-03-01T01:08:23.140+0000",
         100.0,
         100.0
        ],
        [
         "2024-03-01T01:12:16.760+0000",
         100.0,
         100.0
        ],
        [
         "2024-03-01T01:16:04.988+0000",
         0.0,
         100.0
        ],
        [
         "2024-03-01T01:21:53.739+0000",
         100.0,
         100.0
        ],
        [
         "2024-03-01T01:28:15.114+0000",
         100.0,
         100.0
        ],
        [
         "2024-03-01T01:33:10.793+0000",
         100.0,
         100.0
        ],
        [
         "2024-03-01T01:39:11.005+0000",
         100.0,
         100.0
        ],
        [
         "2024-03-01T01:44:32.703+0000",
         100.0,
         100.0
        ],
        [
         "2024-03-01T01:48:53.996+0000",
         100.0,
         100.0
        ],
        [
         "2024-03-01T01:54:15.680+0000",
         100.0,
         100.0
        ],
        [
         "2024-03-01T02:00:47.962+0000",
         0.0,
         100.0
        ],
        [
         "2024-03-01T02:05:45.812+0000",
         100.0,
         100.0
        ],
        [
         "2024-03-01T02:12:19.691+0000",
         100.0,
         100.0
        ],
        [
         "2024-03-01T02:14:42.506+0000",
         100.0,
         100.0
        ],
        [
         "2024-03-01T02:20:31.820+0000",
         100.0,
         100.0
        ],
        [
         "2024-03-01T02:25:37.043+0000",
         100.0,
         100.0
        ],
        [
         "2024-03-01T02:30:19.103+0000",
         100.0,
         100.0
        ],
        [
         "2024-03-01T02:35:24.608+0000",
         100.0,
         100.0
        ],
        [
         "2024-03-01T02:38:25.354+0000",
         100.0,
         100.0
        ],
        [
         "2024-03-01T02:43:12.174+0000",
         100.0,
         100.0
        ],
        [
         "2024-03-01T02:48:33.601+0000",
         100.0,
         100.0
        ],
        [
         "2024-03-01T02:55:02.274+0000",
         100.0,
         100.0
        ],
        [
         "2024-03-01T02:59:31.178+0000",
         100.0,
         100.0
        ],
        [
         "2024-03-01T03:03:42.669+0000",
         100.0,
         100.0
        ],
        [
         "2024-03-01T03:08:12.563+0000",
         0.0,
         100.0
        ],
        [
         "2024-03-01T03:14:07.487+0000",
         100.0,
         100.0
        ],
        [
         "2024-03-01T03:19:27.212+0000",
         100.0,
         100.0
        ],
        [
         "2024-03-01T03:23:55.427+0000",
         100.0,
         100.0
        ],
        [
         "2024-03-01T03:29:26.223+0000",
         100.0,
         100.0
        ],
        [
         "2024-03-01T03:34:32.047+0000",
         100.0,
         100.0
        ],
        [
         "2024-03-01T03:40:30.166+0000",
         100.0,
         100.0
        ],
        [
         "2024-03-01T03:44:48.043+0000",
         100.0,
         100.0
        ],
        [
         "2024-03-01T03:49:28.383+0000",
         100.0,
         100.0
        ],
        [
         "2024-03-01T03:54:04.857+0000",
         100.0,
         100.0
        ],
        [
         "2024-03-01T03:57:37.046+0000",
         100.0,
         100.0
        ],
        [
         "2024-03-01T04:02:54.813+0000",
         100.0,
         100.0
        ],
        [
         "2024-03-01T04:08:10.476+0000",
         100.0,
         100.0
        ],
        [
         "2024-03-01T04:13:10.783+0000",
         100.0,
         100.0
        ],
        [
         "2024-03-01T04:17:56.708+0000",
         100.0,
         100.0
        ]
       ],
       "datasetInfos": [],
       "dbfsResultPath": null,
       "isJsonSchema": true,
       "metadata": {},
       "overflow": false,
       "plotOptions": {
        "customPlotOptions": {},
        "displayType": "table",
        "pivotAggregation": null,
        "pivotColumns": null,
        "xColumns": null,
        "yColumns": null
       },
       "removedWidgets": [],
       "schema": [
        {
         "metadata": "{}",
         "name": "DateTime",
         "type": "\"timestamp\""
        },
        {
         "metadata": "{}",
         "name": "Order Correct Percentage",
         "type": "\"double\""
        },
        {
         "metadata": "{}",
         "name": "Median Order Correct Percentage",
         "type": "\"double\""
        }
       ],
       "type": "table"
      }
     },
     "output_type": "display_data"
    }
   ],
   "source": [
    "from pyspark.sql.functions import sum as _sum, count as _count, col\n",
    "\n",
    "# Calculate daily percentage of orders that were correct\n",
    "order_correct_daily_percentage = till_df.groupBy(\"DateTime\").agg(\n",
    "    (_sum(col(\"Order Correct\").cast(\"int\")) / _count(\"*\") * 100).alias(\"Order Correct Percentage\")\n",
    ").orderBy(\"DateTime\")\n",
    "\n",
    "# Calculate the overall median of the order correct percentage\n",
    "median_order_correct_percentage = order_correct_daily_percentage.approxQuantile(\"Order Correct Percentage\", [0.5], 0)[0]\n",
    "\n",
    "# Add the median as a constant column to the daily percentage DataFrame\n",
    "order_correct_daily_percentage = order_correct_daily_percentage.withColumn(\"Median Order Correct Percentage\", lit(median_order_correct_percentage))\n",
    "\n",
    "# Display the DataFrame for plotting in Databricks as a run chart with median\n",
    "display(order_correct_daily_percentage)"
   ]
  },
  {
   "cell_type": "markdown",
   "metadata": {
    "application/vnd.databricks.v1+cell": {
     "cellMetadata": {
      "byteLimit": 2048000,
      "rowLimit": 10000
     },
     "inputWidgets": {},
     "nuid": "dfa196f0-9413-4387-82eb-75aa834b7129",
     "showTitle": false,
     "title": ""
    }
   },
   "source": [
    "### Mean as Measure of Central Tendency"
   ]
  },
  {
   "cell_type": "markdown",
   "metadata": {
    "application/vnd.databricks.v1+cell": {
     "cellMetadata": {
      "byteLimit": 2048000,
      "rowLimit": 10000
     },
     "inputWidgets": {},
     "nuid": "2111a01a-6292-4b92-a2d0-7f6af20b0c7a",
     "showTitle": false,
     "title": ""
    }
   },
   "source": [
    "#### 1. Order Processing Time (mins) (Mean)\n",
    "Calculate the average order processing time per day:"
   ]
  },
  {
   "cell_type": "code",
   "execution_count": 0,
   "metadata": {
    "application/vnd.databricks.v1+cell": {
     "cellMetadata": {
      "byteLimit": 2048000,
      "rowLimit": 10000
     },
     "inputWidgets": {},
     "nuid": "7c2997e0-22a5-45a7-914a-d79d37659867",
     "showTitle": false,
     "title": ""
    }
   },
   "outputs": [
    {
     "output_type": "display_data",
     "data": {
      "text/html": [
       "<style scoped>\n",
       "  .table-result-container {\n",
       "    max-height: 300px;\n",
       "    overflow: auto;\n",
       "  }\n",
       "  table, th, td {\n",
       "    border: 1px solid black;\n",
       "    border-collapse: collapse;\n",
       "  }\n",
       "  th, td {\n",
       "    padding: 5px;\n",
       "  }\n",
       "  th {\n",
       "    text-align: left;\n",
       "  }\n",
       "</style><div class='table-result-container'><table class='table-result'><thead style='background-color: white'><tr><th>DateTime</th><th>avg(Order Processing Time (mins))</th><th>Mean Order Processing Time</th></tr></thead><tbody><tr><td>2024-02-29T20:13:49.590+0000</td><td>2.1692585158991715</td><td>5.044609174099849</td></tr><tr><td>2024-02-29T20:18:41.294+0000</td><td>4.158709354469282</td><td>5.044609174099849</td></tr><tr><td>2024-02-29T20:24:20.155+0000</td><td>4.314570966946461</td><td>5.044609174099849</td></tr><tr><td>2024-02-29T20:30:51.537+0000</td><td>3.395445461556762</td><td>5.044609174099849</td></tr><tr><td>2024-02-29T20:35:37.488+0000</td><td>4.677428576667982</td><td>5.044609174099849</td></tr><tr><td>2024-02-29T20:40:23.440+0000</td><td>5.8081017136290765</td><td>5.044609174099849</td></tr><tr><td>2024-02-29T20:46:58.192+0000</td><td>8.77237180242106</td><td>5.044609174099849</td></tr><tr><td>2024-02-29T20:52:44.239+0000</td><td>5.349155625663678</td><td>5.044609174099849</td></tr><tr><td>2024-02-29T20:57:16.070+0000</td><td>5.515100781445529</td><td>5.044609174099849</td></tr><tr><td>2024-02-29T21:02:48.624+0000</td><td>4.851108168467666</td><td>5.044609174099849</td></tr><tr><td>2024-02-29T21:07:20.819+0000</td><td>1.162457569401917</td><td>5.044609174099849</td></tr><tr><td>2024-02-29T21:11:52.875+0000</td><td>4.946972249101567</td><td>5.044609174099849</td></tr><tr><td>2024-02-29T21:17:07.393+0000</td><td>5.120460419882053</td><td>5.044609174099849</td></tr><tr><td>2024-02-29T21:20:12.596+0000</td><td>9.926484224970572</td><td>5.044609174099849</td></tr><tr><td>2024-02-29T21:23:29.101+0000</td><td>4.615278070437755</td><td>5.044609174099849</td></tr><tr><td>2024-02-29T21:27:55.363+0000</td><td>5.603094684667225</td><td>5.044609174099849</td></tr><tr><td>2024-02-29T21:31:54.594+0000</td><td>4.9305764605895135</td><td>5.044609174099849</td></tr><tr><td>2024-02-29T21:37:13.448+0000</td><td>2.662643924760936</td><td>5.044609174099849</td></tr><tr><td>2024-02-29T21:41:18.967+0000</td><td>7.285645629030041</td><td>5.044609174099849</td></tr><tr><td>2024-02-29T21:44:54.229+0000</td><td>6.503866065373549</td><td>5.044609174099849</td></tr><tr><td>2024-02-29T21:51:22.168+0000</td><td>6.582063894086094</td><td>5.044609174099849</td></tr><tr><td>2024-02-29T21:56:08.621+0000</td><td>3.181225090410522</td><td>5.044609174099849</td></tr><tr><td>2024-02-29T22:01:12.673+0000</td><td>7.805588621872198</td><td>5.044609174099849</td></tr><tr><td>2024-02-29T22:04:47.188+0000</td><td>2.1962978744154382</td><td>5.044609174099849</td></tr><tr><td>2024-02-29T22:09:14.525+0000</td><td>6.173714187600541</td><td>5.044609174099849</td></tr><tr><td>2024-02-29T22:14:21.180+0000</td><td>9.380911251619956</td><td>5.044609174099849</td></tr><tr><td>2024-02-29T22:18:12.121+0000</td><td>3.0189273497386235</td><td>5.044609174099849</td></tr><tr><td>2024-02-29T22:23:34.663+0000</td><td>3.867404540794456</td><td>5.044609174099849</td></tr><tr><td>2024-02-29T22:27:58.624+0000</td><td>5.199302730175282</td><td>5.044609174099849</td></tr><tr><td>2024-02-29T22:32:41.123+0000</td><td>3.9930486917676014</td><td>5.044609174099849</td></tr><tr><td>2024-02-29T22:37:05.020+0000</td><td>1.8986731378677346</td><td>5.044609174099849</td></tr><tr><td>2024-02-29T22:43:56.157+0000</td><td>5.137125949612055</td><td>5.044609174099849</td></tr><tr><td>2024-02-29T22:48:55.347+0000</td><td>2.8753925725477902</td><td>5.044609174099849</td></tr><tr><td>2024-02-29T22:52:51.884+0000</td><td>5.9471848612703635</td><td>5.044609174099849</td></tr><tr><td>2024-02-29T22:58:41.237+0000</td><td>3.1611515315323935</td><td>5.044609174099849</td></tr><tr><td>2024-02-29T23:02:27.986+0000</td><td>8.09986881003508</td><td>5.044609174099849</td></tr><tr><td>2024-02-29T23:07:40.518+0000</td><td>3.4334934153275256</td><td>5.044609174099849</td></tr><tr><td>2024-02-29T23:10:42.938+0000</td><td>4.355876967588649</td><td>5.044609174099849</td></tr><tr><td>2024-02-29T23:14:23.247+0000</td><td>6.62703443473934</td><td>5.044609174099849</td></tr><tr><td>2024-02-29T23:19:35.059+0000</td><td>2.5382713671320896</td><td>5.044609174099849</td></tr><tr><td>2024-02-29T23:25:19.367+0000</td><td>5.4549198692082586</td><td>5.044609174099849</td></tr><tr><td>2024-02-29T23:30:29.649+0000</td><td>7.614285508564857</td><td>5.044609174099849</td></tr><tr><td>2024-02-29T23:35:22.710+0000</td><td>1.785033530877545</td><td>5.044609174099849</td></tr><tr><td>2024-02-29T23:40:04.644+0000</td><td>5.369267717064608</td><td>5.044609174099849</td></tr><tr><td>2024-02-29T23:43:35.932+0000</td><td>5.519765588496847</td><td>5.044609174099849</td></tr><tr><td>2024-02-29T23:47:52.742+0000</td><td>6.563645743554621</td><td>5.044609174099849</td></tr><tr><td>2024-02-29T23:52:25.103+0000</td><td>2.526098578243836</td><td>5.044609174099849</td></tr><tr><td>2024-02-29T23:58:28.531+0000</td><td>2.3590867738314474</td><td>5.044609174099849</td></tr><tr><td>2024-03-01T00:03:49.148+0000</td><td>6.0438831312337955</td><td>5.044609174099849</td></tr><tr><td>2024-03-01T00:07:03.365+0000</td><td>5.5939693464663724</td><td>5.044609174099849</td></tr><tr><td>2024-03-01T00:12:22.810+0000</td><td>5.5009857006917535</td><td>5.044609174099849</td></tr><tr><td>2024-03-01T00:16:59.705+0000</td><td>5.692896418993952</td><td>5.044609174099849</td></tr><tr><td>2024-03-01T00:21:19.090+0000</td><td>3.6399505568430186</td><td>5.044609174099849</td></tr><tr><td>2024-03-01T00:26:55.791+0000</td><td>5.464507394322007</td><td>5.044609174099849</td></tr><tr><td>2024-03-01T00:32:57.651+0000</td><td>5.586144946597362</td><td>5.044609174099849</td></tr><tr><td>2024-03-01T00:38:53.527+0000</td><td>3.571297163947264</td><td>5.044609174099849</td></tr><tr><td>2024-03-01T00:43:03.174+0000</td><td>8.731549022289514</td><td>5.044609174099849</td></tr><tr><td>2024-03-01T00:47:44.622+0000</td><td>5.947665841823575</td><td>5.044609174099849</td></tr><tr><td>2024-03-01T00:53:04.497+0000</td><td>2.617393005594703</td><td>5.044609174099849</td></tr><tr><td>2024-03-01T00:59:03.030+0000</td><td>6.313107217267659</td><td>5.044609174099849</td></tr><tr><td>2024-03-01T01:03:34.280+0000</td><td>3.050636659545357</td><td>5.044609174099849</td></tr><tr><td>2024-03-01T01:08:23.140+0000</td><td>6.574169207484904</td><td>5.044609174099849</td></tr><tr><td>2024-03-01T01:12:16.760+0000</td><td>7.317191158014808</td><td>5.044609174099849</td></tr><tr><td>2024-03-01T01:16:04.988+0000</td><td>3.358635363296579</td><td>5.044609174099849</td></tr><tr><td>2024-03-01T01:21:53.739+0000</td><td>6.926752258488643</td><td>5.044609174099849</td></tr><tr><td>2024-03-01T01:28:15.114+0000</td><td>5.825561853872997</td><td>5.044609174099849</td></tr><tr><td>2024-03-01T01:33:10.793+0000</td><td>6.64412031998898</td><td>5.044609174099849</td></tr><tr><td>2024-03-01T01:39:11.005+0000</td><td>8.793585965307894</td><td>5.044609174099849</td></tr><tr><td>2024-03-01T01:44:32.703+0000</td><td>4.509223767994259</td><td>5.044609174099849</td></tr><tr><td>2024-03-01T01:48:53.996+0000</td><td>3.492527671285021</td><td>5.044609174099849</td></tr><tr><td>2024-03-01T01:54:15.680+0000</td><td>3.2209711407489534</td><td>5.044609174099849</td></tr><tr><td>2024-03-01T02:00:47.962+0000</td><td>3.3683794300691234</td><td>5.044609174099849</td></tr><tr><td>2024-03-01T02:05:45.812+0000</td><td>4.845796581171792</td><td>5.044609174099849</td></tr><tr><td>2024-03-01T02:12:19.691+0000</td><td>5.682303949633288</td><td>5.044609174099849</td></tr><tr><td>2024-03-01T02:14:42.506+0000</td><td>5.553381598660038</td><td>5.044609174099849</td></tr><tr><td>2024-03-01T02:20:31.820+0000</td><td>6.654366498072047</td><td>5.044609174099849</td></tr><tr><td>2024-03-01T02:25:37.043+0000</td><td>5.026003783755814</td><td>5.044609174099849</td></tr><tr><td>2024-03-01T02:30:19.103+0000</td><td>7.907068154314634</td><td>5.044609174099849</td></tr><tr><td>2024-03-01T02:35:24.608+0000</td><td>4.470686333524088</td><td>5.044609174099849</td></tr><tr><td>2024-03-01T02:38:25.354+0000</td><td>10.440338333179238</td><td>5.044609174099849</td></tr><tr><td>2024-03-01T02:43:12.174+0000</td><td>6.251334695530012</td><td>5.044609174099849</td></tr><tr><td>2024-03-01T02:48:33.601+0000</td><td>3.285684887167435</td><td>5.044609174099849</td></tr><tr><td>2024-03-01T02:55:02.274+0000</td><td>2.8582150038777754</td><td>5.044609174099849</td></tr><tr><td>2024-03-01T02:59:31.178+0000</td><td>5.96494483048637</td><td>5.044609174099849</td></tr><tr><td>2024-03-01T03:03:42.669+0000</td><td>4.553074429348298</td><td>5.044609174099849</td></tr><tr><td>2024-03-01T03:08:12.563+0000</td><td>6.428000988184184</td><td>5.044609174099849</td></tr><tr><td>2024-03-01T03:14:07.487+0000</td><td>5.94647524914709</td><td>5.044609174099849</td></tr><tr><td>2024-03-01T03:19:27.212+0000</td><td>4.854342174686255</td><td>5.044609174099849</td></tr><tr><td>2024-03-01T03:23:55.427+0000</td><td>3.30641256386319</td><td>5.044609174099849</td></tr><tr><td>2024-03-01T03:29:26.223+0000</td><td>1.9703055506282707</td><td>5.044609174099849</td></tr><tr><td>2024-03-01T03:34:32.047+0000</td><td>4.106970095865957</td><td>5.044609174099849</td></tr><tr><td>2024-03-01T03:40:30.166+0000</td><td>6.712797588646945</td><td>5.044609174099849</td></tr><tr><td>2024-03-01T03:44:48.043+0000</td><td>5.4281874882604075</td><td>5.044609174099849</td></tr><tr><td>2024-03-01T03:49:28.383+0000</td><td>2.508522442576024</td><td>5.044609174099849</td></tr><tr><td>2024-03-01T03:54:04.857+0000</td><td>5.346361851702364</td><td>5.044609174099849</td></tr><tr><td>2024-03-01T03:57:37.046+0000</td><td>5.770634759457674</td><td>5.044609174099849</td></tr><tr><td>2024-03-01T04:02:54.813+0000</td><td>3.2322851275977342</td><td>5.044609174099849</td></tr><tr><td>2024-03-01T04:08:10.476+0000</td><td>5.307450211891056</td><td>5.044609174099849</td></tr><tr><td>2024-03-01T04:13:10.783+0000</td><td>5.116417436892</td><td>5.044609174099849</td></tr><tr><td>2024-03-01T04:17:56.708+0000</td><td>2.714059404338754</td><td>5.044609174099849</td></tr></tbody></table></div>"
      ]
     },
     "metadata": {
      "application/vnd.databricks.v1+output": {
       "addedWidgets": {},
       "aggData": [],
       "aggError": "",
       "aggOverflow": false,
       "aggSchema": [],
       "aggSeriesLimitReached": false,
       "aggType": "",
       "arguments": {},
       "columnCustomDisplayInfos": {},
       "data": [
        [
         "2024-02-29T20:13:49.590+0000",
         2.1692585158991715,
         5.044609174099849
        ],
        [
         "2024-02-29T20:18:41.294+0000",
         4.158709354469282,
         5.044609174099849
        ],
        [
         "2024-02-29T20:24:20.155+0000",
         4.314570966946461,
         5.044609174099849
        ],
        [
         "2024-02-29T20:30:51.537+0000",
         3.395445461556762,
         5.044609174099849
        ],
        [
         "2024-02-29T20:35:37.488+0000",
         4.677428576667982,
         5.044609174099849
        ],
        [
         "2024-02-29T20:40:23.440+0000",
         5.8081017136290765,
         5.044609174099849
        ],
        [
         "2024-02-29T20:46:58.192+0000",
         8.77237180242106,
         5.044609174099849
        ],
        [
         "2024-02-29T20:52:44.239+0000",
         5.349155625663678,
         5.044609174099849
        ],
        [
         "2024-02-29T20:57:16.070+0000",
         5.515100781445529,
         5.044609174099849
        ],
        [
         "2024-02-29T21:02:48.624+0000",
         4.851108168467666,
         5.044609174099849
        ],
        [
         "2024-02-29T21:07:20.819+0000",
         1.162457569401917,
         5.044609174099849
        ],
        [
         "2024-02-29T21:11:52.875+0000",
         4.946972249101567,
         5.044609174099849
        ],
        [
         "2024-02-29T21:17:07.393+0000",
         5.120460419882053,
         5.044609174099849
        ],
        [
         "2024-02-29T21:20:12.596+0000",
         9.926484224970572,
         5.044609174099849
        ],
        [
         "2024-02-29T21:23:29.101+0000",
         4.615278070437755,
         5.044609174099849
        ],
        [
         "2024-02-29T21:27:55.363+0000",
         5.603094684667225,
         5.044609174099849
        ],
        [
         "2024-02-29T21:31:54.594+0000",
         4.9305764605895135,
         5.044609174099849
        ],
        [
         "2024-02-29T21:37:13.448+0000",
         2.662643924760936,
         5.044609174099849
        ],
        [
         "2024-02-29T21:41:18.967+0000",
         7.285645629030041,
         5.044609174099849
        ],
        [
         "2024-02-29T21:44:54.229+0000",
         6.503866065373549,
         5.044609174099849
        ],
        [
         "2024-02-29T21:51:22.168+0000",
         6.582063894086094,
         5.044609174099849
        ],
        [
         "2024-02-29T21:56:08.621+0000",
         3.181225090410522,
         5.044609174099849
        ],
        [
         "2024-02-29T22:01:12.673+0000",
         7.805588621872198,
         5.044609174099849
        ],
        [
         "2024-02-29T22:04:47.188+0000",
         2.1962978744154382,
         5.044609174099849
        ],
        [
         "2024-02-29T22:09:14.525+0000",
         6.173714187600541,
         5.044609174099849
        ],
        [
         "2024-02-29T22:14:21.180+0000",
         9.380911251619956,
         5.044609174099849
        ],
        [
         "2024-02-29T22:18:12.121+0000",
         3.0189273497386235,
         5.044609174099849
        ],
        [
         "2024-02-29T22:23:34.663+0000",
         3.867404540794456,
         5.044609174099849
        ],
        [
         "2024-02-29T22:27:58.624+0000",
         5.199302730175282,
         5.044609174099849
        ],
        [
         "2024-02-29T22:32:41.123+0000",
         3.9930486917676014,
         5.044609174099849
        ],
        [
         "2024-02-29T22:37:05.020+0000",
         1.8986731378677346,
         5.044609174099849
        ],
        [
         "2024-02-29T22:43:56.157+0000",
         5.137125949612055,
         5.044609174099849
        ],
        [
         "2024-02-29T22:48:55.347+0000",
         2.8753925725477902,
         5.044609174099849
        ],
        [
         "2024-02-29T22:52:51.884+0000",
         5.9471848612703635,
         5.044609174099849
        ],
        [
         "2024-02-29T22:58:41.237+0000",
         3.1611515315323935,
         5.044609174099849
        ],
        [
         "2024-02-29T23:02:27.986+0000",
         8.09986881003508,
         5.044609174099849
        ],
        [
         "2024-02-29T23:07:40.518+0000",
         3.4334934153275256,
         5.044609174099849
        ],
        [
         "2024-02-29T23:10:42.938+0000",
         4.355876967588649,
         5.044609174099849
        ],
        [
         "2024-02-29T23:14:23.247+0000",
         6.62703443473934,
         5.044609174099849
        ],
        [
         "2024-02-29T23:19:35.059+0000",
         2.5382713671320896,
         5.044609174099849
        ],
        [
         "2024-02-29T23:25:19.367+0000",
         5.4549198692082586,
         5.044609174099849
        ],
        [
         "2024-02-29T23:30:29.649+0000",
         7.614285508564857,
         5.044609174099849
        ],
        [
         "2024-02-29T23:35:22.710+0000",
         1.785033530877545,
         5.044609174099849
        ],
        [
         "2024-02-29T23:40:04.644+0000",
         5.369267717064608,
         5.044609174099849
        ],
        [
         "2024-02-29T23:43:35.932+0000",
         5.519765588496847,
         5.044609174099849
        ],
        [
         "2024-02-29T23:47:52.742+0000",
         6.563645743554621,
         5.044609174099849
        ],
        [
         "2024-02-29T23:52:25.103+0000",
         2.526098578243836,
         5.044609174099849
        ],
        [
         "2024-02-29T23:58:28.531+0000",
         2.3590867738314474,
         5.044609174099849
        ],
        [
         "2024-03-01T00:03:49.148+0000",
         6.0438831312337955,
         5.044609174099849
        ],
        [
         "2024-03-01T00:07:03.365+0000",
         5.5939693464663724,
         5.044609174099849
        ],
        [
         "2024-03-01T00:12:22.810+0000",
         5.5009857006917535,
         5.044609174099849
        ],
        [
         "2024-03-01T00:16:59.705+0000",
         5.692896418993952,
         5.044609174099849
        ],
        [
         "2024-03-01T00:21:19.090+0000",
         3.6399505568430186,
         5.044609174099849
        ],
        [
         "2024-03-01T00:26:55.791+0000",
         5.464507394322007,
         5.044609174099849
        ],
        [
         "2024-03-01T00:32:57.651+0000",
         5.586144946597362,
         5.044609174099849
        ],
        [
         "2024-03-01T00:38:53.527+0000",
         3.571297163947264,
         5.044609174099849
        ],
        [
         "2024-03-01T00:43:03.174+0000",
         8.731549022289514,
         5.044609174099849
        ],
        [
         "2024-03-01T00:47:44.622+0000",
         5.947665841823575,
         5.044609174099849
        ],
        [
         "2024-03-01T00:53:04.497+0000",
         2.617393005594703,
         5.044609174099849
        ],
        [
         "2024-03-01T00:59:03.030+0000",
         6.313107217267659,
         5.044609174099849
        ],
        [
         "2024-03-01T01:03:34.280+0000",
         3.050636659545357,
         5.044609174099849
        ],
        [
         "2024-03-01T01:08:23.140+0000",
         6.574169207484904,
         5.044609174099849
        ],
        [
         "2024-03-01T01:12:16.760+0000",
         7.317191158014808,
         5.044609174099849
        ],
        [
         "2024-03-01T01:16:04.988+0000",
         3.358635363296579,
         5.044609174099849
        ],
        [
         "2024-03-01T01:21:53.739+0000",
         6.926752258488643,
         5.044609174099849
        ],
        [
         "2024-03-01T01:28:15.114+0000",
         5.825561853872997,
         5.044609174099849
        ],
        [
         "2024-03-01T01:33:10.793+0000",
         6.64412031998898,
         5.044609174099849
        ],
        [
         "2024-03-01T01:39:11.005+0000",
         8.793585965307894,
         5.044609174099849
        ],
        [
         "2024-03-01T01:44:32.703+0000",
         4.509223767994259,
         5.044609174099849
        ],
        [
         "2024-03-01T01:48:53.996+0000",
         3.492527671285021,
         5.044609174099849
        ],
        [
         "2024-03-01T01:54:15.680+0000",
         3.2209711407489534,
         5.044609174099849
        ],
        [
         "2024-03-01T02:00:47.962+0000",
         3.3683794300691234,
         5.044609174099849
        ],
        [
         "2024-03-01T02:05:45.812+0000",
         4.845796581171792,
         5.044609174099849
        ],
        [
         "2024-03-01T02:12:19.691+0000",
         5.682303949633288,
         5.044609174099849
        ],
        [
         "2024-03-01T02:14:42.506+0000",
         5.553381598660038,
         5.044609174099849
        ],
        [
         "2024-03-01T02:20:31.820+0000",
         6.654366498072047,
         5.044609174099849
        ],
        [
         "2024-03-01T02:25:37.043+0000",
         5.026003783755814,
         5.044609174099849
        ],
        [
         "2024-03-01T02:30:19.103+0000",
         7.907068154314634,
         5.044609174099849
        ],
        [
         "2024-03-01T02:35:24.608+0000",
         4.470686333524088,
         5.044609174099849
        ],
        [
         "2024-03-01T02:38:25.354+0000",
         10.440338333179238,
         5.044609174099849
        ],
        [
         "2024-03-01T02:43:12.174+0000",
         6.251334695530012,
         5.044609174099849
        ],
        [
         "2024-03-01T02:48:33.601+0000",
         3.285684887167435,
         5.044609174099849
        ],
        [
         "2024-03-01T02:55:02.274+0000",
         2.8582150038777754,
         5.044609174099849
        ],
        [
         "2024-03-01T02:59:31.178+0000",
         5.96494483048637,
         5.044609174099849
        ],
        [
         "2024-03-01T03:03:42.669+0000",
         4.553074429348298,
         5.044609174099849
        ],
        [
         "2024-03-01T03:08:12.563+0000",
         6.428000988184184,
         5.044609174099849
        ],
        [
         "2024-03-01T03:14:07.487+0000",
         5.94647524914709,
         5.044609174099849
        ],
        [
         "2024-03-01T03:19:27.212+0000",
         4.854342174686255,
         5.044609174099849
        ],
        [
         "2024-03-01T03:23:55.427+0000",
         3.30641256386319,
         5.044609174099849
        ],
        [
         "2024-03-01T03:29:26.223+0000",
         1.9703055506282707,
         5.044609174099849
        ],
        [
         "2024-03-01T03:34:32.047+0000",
         4.106970095865957,
         5.044609174099849
        ],
        [
         "2024-03-01T03:40:30.166+0000",
         6.712797588646945,
         5.044609174099849
        ],
        [
         "2024-03-01T03:44:48.043+0000",
         5.4281874882604075,
         5.044609174099849
        ],
        [
         "2024-03-01T03:49:28.383+0000",
         2.508522442576024,
         5.044609174099849
        ],
        [
         "2024-03-01T03:54:04.857+0000",
         5.346361851702364,
         5.044609174099849
        ],
        [
         "2024-03-01T03:57:37.046+0000",
         5.770634759457674,
         5.044609174099849
        ],
        [
         "2024-03-01T04:02:54.813+0000",
         3.2322851275977342,
         5.044609174099849
        ],
        [
         "2024-03-01T04:08:10.476+0000",
         5.307450211891056,
         5.044609174099849
        ],
        [
         "2024-03-01T04:13:10.783+0000",
         5.116417436892,
         5.044609174099849
        ],
        [
         "2024-03-01T04:17:56.708+0000",
         2.714059404338754,
         5.044609174099849
        ]
       ],
       "datasetInfos": [],
       "dbfsResultPath": null,
       "isJsonSchema": true,
       "metadata": {},
       "overflow": false,
       "plotOptions": {
        "customPlotOptions": {},
        "displayType": "table",
        "pivotAggregation": null,
        "pivotColumns": null,
        "xColumns": null,
        "yColumns": null
       },
       "removedWidgets": [],
       "schema": [
        {
         "metadata": "{}",
         "name": "DateTime",
         "type": "\"timestamp\""
        },
        {
         "metadata": "{}",
         "name": "avg(Order Processing Time (mins))",
         "type": "\"double\""
        },
        {
         "metadata": "{}",
         "name": "Mean Order Processing Time",
         "type": "\"double\""
        }
       ],
       "type": "table"
      }
     },
     "output_type": "display_data"
    }
   ],
   "source": [
    "from pyspark.sql.functions import avg, lit\n",
    "\n",
    "# Calculate average order processing time per day\n",
    "order_processing_time_daily_avg = till_df.groupBy(\"DateTime\").avg(\"Order Processing Time (mins)\").orderBy(\"DateTime\")\n",
    "\n",
    "# Calculate the overall mean of order processing times\n",
    "mean_order_processing_time = till_df.agg(avg(\"Order Processing Time (mins)\").alias(\"mean\")).collect()[0][\"mean\"]\n",
    "\n",
    "# Add the mean as a constant column to the daily average DataFrame\n",
    "order_processing_time_daily_avg = order_processing_time_daily_avg.withColumn(\"Mean Order Processing Time\", lit(mean_order_processing_time))\n",
    "\n",
    "# Display the DataFrame for plotting in Databricks as a run chart with mean\n",
    "display(order_processing_time_daily_avg)"
   ]
  },
  {
   "cell_type": "markdown",
   "metadata": {
    "application/vnd.databricks.v1+cell": {
     "cellMetadata": {
      "byteLimit": 2048000,
      "rowLimit": 10000
     },
     "inputWidgets": {},
     "nuid": "a5ae9eca-a0b2-4e07-84d2-45896d6b82c9",
     "showTitle": false,
     "title": ""
    }
   },
   "source": [
    "#### 2. Sales Amount ($) (Mean)\n",
    "Calculate the total sales amount per day:"
   ]
  },
  {
   "cell_type": "code",
   "execution_count": 0,
   "metadata": {
    "application/vnd.databricks.v1+cell": {
     "cellMetadata": {
      "byteLimit": 2048000,
      "rowLimit": 10000
     },
     "inputWidgets": {},
     "nuid": "8d8755f8-10fe-4ce3-97a6-db4eb91fba7b",
     "showTitle": false,
     "title": ""
    }
   },
   "outputs": [
    {
     "output_type": "display_data",
     "data": {
      "text/html": [
       "<style scoped>\n",
       "  .table-result-container {\n",
       "    max-height: 300px;\n",
       "    overflow: auto;\n",
       "  }\n",
       "  table, th, td {\n",
       "    border: 1px solid black;\n",
       "    border-collapse: collapse;\n",
       "  }\n",
       "  th, td {\n",
       "    padding: 5px;\n",
       "  }\n",
       "  th {\n",
       "    text-align: left;\n",
       "  }\n",
       "</style><div class='table-result-container'><table class='table-result'><thead style='background-color: white'><tr><th>DateTime</th><th>Order Correct Percentage</th><th>Mean Order Correct Percentage</th></tr></thead><tbody><tr><td>2024-02-29T20:13:49.590+0000</td><td>100.0</td><td>100.0</td></tr><tr><td>2024-02-29T20:18:41.294+0000</td><td>100.0</td><td>100.0</td></tr><tr><td>2024-02-29T20:24:20.155+0000</td><td>100.0</td><td>100.0</td></tr><tr><td>2024-02-29T20:30:51.537+0000</td><td>100.0</td><td>100.0</td></tr><tr><td>2024-02-29T20:35:37.488+0000</td><td>100.0</td><td>100.0</td></tr><tr><td>2024-02-29T20:40:23.440+0000</td><td>100.0</td><td>100.0</td></tr><tr><td>2024-02-29T20:46:58.192+0000</td><td>100.0</td><td>100.0</td></tr><tr><td>2024-02-29T20:52:44.239+0000</td><td>100.0</td><td>100.0</td></tr><tr><td>2024-02-29T20:57:16.070+0000</td><td>100.0</td><td>100.0</td></tr><tr><td>2024-02-29T21:02:48.624+0000</td><td>100.0</td><td>100.0</td></tr><tr><td>2024-02-29T21:07:20.819+0000</td><td>100.0</td><td>100.0</td></tr><tr><td>2024-02-29T21:11:52.875+0000</td><td>100.0</td><td>100.0</td></tr><tr><td>2024-02-29T21:17:07.393+0000</td><td>100.0</td><td>100.0</td></tr><tr><td>2024-02-29T21:20:12.596+0000</td><td>100.0</td><td>100.0</td></tr><tr><td>2024-02-29T21:23:29.101+0000</td><td>100.0</td><td>100.0</td></tr><tr><td>2024-02-29T21:27:55.363+0000</td><td>100.0</td><td>100.0</td></tr><tr><td>2024-02-29T21:31:54.594+0000</td><td>100.0</td><td>100.0</td></tr><tr><td>2024-02-29T21:37:13.448+0000</td><td>100.0</td><td>100.0</td></tr><tr><td>2024-02-29T21:41:18.967+0000</td><td>100.0</td><td>100.0</td></tr><tr><td>2024-02-29T21:44:54.229+0000</td><td>100.0</td><td>100.0</td></tr><tr><td>2024-02-29T21:51:22.168+0000</td><td>100.0</td><td>100.0</td></tr><tr><td>2024-02-29T21:56:08.621+0000</td><td>100.0</td><td>100.0</td></tr><tr><td>2024-02-29T22:01:12.673+0000</td><td>100.0</td><td>100.0</td></tr><tr><td>2024-02-29T22:04:47.188+0000</td><td>0.0</td><td>100.0</td></tr><tr><td>2024-02-29T22:09:14.525+0000</td><td>100.0</td><td>100.0</td></tr><tr><td>2024-02-29T22:14:21.180+0000</td><td>100.0</td><td>100.0</td></tr><tr><td>2024-02-29T22:18:12.121+0000</td><td>100.0</td><td>100.0</td></tr><tr><td>2024-02-29T22:23:34.663+0000</td><td>0.0</td><td>100.0</td></tr><tr><td>2024-02-29T22:27:58.624+0000</td><td>0.0</td><td>100.0</td></tr><tr><td>2024-02-29T22:32:41.123+0000</td><td>100.0</td><td>100.0</td></tr><tr><td>2024-02-29T22:37:05.020+0000</td><td>100.0</td><td>100.0</td></tr><tr><td>2024-02-29T22:43:56.157+0000</td><td>100.0</td><td>100.0</td></tr><tr><td>2024-02-29T22:48:55.347+0000</td><td>100.0</td><td>100.0</td></tr><tr><td>2024-02-29T22:52:51.884+0000</td><td>100.0</td><td>100.0</td></tr><tr><td>2024-02-29T22:58:41.237+0000</td><td>100.0</td><td>100.0</td></tr><tr><td>2024-02-29T23:02:27.986+0000</td><td>0.0</td><td>100.0</td></tr><tr><td>2024-02-29T23:07:40.518+0000</td><td>100.0</td><td>100.0</td></tr><tr><td>2024-02-29T23:10:42.938+0000</td><td>100.0</td><td>100.0</td></tr><tr><td>2024-02-29T23:14:23.247+0000</td><td>100.0</td><td>100.0</td></tr><tr><td>2024-02-29T23:19:35.059+0000</td><td>0.0</td><td>100.0</td></tr><tr><td>2024-02-29T23:25:19.367+0000</td><td>0.0</td><td>100.0</td></tr><tr><td>2024-02-29T23:30:29.649+0000</td><td>100.0</td><td>100.0</td></tr><tr><td>2024-02-29T23:35:22.710+0000</td><td>100.0</td><td>100.0</td></tr><tr><td>2024-02-29T23:40:04.644+0000</td><td>100.0</td><td>100.0</td></tr><tr><td>2024-02-29T23:43:35.932+0000</td><td>100.0</td><td>100.0</td></tr><tr><td>2024-02-29T23:47:52.742+0000</td><td>100.0</td><td>100.0</td></tr><tr><td>2024-02-29T23:52:25.103+0000</td><td>100.0</td><td>100.0</td></tr><tr><td>2024-02-29T23:58:28.531+0000</td><td>100.0</td><td>100.0</td></tr><tr><td>2024-03-01T00:03:49.148+0000</td><td>100.0</td><td>100.0</td></tr><tr><td>2024-03-01T00:07:03.365+0000</td><td>100.0</td><td>100.0</td></tr><tr><td>2024-03-01T00:12:22.810+0000</td><td>100.0</td><td>100.0</td></tr><tr><td>2024-03-01T00:16:59.705+0000</td><td>100.0</td><td>100.0</td></tr><tr><td>2024-03-01T00:21:19.090+0000</td><td>100.0</td><td>100.0</td></tr><tr><td>2024-03-01T00:26:55.791+0000</td><td>100.0</td><td>100.0</td></tr><tr><td>2024-03-01T00:32:57.651+0000</td><td>100.0</td><td>100.0</td></tr><tr><td>2024-03-01T00:38:53.527+0000</td><td>100.0</td><td>100.0</td></tr><tr><td>2024-03-01T00:43:03.174+0000</td><td>100.0</td><td>100.0</td></tr><tr><td>2024-03-01T00:47:44.622+0000</td><td>100.0</td><td>100.0</td></tr><tr><td>2024-03-01T00:53:04.497+0000</td><td>100.0</td><td>100.0</td></tr><tr><td>2024-03-01T00:59:03.030+0000</td><td>100.0</td><td>100.0</td></tr><tr><td>2024-03-01T01:03:34.280+0000</td><td>0.0</td><td>100.0</td></tr><tr><td>2024-03-01T01:08:23.140+0000</td><td>100.0</td><td>100.0</td></tr><tr><td>2024-03-01T01:12:16.760+0000</td><td>100.0</td><td>100.0</td></tr><tr><td>2024-03-01T01:16:04.988+0000</td><td>0.0</td><td>100.0</td></tr><tr><td>2024-03-01T01:21:53.739+0000</td><td>100.0</td><td>100.0</td></tr><tr><td>2024-03-01T01:28:15.114+0000</td><td>100.0</td><td>100.0</td></tr><tr><td>2024-03-01T01:33:10.793+0000</td><td>100.0</td><td>100.0</td></tr><tr><td>2024-03-01T01:39:11.005+0000</td><td>100.0</td><td>100.0</td></tr><tr><td>2024-03-01T01:44:32.703+0000</td><td>100.0</td><td>100.0</td></tr><tr><td>2024-03-01T01:48:53.996+0000</td><td>100.0</td><td>100.0</td></tr><tr><td>2024-03-01T01:54:15.680+0000</td><td>100.0</td><td>100.0</td></tr><tr><td>2024-03-01T02:00:47.962+0000</td><td>0.0</td><td>100.0</td></tr><tr><td>2024-03-01T02:05:45.812+0000</td><td>100.0</td><td>100.0</td></tr><tr><td>2024-03-01T02:12:19.691+0000</td><td>100.0</td><td>100.0</td></tr><tr><td>2024-03-01T02:14:42.506+0000</td><td>100.0</td><td>100.0</td></tr><tr><td>2024-03-01T02:20:31.820+0000</td><td>100.0</td><td>100.0</td></tr><tr><td>2024-03-01T02:25:37.043+0000</td><td>100.0</td><td>100.0</td></tr><tr><td>2024-03-01T02:30:19.103+0000</td><td>100.0</td><td>100.0</td></tr><tr><td>2024-03-01T02:35:24.608+0000</td><td>100.0</td><td>100.0</td></tr><tr><td>2024-03-01T02:38:25.354+0000</td><td>100.0</td><td>100.0</td></tr><tr><td>2024-03-01T02:43:12.174+0000</td><td>100.0</td><td>100.0</td></tr><tr><td>2024-03-01T02:48:33.601+0000</td><td>100.0</td><td>100.0</td></tr><tr><td>2024-03-01T02:55:02.274+0000</td><td>100.0</td><td>100.0</td></tr><tr><td>2024-03-01T02:59:31.178+0000</td><td>100.0</td><td>100.0</td></tr><tr><td>2024-03-01T03:03:42.669+0000</td><td>100.0</td><td>100.0</td></tr><tr><td>2024-03-01T03:08:12.563+0000</td><td>0.0</td><td>100.0</td></tr><tr><td>2024-03-01T03:14:07.487+0000</td><td>100.0</td><td>100.0</td></tr><tr><td>2024-03-01T03:19:27.212+0000</td><td>100.0</td><td>100.0</td></tr><tr><td>2024-03-01T03:23:55.427+0000</td><td>100.0</td><td>100.0</td></tr><tr><td>2024-03-01T03:29:26.223+0000</td><td>100.0</td><td>100.0</td></tr><tr><td>2024-03-01T03:34:32.047+0000</td><td>100.0</td><td>100.0</td></tr><tr><td>2024-03-01T03:40:30.166+0000</td><td>100.0</td><td>100.0</td></tr><tr><td>2024-03-01T03:44:48.043+0000</td><td>100.0</td><td>100.0</td></tr><tr><td>2024-03-01T03:49:28.383+0000</td><td>100.0</td><td>100.0</td></tr><tr><td>2024-03-01T03:54:04.857+0000</td><td>100.0</td><td>100.0</td></tr><tr><td>2024-03-01T03:57:37.046+0000</td><td>100.0</td><td>100.0</td></tr><tr><td>2024-03-01T04:02:54.813+0000</td><td>100.0</td><td>100.0</td></tr><tr><td>2024-03-01T04:08:10.476+0000</td><td>100.0</td><td>100.0</td></tr><tr><td>2024-03-01T04:13:10.783+0000</td><td>100.0</td><td>100.0</td></tr><tr><td>2024-03-01T04:17:56.708+0000</td><td>100.0</td><td>100.0</td></tr></tbody></table></div>"
      ]
     },
     "metadata": {
      "application/vnd.databricks.v1+output": {
       "addedWidgets": {},
       "aggData": [],
       "aggError": "",
       "aggOverflow": false,
       "aggSchema": [],
       "aggSeriesLimitReached": false,
       "aggType": "",
       "arguments": {},
       "columnCustomDisplayInfos": {},
       "data": [
        [
         "2024-02-29T20:13:49.590+0000",
         100.0,
         100.0
        ],
        [
         "2024-02-29T20:18:41.294+0000",
         100.0,
         100.0
        ],
        [
         "2024-02-29T20:24:20.155+0000",
         100.0,
         100.0
        ],
        [
         "2024-02-29T20:30:51.537+0000",
         100.0,
         100.0
        ],
        [
         "2024-02-29T20:35:37.488+0000",
         100.0,
         100.0
        ],
        [
         "2024-02-29T20:40:23.440+0000",
         100.0,
         100.0
        ],
        [
         "2024-02-29T20:46:58.192+0000",
         100.0,
         100.0
        ],
        [
         "2024-02-29T20:52:44.239+0000",
         100.0,
         100.0
        ],
        [
         "2024-02-29T20:57:16.070+0000",
         100.0,
         100.0
        ],
        [
         "2024-02-29T21:02:48.624+0000",
         100.0,
         100.0
        ],
        [
         "2024-02-29T21:07:20.819+0000",
         100.0,
         100.0
        ],
        [
         "2024-02-29T21:11:52.875+0000",
         100.0,
         100.0
        ],
        [
         "2024-02-29T21:17:07.393+0000",
         100.0,
         100.0
        ],
        [
         "2024-02-29T21:20:12.596+0000",
         100.0,
         100.0
        ],
        [
         "2024-02-29T21:23:29.101+0000",
         100.0,
         100.0
        ],
        [
         "2024-02-29T21:27:55.363+0000",
         100.0,
         100.0
        ],
        [
         "2024-02-29T21:31:54.594+0000",
         100.0,
         100.0
        ],
        [
         "2024-02-29T21:37:13.448+0000",
         100.0,
         100.0
        ],
        [
         "2024-02-29T21:41:18.967+0000",
         100.0,
         100.0
        ],
        [
         "2024-02-29T21:44:54.229+0000",
         100.0,
         100.0
        ],
        [
         "2024-02-29T21:51:22.168+0000",
         100.0,
         100.0
        ],
        [
         "2024-02-29T21:56:08.621+0000",
         100.0,
         100.0
        ],
        [
         "2024-02-29T22:01:12.673+0000",
         100.0,
         100.0
        ],
        [
         "2024-02-29T22:04:47.188+0000",
         0.0,
         100.0
        ],
        [
         "2024-02-29T22:09:14.525+0000",
         100.0,
         100.0
        ],
        [
         "2024-02-29T22:14:21.180+0000",
         100.0,
         100.0
        ],
        [
         "2024-02-29T22:18:12.121+0000",
         100.0,
         100.0
        ],
        [
         "2024-02-29T22:23:34.663+0000",
         0.0,
         100.0
        ],
        [
         "2024-02-29T22:27:58.624+0000",
         0.0,
         100.0
        ],
        [
         "2024-02-29T22:32:41.123+0000",
         100.0,
         100.0
        ],
        [
         "2024-02-29T22:37:05.020+0000",
         100.0,
         100.0
        ],
        [
         "2024-02-29T22:43:56.157+0000",
         100.0,
         100.0
        ],
        [
         "2024-02-29T22:48:55.347+0000",
         100.0,
         100.0
        ],
        [
         "2024-02-29T22:52:51.884+0000",
         100.0,
         100.0
        ],
        [
         "2024-02-29T22:58:41.237+0000",
         100.0,
         100.0
        ],
        [
         "2024-02-29T23:02:27.986+0000",
         0.0,
         100.0
        ],
        [
         "2024-02-29T23:07:40.518+0000",
         100.0,
         100.0
        ],
        [
         "2024-02-29T23:10:42.938+0000",
         100.0,
         100.0
        ],
        [
         "2024-02-29T23:14:23.247+0000",
         100.0,
         100.0
        ],
        [
         "2024-02-29T23:19:35.059+0000",
         0.0,
         100.0
        ],
        [
         "2024-02-29T23:25:19.367+0000",
         0.0,
         100.0
        ],
        [
         "2024-02-29T23:30:29.649+0000",
         100.0,
         100.0
        ],
        [
         "2024-02-29T23:35:22.710+0000",
         100.0,
         100.0
        ],
        [
         "2024-02-29T23:40:04.644+0000",
         100.0,
         100.0
        ],
        [
         "2024-02-29T23:43:35.932+0000",
         100.0,
         100.0
        ],
        [
         "2024-02-29T23:47:52.742+0000",
         100.0,
         100.0
        ],
        [
         "2024-02-29T23:52:25.103+0000",
         100.0,
         100.0
        ],
        [
         "2024-02-29T23:58:28.531+0000",
         100.0,
         100.0
        ],
        [
         "2024-03-01T00:03:49.148+0000",
         100.0,
         100.0
        ],
        [
         "2024-03-01T00:07:03.365+0000",
         100.0,
         100.0
        ],
        [
         "2024-03-01T00:12:22.810+0000",
         100.0,
         100.0
        ],
        [
         "2024-03-01T00:16:59.705+0000",
         100.0,
         100.0
        ],
        [
         "2024-03-01T00:21:19.090+0000",
         100.0,
         100.0
        ],
        [
         "2024-03-01T00:26:55.791+0000",
         100.0,
         100.0
        ],
        [
         "2024-03-01T00:32:57.651+0000",
         100.0,
         100.0
        ],
        [
         "2024-03-01T00:38:53.527+0000",
         100.0,
         100.0
        ],
        [
         "2024-03-01T00:43:03.174+0000",
         100.0,
         100.0
        ],
        [
         "2024-03-01T00:47:44.622+0000",
         100.0,
         100.0
        ],
        [
         "2024-03-01T00:53:04.497+0000",
         100.0,
         100.0
        ],
        [
         "2024-03-01T00:59:03.030+0000",
         100.0,
         100.0
        ],
        [
         "2024-03-01T01:03:34.280+0000",
         0.0,
         100.0
        ],
        [
         "2024-03-01T01:08:23.140+0000",
         100.0,
         100.0
        ],
        [
         "2024-03-01T01:12:16.760+0000",
         100.0,
         100.0
        ],
        [
         "2024-03-01T01:16:04.988+0000",
         0.0,
         100.0
        ],
        [
         "2024-03-01T01:21:53.739+0000",
         100.0,
         100.0
        ],
        [
         "2024-03-01T01:28:15.114+0000",
         100.0,
         100.0
        ],
        [
         "2024-03-01T01:33:10.793+0000",
         100.0,
         100.0
        ],
        [
         "2024-03-01T01:39:11.005+0000",
         100.0,
         100.0
        ],
        [
         "2024-03-01T01:44:32.703+0000",
         100.0,
         100.0
        ],
        [
         "2024-03-01T01:48:53.996+0000",
         100.0,
         100.0
        ],
        [
         "2024-03-01T01:54:15.680+0000",
         100.0,
         100.0
        ],
        [
         "2024-03-01T02:00:47.962+0000",
         0.0,
         100.0
        ],
        [
         "2024-03-01T02:05:45.812+0000",
         100.0,
         100.0
        ],
        [
         "2024-03-01T02:12:19.691+0000",
         100.0,
         100.0
        ],
        [
         "2024-03-01T02:14:42.506+0000",
         100.0,
         100.0
        ],
        [
         "2024-03-01T02:20:31.820+0000",
         100.0,
         100.0
        ],
        [
         "2024-03-01T02:25:37.043+0000",
         100.0,
         100.0
        ],
        [
         "2024-03-01T02:30:19.103+0000",
         100.0,
         100.0
        ],
        [
         "2024-03-01T02:35:24.608+0000",
         100.0,
         100.0
        ],
        [
         "2024-03-01T02:38:25.354+0000",
         100.0,
         100.0
        ],
        [
         "2024-03-01T02:43:12.174+0000",
         100.0,
         100.0
        ],
        [
         "2024-03-01T02:48:33.601+0000",
         100.0,
         100.0
        ],
        [
         "2024-03-01T02:55:02.274+0000",
         100.0,
         100.0
        ],
        [
         "2024-03-01T02:59:31.178+0000",
         100.0,
         100.0
        ],
        [
         "2024-03-01T03:03:42.669+0000",
         100.0,
         100.0
        ],
        [
         "2024-03-01T03:08:12.563+0000",
         0.0,
         100.0
        ],
        [
         "2024-03-01T03:14:07.487+0000",
         100.0,
         100.0
        ],
        [
         "2024-03-01T03:19:27.212+0000",
         100.0,
         100.0
        ],
        [
         "2024-03-01T03:23:55.427+0000",
         100.0,
         100.0
        ],
        [
         "2024-03-01T03:29:26.223+0000",
         100.0,
         100.0
        ],
        [
         "2024-03-01T03:34:32.047+0000",
         100.0,
         100.0
        ],
        [
         "2024-03-01T03:40:30.166+0000",
         100.0,
         100.0
        ],
        [
         "2024-03-01T03:44:48.043+0000",
         100.0,
         100.0
        ],
        [
         "2024-03-01T03:49:28.383+0000",
         100.0,
         100.0
        ],
        [
         "2024-03-01T03:54:04.857+0000",
         100.0,
         100.0
        ],
        [
         "2024-03-01T03:57:37.046+0000",
         100.0,
         100.0
        ],
        [
         "2024-03-01T04:02:54.813+0000",
         100.0,
         100.0
        ],
        [
         "2024-03-01T04:08:10.476+0000",
         100.0,
         100.0
        ],
        [
         "2024-03-01T04:13:10.783+0000",
         100.0,
         100.0
        ],
        [
         "2024-03-01T04:17:56.708+0000",
         100.0,
         100.0
        ]
       ],
       "datasetInfos": [],
       "dbfsResultPath": null,
       "isJsonSchema": true,
       "metadata": {},
       "overflow": false,
       "plotOptions": {
        "customPlotOptions": {},
        "displayType": "table",
        "pivotAggregation": null,
        "pivotColumns": null,
        "xColumns": null,
        "yColumns": null
       },
       "removedWidgets": [],
       "schema": [
        {
         "metadata": "{}",
         "name": "DateTime",
         "type": "\"timestamp\""
        },
        {
         "metadata": "{}",
         "name": "Order Correct Percentage",
         "type": "\"double\""
        },
        {
         "metadata": "{}",
         "name": "Mean Order Correct Percentage",
         "type": "\"double\""
        }
       ],
       "type": "table"
      }
     },
     "output_type": "display_data"
    }
   ],
   "source": [
    "from pyspark.sql.functions import sum as _sum, count as _count, col\n",
    "\n",
    "# Calculate daily percentage of orders that were correct\n",
    "order_correct_daily_percentage = till_df.groupBy(\"DateTime\").agg(\n",
    "    (_sum(col(\"Order Correct\").cast(\"int\")) / _count(\"*\") * 100).alias(\"Order Correct Percentage\")\n",
    ").orderBy(\"DateTime\")\n",
    "\n",
    "# Calculate the overall mean of the order correct percentage\n",
    "mean_order_correct_percentage = order_correct_daily_percentage.approxQuantile(\"Order Correct Percentage\", [0.5], 0)[0]\n",
    "\n",
    "# Add the mean as a constant column to the daily percentage DataFrame\n",
    "order_correct_daily_percentage = order_correct_daily_percentage.withColumn(\"Mean Order Correct Percentage\", lit(mean_order_correct_percentage))\n",
    "\n",
    "# Display the DataFrame for plotting in Databricks as a run chart with mean\n",
    "display(order_correct_daily_percentage)"
   ]
  },
  {
   "cell_type": "markdown",
   "metadata": {
    "application/vnd.databricks.v1+cell": {
     "cellMetadata": {
      "byteLimit": 2048000,
      "rowLimit": 10000
     },
     "inputWidgets": {},
     "nuid": "10bea444-2bd9-4bc6-998c-8a2383366287",
     "showTitle": false,
     "title": ""
    }
   },
   "source": [
    "#### 3. Order Correct Percentage (Mean)\n",
    "Calculate the daily percentage of orders that were correct:"
   ]
  },
  {
   "cell_type": "code",
   "execution_count": 0,
   "metadata": {
    "application/vnd.databricks.v1+cell": {
     "cellMetadata": {
      "byteLimit": 2048000,
      "rowLimit": 10000
     },
     "inputWidgets": {},
     "nuid": "3191f91c-8848-412a-a4f2-78a002227b5a",
     "showTitle": false,
     "title": ""
    }
   },
   "outputs": [
    {
     "output_type": "display_data",
     "data": {
      "text/html": [
       "<style scoped>\n",
       "  .table-result-container {\n",
       "    max-height: 300px;\n",
       "    overflow: auto;\n",
       "  }\n",
       "  table, th, td {\n",
       "    border: 1px solid black;\n",
       "    border-collapse: collapse;\n",
       "  }\n",
       "  th, td {\n",
       "    padding: 5px;\n",
       "  }\n",
       "  th {\n",
       "    text-align: left;\n",
       "  }\n",
       "</style><div class='table-result-container'><table class='table-result'><thead style='background-color: white'><tr><th>DateTime</th><th>Order Correct Percentage</th><th>Mean Order Correct Percentage</th></tr></thead><tbody><tr><td>2024-02-29T20:13:49.590+0000</td><td>100.0</td><td>90.0</td></tr><tr><td>2024-02-29T20:18:41.294+0000</td><td>100.0</td><td>90.0</td></tr><tr><td>2024-02-29T20:24:20.155+0000</td><td>100.0</td><td>90.0</td></tr><tr><td>2024-02-29T20:30:51.537+0000</td><td>100.0</td><td>90.0</td></tr><tr><td>2024-02-29T20:35:37.488+0000</td><td>100.0</td><td>90.0</td></tr><tr><td>2024-02-29T20:40:23.440+0000</td><td>100.0</td><td>90.0</td></tr><tr><td>2024-02-29T20:46:58.192+0000</td><td>100.0</td><td>90.0</td></tr><tr><td>2024-02-29T20:52:44.239+0000</td><td>100.0</td><td>90.0</td></tr><tr><td>2024-02-29T20:57:16.070+0000</td><td>100.0</td><td>90.0</td></tr><tr><td>2024-02-29T21:02:48.624+0000</td><td>100.0</td><td>90.0</td></tr><tr><td>2024-02-29T21:07:20.819+0000</td><td>100.0</td><td>90.0</td></tr><tr><td>2024-02-29T21:11:52.875+0000</td><td>100.0</td><td>90.0</td></tr><tr><td>2024-02-29T21:17:07.393+0000</td><td>100.0</td><td>90.0</td></tr><tr><td>2024-02-29T21:20:12.596+0000</td><td>100.0</td><td>90.0</td></tr><tr><td>2024-02-29T21:23:29.101+0000</td><td>100.0</td><td>90.0</td></tr><tr><td>2024-02-29T21:27:55.363+0000</td><td>100.0</td><td>90.0</td></tr><tr><td>2024-02-29T21:31:54.594+0000</td><td>100.0</td><td>90.0</td></tr><tr><td>2024-02-29T21:37:13.448+0000</td><td>100.0</td><td>90.0</td></tr><tr><td>2024-02-29T21:41:18.967+0000</td><td>100.0</td><td>90.0</td></tr><tr><td>2024-02-29T21:44:54.229+0000</td><td>100.0</td><td>90.0</td></tr><tr><td>2024-02-29T21:51:22.168+0000</td><td>100.0</td><td>90.0</td></tr><tr><td>2024-02-29T21:56:08.621+0000</td><td>100.0</td><td>90.0</td></tr><tr><td>2024-02-29T22:01:12.673+0000</td><td>100.0</td><td>90.0</td></tr><tr><td>2024-02-29T22:04:47.188+0000</td><td>0.0</td><td>90.0</td></tr><tr><td>2024-02-29T22:09:14.525+0000</td><td>100.0</td><td>90.0</td></tr><tr><td>2024-02-29T22:14:21.180+0000</td><td>100.0</td><td>90.0</td></tr><tr><td>2024-02-29T22:18:12.121+0000</td><td>100.0</td><td>90.0</td></tr><tr><td>2024-02-29T22:23:34.663+0000</td><td>0.0</td><td>90.0</td></tr><tr><td>2024-02-29T22:27:58.624+0000</td><td>0.0</td><td>90.0</td></tr><tr><td>2024-02-29T22:32:41.123+0000</td><td>100.0</td><td>90.0</td></tr><tr><td>2024-02-29T22:37:05.020+0000</td><td>100.0</td><td>90.0</td></tr><tr><td>2024-02-29T22:43:56.157+0000</td><td>100.0</td><td>90.0</td></tr><tr><td>2024-02-29T22:48:55.347+0000</td><td>100.0</td><td>90.0</td></tr><tr><td>2024-02-29T22:52:51.884+0000</td><td>100.0</td><td>90.0</td></tr><tr><td>2024-02-29T22:58:41.237+0000</td><td>100.0</td><td>90.0</td></tr><tr><td>2024-02-29T23:02:27.986+0000</td><td>0.0</td><td>90.0</td></tr><tr><td>2024-02-29T23:07:40.518+0000</td><td>100.0</td><td>90.0</td></tr><tr><td>2024-02-29T23:10:42.938+0000</td><td>100.0</td><td>90.0</td></tr><tr><td>2024-02-29T23:14:23.247+0000</td><td>100.0</td><td>90.0</td></tr><tr><td>2024-02-29T23:19:35.059+0000</td><td>0.0</td><td>90.0</td></tr><tr><td>2024-02-29T23:25:19.367+0000</td><td>0.0</td><td>90.0</td></tr><tr><td>2024-02-29T23:30:29.649+0000</td><td>100.0</td><td>90.0</td></tr><tr><td>2024-02-29T23:35:22.710+0000</td><td>100.0</td><td>90.0</td></tr><tr><td>2024-02-29T23:40:04.644+0000</td><td>100.0</td><td>90.0</td></tr><tr><td>2024-02-29T23:43:35.932+0000</td><td>100.0</td><td>90.0</td></tr><tr><td>2024-02-29T23:47:52.742+0000</td><td>100.0</td><td>90.0</td></tr><tr><td>2024-02-29T23:52:25.103+0000</td><td>100.0</td><td>90.0</td></tr><tr><td>2024-02-29T23:58:28.531+0000</td><td>100.0</td><td>90.0</td></tr><tr><td>2024-03-01T00:03:49.148+0000</td><td>100.0</td><td>90.0</td></tr><tr><td>2024-03-01T00:07:03.365+0000</td><td>100.0</td><td>90.0</td></tr><tr><td>2024-03-01T00:12:22.810+0000</td><td>100.0</td><td>90.0</td></tr><tr><td>2024-03-01T00:16:59.705+0000</td><td>100.0</td><td>90.0</td></tr><tr><td>2024-03-01T00:21:19.090+0000</td><td>100.0</td><td>90.0</td></tr><tr><td>2024-03-01T00:26:55.791+0000</td><td>100.0</td><td>90.0</td></tr><tr><td>2024-03-01T00:32:57.651+0000</td><td>100.0</td><td>90.0</td></tr><tr><td>2024-03-01T00:38:53.527+0000</td><td>100.0</td><td>90.0</td></tr><tr><td>2024-03-01T00:43:03.174+0000</td><td>100.0</td><td>90.0</td></tr><tr><td>2024-03-01T00:47:44.622+0000</td><td>100.0</td><td>90.0</td></tr><tr><td>2024-03-01T00:53:04.497+0000</td><td>100.0</td><td>90.0</td></tr><tr><td>2024-03-01T00:59:03.030+0000</td><td>100.0</td><td>90.0</td></tr><tr><td>2024-03-01T01:03:34.280+0000</td><td>0.0</td><td>90.0</td></tr><tr><td>2024-03-01T01:08:23.140+0000</td><td>100.0</td><td>90.0</td></tr><tr><td>2024-03-01T01:12:16.760+0000</td><td>100.0</td><td>90.0</td></tr><tr><td>2024-03-01T01:16:04.988+0000</td><td>0.0</td><td>90.0</td></tr><tr><td>2024-03-01T01:21:53.739+0000</td><td>100.0</td><td>90.0</td></tr><tr><td>2024-03-01T01:28:15.114+0000</td><td>100.0</td><td>90.0</td></tr><tr><td>2024-03-01T01:33:10.793+0000</td><td>100.0</td><td>90.0</td></tr><tr><td>2024-03-01T01:39:11.005+0000</td><td>100.0</td><td>90.0</td></tr><tr><td>2024-03-01T01:44:32.703+0000</td><td>100.0</td><td>90.0</td></tr><tr><td>2024-03-01T01:48:53.996+0000</td><td>100.0</td><td>90.0</td></tr><tr><td>2024-03-01T01:54:15.680+0000</td><td>100.0</td><td>90.0</td></tr><tr><td>2024-03-01T02:00:47.962+0000</td><td>0.0</td><td>90.0</td></tr><tr><td>2024-03-01T02:05:45.812+0000</td><td>100.0</td><td>90.0</td></tr><tr><td>2024-03-01T02:12:19.691+0000</td><td>100.0</td><td>90.0</td></tr><tr><td>2024-03-01T02:14:42.506+0000</td><td>100.0</td><td>90.0</td></tr><tr><td>2024-03-01T02:20:31.820+0000</td><td>100.0</td><td>90.0</td></tr><tr><td>2024-03-01T02:25:37.043+0000</td><td>100.0</td><td>90.0</td></tr><tr><td>2024-03-01T02:30:19.103+0000</td><td>100.0</td><td>90.0</td></tr><tr><td>2024-03-01T02:35:24.608+0000</td><td>100.0</td><td>90.0</td></tr><tr><td>2024-03-01T02:38:25.354+0000</td><td>100.0</td><td>90.0</td></tr><tr><td>2024-03-01T02:43:12.174+0000</td><td>100.0</td><td>90.0</td></tr><tr><td>2024-03-01T02:48:33.601+0000</td><td>100.0</td><td>90.0</td></tr><tr><td>2024-03-01T02:55:02.274+0000</td><td>100.0</td><td>90.0</td></tr><tr><td>2024-03-01T02:59:31.178+0000</td><td>100.0</td><td>90.0</td></tr><tr><td>2024-03-01T03:03:42.669+0000</td><td>100.0</td><td>90.0</td></tr><tr><td>2024-03-01T03:08:12.563+0000</td><td>0.0</td><td>90.0</td></tr><tr><td>2024-03-01T03:14:07.487+0000</td><td>100.0</td><td>90.0</td></tr><tr><td>2024-03-01T03:19:27.212+0000</td><td>100.0</td><td>90.0</td></tr><tr><td>2024-03-01T03:23:55.427+0000</td><td>100.0</td><td>90.0</td></tr><tr><td>2024-03-01T03:29:26.223+0000</td><td>100.0</td><td>90.0</td></tr><tr><td>2024-03-01T03:34:32.047+0000</td><td>100.0</td><td>90.0</td></tr><tr><td>2024-03-01T03:40:30.166+0000</td><td>100.0</td><td>90.0</td></tr><tr><td>2024-03-01T03:44:48.043+0000</td><td>100.0</td><td>90.0</td></tr><tr><td>2024-03-01T03:49:28.383+0000</td><td>100.0</td><td>90.0</td></tr><tr><td>2024-03-01T03:54:04.857+0000</td><td>100.0</td><td>90.0</td></tr><tr><td>2024-03-01T03:57:37.046+0000</td><td>100.0</td><td>90.0</td></tr><tr><td>2024-03-01T04:02:54.813+0000</td><td>100.0</td><td>90.0</td></tr><tr><td>2024-03-01T04:08:10.476+0000</td><td>100.0</td><td>90.0</td></tr><tr><td>2024-03-01T04:13:10.783+0000</td><td>100.0</td><td>90.0</td></tr><tr><td>2024-03-01T04:17:56.708+0000</td><td>100.0</td><td>90.0</td></tr></tbody></table></div>"
      ]
     },
     "metadata": {
      "application/vnd.databricks.v1+output": {
       "addedWidgets": {},
       "aggData": [],
       "aggError": "",
       "aggOverflow": false,
       "aggSchema": [],
       "aggSeriesLimitReached": false,
       "aggType": "",
       "arguments": {},
       "columnCustomDisplayInfos": {},
       "data": [
        [
         "2024-02-29T20:13:49.590+0000",
         100.0,
         90.0
        ],
        [
         "2024-02-29T20:18:41.294+0000",
         100.0,
         90.0
        ],
        [
         "2024-02-29T20:24:20.155+0000",
         100.0,
         90.0
        ],
        [
         "2024-02-29T20:30:51.537+0000",
         100.0,
         90.0
        ],
        [
         "2024-02-29T20:35:37.488+0000",
         100.0,
         90.0
        ],
        [
         "2024-02-29T20:40:23.440+0000",
         100.0,
         90.0
        ],
        [
         "2024-02-29T20:46:58.192+0000",
         100.0,
         90.0
        ],
        [
         "2024-02-29T20:52:44.239+0000",
         100.0,
         90.0
        ],
        [
         "2024-02-29T20:57:16.070+0000",
         100.0,
         90.0
        ],
        [
         "2024-02-29T21:02:48.624+0000",
         100.0,
         90.0
        ],
        [
         "2024-02-29T21:07:20.819+0000",
         100.0,
         90.0
        ],
        [
         "2024-02-29T21:11:52.875+0000",
         100.0,
         90.0
        ],
        [
         "2024-02-29T21:17:07.393+0000",
         100.0,
         90.0
        ],
        [
         "2024-02-29T21:20:12.596+0000",
         100.0,
         90.0
        ],
        [
         "2024-02-29T21:23:29.101+0000",
         100.0,
         90.0
        ],
        [
         "2024-02-29T21:27:55.363+0000",
         100.0,
         90.0
        ],
        [
         "2024-02-29T21:31:54.594+0000",
         100.0,
         90.0
        ],
        [
         "2024-02-29T21:37:13.448+0000",
         100.0,
         90.0
        ],
        [
         "2024-02-29T21:41:18.967+0000",
         100.0,
         90.0
        ],
        [
         "2024-02-29T21:44:54.229+0000",
         100.0,
         90.0
        ],
        [
         "2024-02-29T21:51:22.168+0000",
         100.0,
         90.0
        ],
        [
         "2024-02-29T21:56:08.621+0000",
         100.0,
         90.0
        ],
        [
         "2024-02-29T22:01:12.673+0000",
         100.0,
         90.0
        ],
        [
         "2024-02-29T22:04:47.188+0000",
         0.0,
         90.0
        ],
        [
         "2024-02-29T22:09:14.525+0000",
         100.0,
         90.0
        ],
        [
         "2024-02-29T22:14:21.180+0000",
         100.0,
         90.0
        ],
        [
         "2024-02-29T22:18:12.121+0000",
         100.0,
         90.0
        ],
        [
         "2024-02-29T22:23:34.663+0000",
         0.0,
         90.0
        ],
        [
         "2024-02-29T22:27:58.624+0000",
         0.0,
         90.0
        ],
        [
         "2024-02-29T22:32:41.123+0000",
         100.0,
         90.0
        ],
        [
         "2024-02-29T22:37:05.020+0000",
         100.0,
         90.0
        ],
        [
         "2024-02-29T22:43:56.157+0000",
         100.0,
         90.0
        ],
        [
         "2024-02-29T22:48:55.347+0000",
         100.0,
         90.0
        ],
        [
         "2024-02-29T22:52:51.884+0000",
         100.0,
         90.0
        ],
        [
         "2024-02-29T22:58:41.237+0000",
         100.0,
         90.0
        ],
        [
         "2024-02-29T23:02:27.986+0000",
         0.0,
         90.0
        ],
        [
         "2024-02-29T23:07:40.518+0000",
         100.0,
         90.0
        ],
        [
         "2024-02-29T23:10:42.938+0000",
         100.0,
         90.0
        ],
        [
         "2024-02-29T23:14:23.247+0000",
         100.0,
         90.0
        ],
        [
         "2024-02-29T23:19:35.059+0000",
         0.0,
         90.0
        ],
        [
         "2024-02-29T23:25:19.367+0000",
         0.0,
         90.0
        ],
        [
         "2024-02-29T23:30:29.649+0000",
         100.0,
         90.0
        ],
        [
         "2024-02-29T23:35:22.710+0000",
         100.0,
         90.0
        ],
        [
         "2024-02-29T23:40:04.644+0000",
         100.0,
         90.0
        ],
        [
         "2024-02-29T23:43:35.932+0000",
         100.0,
         90.0
        ],
        [
         "2024-02-29T23:47:52.742+0000",
         100.0,
         90.0
        ],
        [
         "2024-02-29T23:52:25.103+0000",
         100.0,
         90.0
        ],
        [
         "2024-02-29T23:58:28.531+0000",
         100.0,
         90.0
        ],
        [
         "2024-03-01T00:03:49.148+0000",
         100.0,
         90.0
        ],
        [
         "2024-03-01T00:07:03.365+0000",
         100.0,
         90.0
        ],
        [
         "2024-03-01T00:12:22.810+0000",
         100.0,
         90.0
        ],
        [
         "2024-03-01T00:16:59.705+0000",
         100.0,
         90.0
        ],
        [
         "2024-03-01T00:21:19.090+0000",
         100.0,
         90.0
        ],
        [
         "2024-03-01T00:26:55.791+0000",
         100.0,
         90.0
        ],
        [
         "2024-03-01T00:32:57.651+0000",
         100.0,
         90.0
        ],
        [
         "2024-03-01T00:38:53.527+0000",
         100.0,
         90.0
        ],
        [
         "2024-03-01T00:43:03.174+0000",
         100.0,
         90.0
        ],
        [
         "2024-03-01T00:47:44.622+0000",
         100.0,
         90.0
        ],
        [
         "2024-03-01T00:53:04.497+0000",
         100.0,
         90.0
        ],
        [
         "2024-03-01T00:59:03.030+0000",
         100.0,
         90.0
        ],
        [
         "2024-03-01T01:03:34.280+0000",
         0.0,
         90.0
        ],
        [
         "2024-03-01T01:08:23.140+0000",
         100.0,
         90.0
        ],
        [
         "2024-03-01T01:12:16.760+0000",
         100.0,
         90.0
        ],
        [
         "2024-03-01T01:16:04.988+0000",
         0.0,
         90.0
        ],
        [
         "2024-03-01T01:21:53.739+0000",
         100.0,
         90.0
        ],
        [
         "2024-03-01T01:28:15.114+0000",
         100.0,
         90.0
        ],
        [
         "2024-03-01T01:33:10.793+0000",
         100.0,
         90.0
        ],
        [
         "2024-03-01T01:39:11.005+0000",
         100.0,
         90.0
        ],
        [
         "2024-03-01T01:44:32.703+0000",
         100.0,
         90.0
        ],
        [
         "2024-03-01T01:48:53.996+0000",
         100.0,
         90.0
        ],
        [
         "2024-03-01T01:54:15.680+0000",
         100.0,
         90.0
        ],
        [
         "2024-03-01T02:00:47.962+0000",
         0.0,
         90.0
        ],
        [
         "2024-03-01T02:05:45.812+0000",
         100.0,
         90.0
        ],
        [
         "2024-03-01T02:12:19.691+0000",
         100.0,
         90.0
        ],
        [
         "2024-03-01T02:14:42.506+0000",
         100.0,
         90.0
        ],
        [
         "2024-03-01T02:20:31.820+0000",
         100.0,
         90.0
        ],
        [
         "2024-03-01T02:25:37.043+0000",
         100.0,
         90.0
        ],
        [
         "2024-03-01T02:30:19.103+0000",
         100.0,
         90.0
        ],
        [
         "2024-03-01T02:35:24.608+0000",
         100.0,
         90.0
        ],
        [
         "2024-03-01T02:38:25.354+0000",
         100.0,
         90.0
        ],
        [
         "2024-03-01T02:43:12.174+0000",
         100.0,
         90.0
        ],
        [
         "2024-03-01T02:48:33.601+0000",
         100.0,
         90.0
        ],
        [
         "2024-03-01T02:55:02.274+0000",
         100.0,
         90.0
        ],
        [
         "2024-03-01T02:59:31.178+0000",
         100.0,
         90.0
        ],
        [
         "2024-03-01T03:03:42.669+0000",
         100.0,
         90.0
        ],
        [
         "2024-03-01T03:08:12.563+0000",
         0.0,
         90.0
        ],
        [
         "2024-03-01T03:14:07.487+0000",
         100.0,
         90.0
        ],
        [
         "2024-03-01T03:19:27.212+0000",
         100.0,
         90.0
        ],
        [
         "2024-03-01T03:23:55.427+0000",
         100.0,
         90.0
        ],
        [
         "2024-03-01T03:29:26.223+0000",
         100.0,
         90.0
        ],
        [
         "2024-03-01T03:34:32.047+0000",
         100.0,
         90.0
        ],
        [
         "2024-03-01T03:40:30.166+0000",
         100.0,
         90.0
        ],
        [
         "2024-03-01T03:44:48.043+0000",
         100.0,
         90.0
        ],
        [
         "2024-03-01T03:49:28.383+0000",
         100.0,
         90.0
        ],
        [
         "2024-03-01T03:54:04.857+0000",
         100.0,
         90.0
        ],
        [
         "2024-03-01T03:57:37.046+0000",
         100.0,
         90.0
        ],
        [
         "2024-03-01T04:02:54.813+0000",
         100.0,
         90.0
        ],
        [
         "2024-03-01T04:08:10.476+0000",
         100.0,
         90.0
        ],
        [
         "2024-03-01T04:13:10.783+0000",
         100.0,
         90.0
        ],
        [
         "2024-03-01T04:17:56.708+0000",
         100.0,
         90.0
        ]
       ],
       "datasetInfos": [],
       "dbfsResultPath": null,
       "isJsonSchema": true,
       "metadata": {},
       "overflow": false,
       "plotOptions": {
        "customPlotOptions": {},
        "displayType": "table",
        "pivotAggregation": null,
        "pivotColumns": null,
        "xColumns": null,
        "yColumns": null
       },
       "removedWidgets": [],
       "schema": [
        {
         "metadata": "{}",
         "name": "DateTime",
         "type": "\"timestamp\""
        },
        {
         "metadata": "{}",
         "name": "Order Correct Percentage",
         "type": "\"double\""
        },
        {
         "metadata": "{}",
         "name": "Mean Order Correct Percentage",
         "type": "\"double\""
        }
       ],
       "type": "table"
      }
     },
     "output_type": "display_data"
    }
   ],
   "source": [
    "from pyspark.sql.functions import sum as _sum, count as _count, col\n",
    "\n",
    "# Calculate daily percentage of orders that were correct\n",
    "order_correct_daily_percentage = till_df.groupBy(\"DateTime\").agg(\n",
    "    (_sum(col(\"Order Correct\").cast(\"int\")) / _count(\"*\") * 100).alias(\"Order Correct Percentage\")\n",
    ").orderBy(\"DateTime\")\n",
    "\n",
    "# Calculate the overall mean of the order correct percentage\n",
    "mean_order_correct_percentage = order_correct_daily_percentage.agg(avg(\"Order Correct Percentage\").alias(\"mean\")).collect()[0][\"mean\"]\n",
    "\n",
    "# Add the mean as a constant column to the daily percentage DataFrame\n",
    "order_correct_daily_percentage = order_correct_daily_percentage.withColumn(\"Mean Order Correct Percentage\", lit(mean_order_correct_percentage))\n",
    "\n",
    "# Display the DataFrame for plotting in Databricks as a run chart with mean\n",
    "display(order_correct_daily_percentage)"
   ]
  },
  {
   "cell_type": "markdown",
   "metadata": {
    "application/vnd.databricks.v1+cell": {
     "cellMetadata": {
      "byteLimit": 2048000,
      "rowLimit": 10000
     },
     "inputWidgets": {},
     "nuid": "07884c72-ab46-4ca8-b2fe-f3e0a415920d",
     "showTitle": false,
     "title": ""
    }
   },
   "source": [
    "## Plotting Run Charts in Databricks\n",
    "After preparing the data as shown above, you can plot run charts using Databricks' plotting tool. The steps to visualize the data as run charts are the same as for line charts:\n",
    "\n",
    "- After executing each cell, observe the table and visualization options below the output area.\n",
    "- Choose the 'Line' chart visualization type. While run charts and line charts use the same type of visualization, the interpretation focuses on process stability and trends for run charts.\n",
    "- Set up your axes:\n",
    "    - Use Date for the X-axis.\n",
    "    - For the Y-axis, select the appropriate metric (average for Order Processing Time, sum for Sales Amount, and percentage for Order Correct).\n",
    "    - Customize your chart as needed, focusing on clarity for analyzing trends and shifts over time.\n",
    "\n",
    "These run charts will help you identify any patterns, trends, or shifts in the data, which are critical for process analysis and improvement. Pay attention to runs (sequences of points above or below the measure of central tendency), trends (continuous increase or decrease), and any shifts in the process level, as these can indicate changes in the till shop's operations.\n"
   ]
  },
  {
   "cell_type": "markdown",
   "metadata": {
    "application/vnd.databricks.v1+cell": {
     "cellMetadata": {
      "byteLimit": 2048000,
      "rowLimit": 10000
     },
     "inputWidgets": {},
     "nuid": "fc998fe0-7247-4104-8873-babcf7d6fa22",
     "showTitle": false,
     "title": ""
    }
   },
   "source": [
    "# Control Chart\n",
    "Shewhart control charts are a fundamental tool in statistical process control (SPC) used to determine if a manufacturing or business process is in a state of control. For the metrics chosen for the till shop example, different types of control charts are appropriate based on the nature of the data (continuous vs. attribute) and its distribution. Here’s the best type of Shewhart control chart for each metric:\n",
    "\n",
    "**1. Order Processing Time (mins)**\n",
    "  - Metric Type: Continuous data.\n",
    "\n",
    "  - Best Control Chart: The Individuals Control Chart (I-MR Chart) is most suitable for order processing time. This chart is ideal for continuous data that comes from a process where data points are collected individually in a sequential order. It helps in monitoring the process mean and variation over time.\n",
    "\n",
    "**2. Sales Amount ($)**\n",
    "  - Metric Type: Continuous data.\n",
    "\n",
    "  - Best Control Chart: Similar to order processing time, the Individuals Control Chart (I-MR Chart) is also the best choice for monitoring sales amount. This metric represents continuous data that can vary significantly from one transaction to another, making the I-MR chart an excellent tool for identifying out-of-control signals that could indicate a need for process improvement.\n",
    "\n",
    "**3. Order Correct (Boolean: Yes/No)**\n",
    "  - Metric Type: Attribute data (binary outcomes).\n",
    "\n",
    "  - Best Control Chart: The P-Chart (Proportion Chart) is the most appropriate for the \"Order Correct\" metric. This chart is used for attribute data where the data can be categorized into \"conforming\" and \"non-conforming\" (or, in this case, correct and incorrect orders) and the sample size can vary. It monitors the proportion of nonconforming units in a sample, providing insights into the process's stability in terms of order accuracy. Summary\n",
    "\n",
    "I-MR Chart for continuous data like \"Order Processing Time\" and \"Sales Amount,\" to monitor individual measurements and their variability.\n",
    "\n",
    "P-Chart for attribute data like \"Order Correct,\" to track the proportion of conforming vs. non-conforming items when the sample size may vary.\n",
    "\n",
    "Each chart provides a visual means of identifying trends, shifts, or instances of the process being out of control, facilitating timely interventions and continuous process improvement."
   ]
  },
  {
   "cell_type": "markdown",
   "metadata": {
    "application/vnd.databricks.v1+cell": {
     "cellMetadata": {
      "byteLimit": 2048000,
      "rowLimit": 10000
     },
     "inputWidgets": {},
     "nuid": "b376c206-f938-4e47-ad22-0cadd3f858c2",
     "showTitle": false,
     "title": ""
    }
   },
   "source": [
    "## I-MR Chart"
   ]
  },
  {
   "cell_type": "markdown",
   "metadata": {
    "application/vnd.databricks.v1+cell": {
     "cellMetadata": {
      "byteLimit": 2048000,
      "rowLimit": 10000
     },
     "inputWidgets": {},
     "nuid": "08cdeb98-780a-458c-b29f-bb295de29400",
     "showTitle": false,
     "title": ""
    }
   },
   "source": [
    "### Step 1: Aggregate Daily Average for \"Order Processing Time (mins)\""
   ]
  },
  {
   "cell_type": "code",
   "execution_count": 0,
   "metadata": {
    "application/vnd.databricks.v1+cell": {
     "cellMetadata": {
      "byteLimit": 2048000,
      "rowLimit": 10000
     },
     "inputWidgets": {},
     "nuid": "8c90f63a-5b31-4d78-b5af-7f5da4610021",
     "showTitle": false,
     "title": ""
    }
   },
   "outputs": [],
   "source": [
    "from pyspark.sql.window import Window\n",
    "from pyspark.sql.functions import lag, col, abs, avg, lit\n",
    "\n",
    "# Assuming till_df is your initial DataFrame\n",
    "order_processing_time_daily_avg = till_df.groupBy(\"DateTime\").avg(\"Order Processing Time (mins)\").orderBy(\"DateTime\")"
   ]
  },
  {
   "cell_type": "markdown",
   "metadata": {
    "application/vnd.databricks.v1+cell": {
     "cellMetadata": {
      "byteLimit": 2048000,
      "rowLimit": 10000
     },
     "inputWidgets": {},
     "nuid": "1768719d-598e-45df-942f-fea99cc334e0",
     "showTitle": false,
     "title": ""
    }
   },
   "source": [
    "### Step 2: Calculate Moving Range of Daily Averages"
   ]
  },
  {
   "cell_type": "code",
   "execution_count": 0,
   "metadata": {
    "application/vnd.databricks.v1+cell": {
     "cellMetadata": {
      "byteLimit": 2048000,
      "rowLimit": 10000
     },
     "inputWidgets": {},
     "nuid": "4c882ff6-64b1-41e0-baab-15ff85cecd4f",
     "showTitle": false,
     "title": ""
    }
   },
   "outputs": [],
   "source": [
    "windowSpec = Window.orderBy(\"DateTime\")\n",
    "\n",
    "order_processing_time_daily_avg = order_processing_time_daily_avg.withColumn(\"PrevDayAvg\", lag(\"avg(Order Processing Time (mins))\", 1).over(windowSpec))\n",
    "order_processing_time_daily_avg = order_processing_time_daily_avg.withColumn(\"MovingRange\", abs(col(\"avg(Order Processing Time (mins))\") - col(\"PrevDayAvg\")))"
   ]
  },
  {
   "cell_type": "markdown",
   "metadata": {
    "application/vnd.databricks.v1+cell": {
     "cellMetadata": {
      "byteLimit": 2048000,
      "rowLimit": 10000
     },
     "inputWidgets": {},
     "nuid": "d6ef3e63-3b18-4aab-b3bf-0cc58391e4f7",
     "showTitle": false,
     "title": ""
    }
   },
   "source": [
    "### Step 3: Calculate Mean Moving Range and Estimated Standard Deviation"
   ]
  },
  {
   "cell_type": "code",
   "execution_count": 0,
   "metadata": {
    "application/vnd.databricks.v1+cell": {
     "cellMetadata": {
      "byteLimit": 2048000,
      "rowLimit": 10000
     },
     "inputWidgets": {},
     "nuid": "63681692-5f6d-46be-b53c-b50a7bc8f775",
     "showTitle": false,
     "title": ""
    }
   },
   "outputs": [],
   "source": [
    "# Calculate the mean of the Moving Range\n",
    "mean_moving_range = order_processing_time_daily_avg.select(avg(\"MovingRange\")).first()[0]\n",
    "\n",
    "# Estimating standard deviation from the Moving Range (using d2 = 1.128 for n=2)\n",
    "estimated_stddev = mean_moving_range / 1.128"
   ]
  },
  {
   "cell_type": "markdown",
   "metadata": {
    "application/vnd.databricks.v1+cell": {
     "cellMetadata": {
      "byteLimit": 2048000,
      "rowLimit": 10000
     },
     "inputWidgets": {},
     "nuid": "fb822810-2d1f-4c0c-8e8d-afb743411c89",
     "showTitle": false,
     "title": ""
    }
   },
   "source": [
    "### Step 4: Calculate UCL and LCL for the I Chart"
   ]
  },
  {
   "cell_type": "code",
   "execution_count": 0,
   "metadata": {
    "application/vnd.databricks.v1+cell": {
     "cellMetadata": {
      "byteLimit": 2048000,
      "rowLimit": 10000
     },
     "inputWidgets": {},
     "nuid": "cb451b3a-51ed-4bd9-9616-0455e1d802fd",
     "showTitle": false,
     "title": ""
    }
   },
   "outputs": [],
   "source": [
    "# Calculate mean of daily averages for the metric\n",
    "mean_daily_avg = order_processing_time_daily_avg.select(avg(\"avg(Order Processing Time (mins))\")).first()[0]\n",
    "\n",
    "# Calculate UCL and LCL for I chart\n",
    "ucl_i = mean_daily_avg + 3 * estimated_stddev\n",
    "lcl_i = mean_daily_avg - 3 * estimated_stddev if mean_daily_avg - 3 * estimated_stddev > 0 else 0\n",
    "\n",
    "order_processing_time_daily_avg = order_processing_time_daily_avg.withColumn(\"UCL_I\", lit(ucl_i)).withColumn(\"LCL_I\", lit(lcl_i))"
   ]
  },
  {
   "cell_type": "markdown",
   "metadata": {
    "application/vnd.databricks.v1+cell": {
     "cellMetadata": {
      "byteLimit": 2048000,
      "rowLimit": 10000
     },
     "inputWidgets": {},
     "nuid": "c1c5ccff-7a98-469f-8632-d5cef9b9aa33",
     "showTitle": false,
     "title": ""
    }
   },
   "source": [
    "### Step 5: Calculate UCL for the MR Chart (LCL is typically 0)"
   ]
  },
  {
   "cell_type": "code",
   "execution_count": 0,
   "metadata": {
    "application/vnd.databricks.v1+cell": {
     "cellMetadata": {
      "byteLimit": 2048000,
      "rowLimit": 10000
     },
     "inputWidgets": {},
     "nuid": "866432f2-6fd7-4ee9-9af3-40b8422dc713",
     "showTitle": false,
     "title": ""
    }
   },
   "outputs": [],
   "source": [
    "# UCL for MR chart, using fixed multiplier for n=2\n",
    "ucl_mr = mean_moving_range * 3.268\n",
    "\n",
    "order_processing_time_daily_avg = order_processing_time_daily_avg.withColumn(\"UCL_MR\", lit(ucl_mr)).withColumn(\"LCL_MR\", lit(0))"
   ]
  },
  {
   "cell_type": "markdown",
   "metadata": {
    "application/vnd.databricks.v1+cell": {
     "cellMetadata": {
      "byteLimit": 2048000,
      "rowLimit": 10000
     },
     "inputWidgets": {},
     "nuid": "a2106ed1-1790-42e4-b93c-565436f32734",
     "showTitle": false,
     "title": ""
    }
   },
   "source": [
    "### Final DataFrame for Visualization\n",
    "At this point, order_processing_time_daily_avg contains the following columns, ready for visualization in Databricks:\n",
    "\n",
    "Date\n",
    "avg(Order Processing Time (mins)) (Daily average of order processing time)\n",
    "MovingRange (Daily moving range of average order processing time)\n",
    "UCL_I and LCL_I (Upper and lower control limits for the I chart)\n",
    "UCL_MR (Upper control limit for the MR chart, with LCL_MR typically set to 0 or not used)\n",
    "Instructions for Visualization in Databricks\n",
    "\n",
    "For the I Chart: When visualizing, plot Date on the X-axis and avg(Order Processing Time (mins)), UCL_I, and LCL_I on the Y-axis to show the daily averages along with their control limits.\n",
    "\n",
    "For the MR Chart: Plot Date on the X-axis and MovingRange, UCL_MR (and LCL_MR if applicable) on the Y-axis to visualize the moving range and its upper control limit.\n",
    "\n",
    "This approach ensures you're visualizing the aggregated summary data with the appropriate statistical control limits to assess process stability and control effectively."
   ]
  },
  {
   "cell_type": "code",
   "execution_count": 0,
   "metadata": {
    "application/vnd.databricks.v1+cell": {
     "cellMetadata": {
      "byteLimit": 2048000,
      "rowLimit": 10000
     },
     "inputWidgets": {},
     "nuid": "50776a97-a476-4095-b352-5c07e9055333",
     "showTitle": false,
     "title": ""
    }
   },
   "outputs": [
    {
     "output_type": "display_data",
     "data": {
      "text/html": [
       "<style scoped>\n",
       "  .table-result-container {\n",
       "    max-height: 300px;\n",
       "    overflow: auto;\n",
       "  }\n",
       "  table, th, td {\n",
       "    border: 1px solid black;\n",
       "    border-collapse: collapse;\n",
       "  }\n",
       "  th, td {\n",
       "    padding: 5px;\n",
       "  }\n",
       "  th {\n",
       "    text-align: left;\n",
       "  }\n",
       "</style><div class='table-result-container'><table class='table-result'><thead style='background-color: white'><tr><th>DateTime</th><th>avg(Order Processing Time (mins))</th><th>PrevDayAvg</th><th>MovingRange</th><th>UCL_I</th><th>LCL_I</th><th>UCL_MR</th><th>LCL_MR</th></tr></thead><tbody><tr><td>2024-02-29T20:13:49.590+0000</td><td>2.1692585158991715</td><td>null</td><td>null</td><td>11.12194268428502</td><td>0</td><td>7.467632942643215</td><td>0</td></tr><tr><td>2024-02-29T20:18:41.294+0000</td><td>4.158709354469282</td><td>2.1692585158991715</td><td>1.9894508385701108</td><td>11.12194268428502</td><td>0</td><td>7.467632942643215</td><td>0</td></tr><tr><td>2024-02-29T20:24:20.155+0000</td><td>4.314570966946461</td><td>4.158709354469282</td><td>0.155861612477179</td><td>11.12194268428502</td><td>0</td><td>7.467632942643215</td><td>0</td></tr><tr><td>2024-02-29T20:30:51.537+0000</td><td>3.395445461556762</td><td>4.314570966946461</td><td>0.9191255053896992</td><td>11.12194268428502</td><td>0</td><td>7.467632942643215</td><td>0</td></tr><tr><td>2024-02-29T20:35:37.488+0000</td><td>4.677428576667982</td><td>3.395445461556762</td><td>1.2819831151112195</td><td>11.12194268428502</td><td>0</td><td>7.467632942643215</td><td>0</td></tr><tr><td>2024-02-29T20:40:23.440+0000</td><td>5.8081017136290765</td><td>4.677428576667982</td><td>1.1306731369610947</td><td>11.12194268428502</td><td>0</td><td>7.467632942643215</td><td>0</td></tr><tr><td>2024-02-29T20:46:58.192+0000</td><td>8.77237180242106</td><td>5.8081017136290765</td><td>2.9642700887919844</td><td>11.12194268428502</td><td>0</td><td>7.467632942643215</td><td>0</td></tr><tr><td>2024-02-29T20:52:44.239+0000</td><td>5.349155625663678</td><td>8.77237180242106</td><td>3.423216176757383</td><td>11.12194268428502</td><td>0</td><td>7.467632942643215</td><td>0</td></tr><tr><td>2024-02-29T20:57:16.070+0000</td><td>5.515100781445529</td><td>5.349155625663678</td><td>0.1659451557818512</td><td>11.12194268428502</td><td>0</td><td>7.467632942643215</td><td>0</td></tr><tr><td>2024-02-29T21:02:48.624+0000</td><td>4.851108168467666</td><td>5.515100781445529</td><td>0.6639926129778635</td><td>11.12194268428502</td><td>0</td><td>7.467632942643215</td><td>0</td></tr><tr><td>2024-02-29T21:07:20.819+0000</td><td>1.162457569401917</td><td>4.851108168467666</td><td>3.6886505990657485</td><td>11.12194268428502</td><td>0</td><td>7.467632942643215</td><td>0</td></tr><tr><td>2024-02-29T21:11:52.875+0000</td><td>4.946972249101567</td><td>1.162457569401917</td><td>3.7845146796996496</td><td>11.12194268428502</td><td>0</td><td>7.467632942643215</td><td>0</td></tr><tr><td>2024-02-29T21:17:07.393+0000</td><td>5.120460419882053</td><td>4.946972249101567</td><td>0.1734881707804865</td><td>11.12194268428502</td><td>0</td><td>7.467632942643215</td><td>0</td></tr><tr><td>2024-02-29T21:20:12.596+0000</td><td>9.926484224970572</td><td>5.120460419882053</td><td>4.806023805088519</td><td>11.12194268428502</td><td>0</td><td>7.467632942643215</td><td>0</td></tr><tr><td>2024-02-29T21:23:29.101+0000</td><td>4.615278070437755</td><td>9.926484224970572</td><td>5.311206154532817</td><td>11.12194268428502</td><td>0</td><td>7.467632942643215</td><td>0</td></tr><tr><td>2024-02-29T21:27:55.363+0000</td><td>5.603094684667225</td><td>4.615278070437755</td><td>0.9878166142294695</td><td>11.12194268428502</td><td>0</td><td>7.467632942643215</td><td>0</td></tr><tr><td>2024-02-29T21:31:54.594+0000</td><td>4.9305764605895135</td><td>5.603094684667225</td><td>0.6725182240777112</td><td>11.12194268428502</td><td>0</td><td>7.467632942643215</td><td>0</td></tr><tr><td>2024-02-29T21:37:13.448+0000</td><td>2.662643924760936</td><td>4.9305764605895135</td><td>2.2679325358285776</td><td>11.12194268428502</td><td>0</td><td>7.467632942643215</td><td>0</td></tr><tr><td>2024-02-29T21:41:18.967+0000</td><td>7.285645629030041</td><td>2.662643924760936</td><td>4.623001704269106</td><td>11.12194268428502</td><td>0</td><td>7.467632942643215</td><td>0</td></tr><tr><td>2024-02-29T21:44:54.229+0000</td><td>6.503866065373549</td><td>7.285645629030041</td><td>0.7817795636564924</td><td>11.12194268428502</td><td>0</td><td>7.467632942643215</td><td>0</td></tr><tr><td>2024-02-29T21:51:22.168+0000</td><td>6.582063894086094</td><td>6.503866065373549</td><td>0.0781978287125451</td><td>11.12194268428502</td><td>0</td><td>7.467632942643215</td><td>0</td></tr><tr><td>2024-02-29T21:56:08.621+0000</td><td>3.181225090410522</td><td>6.582063894086094</td><td>3.4008388036755717</td><td>11.12194268428502</td><td>0</td><td>7.467632942643215</td><td>0</td></tr><tr><td>2024-02-29T22:01:12.673+0000</td><td>7.805588621872198</td><td>3.181225090410522</td><td>4.624363531461676</td><td>11.12194268428502</td><td>0</td><td>7.467632942643215</td><td>0</td></tr><tr><td>2024-02-29T22:04:47.188+0000</td><td>2.1962978744154382</td><td>7.805588621872198</td><td>5.60929074745676</td><td>11.12194268428502</td><td>0</td><td>7.467632942643215</td><td>0</td></tr><tr><td>2024-02-29T22:09:14.525+0000</td><td>6.173714187600541</td><td>2.1962978744154382</td><td>3.9774163131851026</td><td>11.12194268428502</td><td>0</td><td>7.467632942643215</td><td>0</td></tr><tr><td>2024-02-29T22:14:21.180+0000</td><td>9.380911251619956</td><td>6.173714187600541</td><td>3.2071970640194154</td><td>11.12194268428502</td><td>0</td><td>7.467632942643215</td><td>0</td></tr><tr><td>2024-02-29T22:18:12.121+0000</td><td>3.0189273497386235</td><td>9.380911251619956</td><td>6.361983901881333</td><td>11.12194268428502</td><td>0</td><td>7.467632942643215</td><td>0</td></tr><tr><td>2024-02-29T22:23:34.663+0000</td><td>3.867404540794456</td><td>3.0189273497386235</td><td>0.8484771910558324</td><td>11.12194268428502</td><td>0</td><td>7.467632942643215</td><td>0</td></tr><tr><td>2024-02-29T22:27:58.624+0000</td><td>5.199302730175282</td><td>3.867404540794456</td><td>1.3318981893808264</td><td>11.12194268428502</td><td>0</td><td>7.467632942643215</td><td>0</td></tr><tr><td>2024-02-29T22:32:41.123+0000</td><td>3.9930486917676014</td><td>5.199302730175282</td><td>1.206254038407681</td><td>11.12194268428502</td><td>0</td><td>7.467632942643215</td><td>0</td></tr><tr><td>2024-02-29T22:37:05.020+0000</td><td>1.8986731378677346</td><td>3.9930486917676014</td><td>2.0943755538998667</td><td>11.12194268428502</td><td>0</td><td>7.467632942643215</td><td>0</td></tr><tr><td>2024-02-29T22:43:56.157+0000</td><td>5.137125949612055</td><td>1.8986731378677346</td><td>3.2384528117443203</td><td>11.12194268428502</td><td>0</td><td>7.467632942643215</td><td>0</td></tr><tr><td>2024-02-29T22:48:55.347+0000</td><td>2.8753925725477902</td><td>5.137125949612055</td><td>2.2617333770642647</td><td>11.12194268428502</td><td>0</td><td>7.467632942643215</td><td>0</td></tr><tr><td>2024-02-29T22:52:51.884+0000</td><td>5.9471848612703635</td><td>2.8753925725477902</td><td>3.0717922887225733</td><td>11.12194268428502</td><td>0</td><td>7.467632942643215</td><td>0</td></tr><tr><td>2024-02-29T22:58:41.237+0000</td><td>3.1611515315323935</td><td>5.9471848612703635</td><td>2.78603332973797</td><td>11.12194268428502</td><td>0</td><td>7.467632942643215</td><td>0</td></tr><tr><td>2024-02-29T23:02:27.986+0000</td><td>8.09986881003508</td><td>3.1611515315323935</td><td>4.938717278502686</td><td>11.12194268428502</td><td>0</td><td>7.467632942643215</td><td>0</td></tr><tr><td>2024-02-29T23:07:40.518+0000</td><td>3.4334934153275256</td><td>8.09986881003508</td><td>4.666375394707554</td><td>11.12194268428502</td><td>0</td><td>7.467632942643215</td><td>0</td></tr><tr><td>2024-02-29T23:10:42.938+0000</td><td>4.355876967588649</td><td>3.4334934153275256</td><td>0.922383552261123</td><td>11.12194268428502</td><td>0</td><td>7.467632942643215</td><td>0</td></tr><tr><td>2024-02-29T23:14:23.247+0000</td><td>6.62703443473934</td><td>4.355876967588649</td><td>2.271157467150691</td><td>11.12194268428502</td><td>0</td><td>7.467632942643215</td><td>0</td></tr><tr><td>2024-02-29T23:19:35.059+0000</td><td>2.5382713671320896</td><td>6.62703443473934</td><td>4.08876306760725</td><td>11.12194268428502</td><td>0</td><td>7.467632942643215</td><td>0</td></tr><tr><td>2024-02-29T23:25:19.367+0000</td><td>5.4549198692082586</td><td>2.5382713671320896</td><td>2.916648502076169</td><td>11.12194268428502</td><td>0</td><td>7.467632942643215</td><td>0</td></tr><tr><td>2024-02-29T23:30:29.649+0000</td><td>7.614285508564857</td><td>5.4549198692082586</td><td>2.159365639356598</td><td>11.12194268428502</td><td>0</td><td>7.467632942643215</td><td>0</td></tr><tr><td>2024-02-29T23:35:22.710+0000</td><td>1.785033530877545</td><td>7.614285508564857</td><td>5.829251977687312</td><td>11.12194268428502</td><td>0</td><td>7.467632942643215</td><td>0</td></tr><tr><td>2024-02-29T23:40:04.644+0000</td><td>5.369267717064608</td><td>1.785033530877545</td><td>3.5842341861870635</td><td>11.12194268428502</td><td>0</td><td>7.467632942643215</td><td>0</td></tr><tr><td>2024-02-29T23:43:35.932+0000</td><td>5.519765588496847</td><td>5.369267717064608</td><td>0.15049787143223892</td><td>11.12194268428502</td><td>0</td><td>7.467632942643215</td><td>0</td></tr><tr><td>2024-02-29T23:47:52.742+0000</td><td>6.563645743554621</td><td>5.519765588496847</td><td>1.0438801550577734</td><td>11.12194268428502</td><td>0</td><td>7.467632942643215</td><td>0</td></tr><tr><td>2024-02-29T23:52:25.103+0000</td><td>2.526098578243836</td><td>6.563645743554621</td><td>4.037547165310785</td><td>11.12194268428502</td><td>0</td><td>7.467632942643215</td><td>0</td></tr><tr><td>2024-02-29T23:58:28.531+0000</td><td>2.3590867738314474</td><td>2.526098578243836</td><td>0.16701180441238872</td><td>11.12194268428502</td><td>0</td><td>7.467632942643215</td><td>0</td></tr><tr><td>2024-03-01T00:03:49.148+0000</td><td>6.0438831312337955</td><td>2.3590867738314474</td><td>3.684796357402348</td><td>11.12194268428502</td><td>0</td><td>7.467632942643215</td><td>0</td></tr><tr><td>2024-03-01T00:07:03.365+0000</td><td>5.5939693464663724</td><td>6.0438831312337955</td><td>0.44991378476742305</td><td>11.12194268428502</td><td>0</td><td>7.467632942643215</td><td>0</td></tr><tr><td>2024-03-01T00:12:22.810+0000</td><td>5.5009857006917535</td><td>5.5939693464663724</td><td>0.09298364577461893</td><td>11.12194268428502</td><td>0</td><td>7.467632942643215</td><td>0</td></tr><tr><td>2024-03-01T00:16:59.705+0000</td><td>5.692896418993952</td><td>5.5009857006917535</td><td>0.1919107183021982</td><td>11.12194268428502</td><td>0</td><td>7.467632942643215</td><td>0</td></tr><tr><td>2024-03-01T00:21:19.090+0000</td><td>3.6399505568430186</td><td>5.692896418993952</td><td>2.052945862150933</td><td>11.12194268428502</td><td>0</td><td>7.467632942643215</td><td>0</td></tr><tr><td>2024-03-01T00:26:55.791+0000</td><td>5.464507394322007</td><td>3.6399505568430186</td><td>1.8245568374789887</td><td>11.12194268428502</td><td>0</td><td>7.467632942643215</td><td>0</td></tr><tr><td>2024-03-01T00:32:57.651+0000</td><td>5.586144946597362</td><td>5.464507394322007</td><td>0.121637552275355</td><td>11.12194268428502</td><td>0</td><td>7.467632942643215</td><td>0</td></tr><tr><td>2024-03-01T00:38:53.527+0000</td><td>3.571297163947264</td><td>5.586144946597362</td><td>2.014847782650098</td><td>11.12194268428502</td><td>0</td><td>7.467632942643215</td><td>0</td></tr><tr><td>2024-03-01T00:43:03.174+0000</td><td>8.731549022289514</td><td>3.571297163947264</td><td>5.160251858342249</td><td>11.12194268428502</td><td>0</td><td>7.467632942643215</td><td>0</td></tr><tr><td>2024-03-01T00:47:44.622+0000</td><td>5.947665841823575</td><td>8.731549022289514</td><td>2.7838831804659385</td><td>11.12194268428502</td><td>0</td><td>7.467632942643215</td><td>0</td></tr><tr><td>2024-03-01T00:53:04.497+0000</td><td>2.617393005594703</td><td>5.947665841823575</td><td>3.3302728362288723</td><td>11.12194268428502</td><td>0</td><td>7.467632942643215</td><td>0</td></tr><tr><td>2024-03-01T00:59:03.030+0000</td><td>6.313107217267659</td><td>2.617393005594703</td><td>3.6957142116729567</td><td>11.12194268428502</td><td>0</td><td>7.467632942643215</td><td>0</td></tr><tr><td>2024-03-01T01:03:34.280+0000</td><td>3.050636659545357</td><td>6.313107217267659</td><td>3.2624705577223025</td><td>11.12194268428502</td><td>0</td><td>7.467632942643215</td><td>0</td></tr><tr><td>2024-03-01T01:08:23.140+0000</td><td>6.574169207484904</td><td>3.050636659545357</td><td>3.5235325479395474</td><td>11.12194268428502</td><td>0</td><td>7.467632942643215</td><td>0</td></tr><tr><td>2024-03-01T01:12:16.760+0000</td><td>7.317191158014808</td><td>6.574169207484904</td><td>0.7430219505299034</td><td>11.12194268428502</td><td>0</td><td>7.467632942643215</td><td>0</td></tr><tr><td>2024-03-01T01:16:04.988+0000</td><td>3.358635363296579</td><td>7.317191158014808</td><td>3.9585557947182286</td><td>11.12194268428502</td><td>0</td><td>7.467632942643215</td><td>0</td></tr><tr><td>2024-03-01T01:21:53.739+0000</td><td>6.926752258488643</td><td>3.358635363296579</td><td>3.5681168951920643</td><td>11.12194268428502</td><td>0</td><td>7.467632942643215</td><td>0</td></tr><tr><td>2024-03-01T01:28:15.114+0000</td><td>5.825561853872997</td><td>6.926752258488643</td><td>1.1011904046156467</td><td>11.12194268428502</td><td>0</td><td>7.467632942643215</td><td>0</td></tr><tr><td>2024-03-01T01:33:10.793+0000</td><td>6.64412031998898</td><td>5.825561853872997</td><td>0.8185584661159835</td><td>11.12194268428502</td><td>0</td><td>7.467632942643215</td><td>0</td></tr><tr><td>2024-03-01T01:39:11.005+0000</td><td>8.793585965307894</td><td>6.64412031998898</td><td>2.149465645318914</td><td>11.12194268428502</td><td>0</td><td>7.467632942643215</td><td>0</td></tr><tr><td>2024-03-01T01:44:32.703+0000</td><td>4.509223767994259</td><td>8.793585965307894</td><td>4.284362197313635</td><td>11.12194268428502</td><td>0</td><td>7.467632942643215</td><td>0</td></tr><tr><td>2024-03-01T01:48:53.996+0000</td><td>3.492527671285021</td><td>4.509223767994259</td><td>1.016696096709238</td><td>11.12194268428502</td><td>0</td><td>7.467632942643215</td><td>0</td></tr><tr><td>2024-03-01T01:54:15.680+0000</td><td>3.2209711407489534</td><td>3.492527671285021</td><td>0.27155653053606743</td><td>11.12194268428502</td><td>0</td><td>7.467632942643215</td><td>0</td></tr><tr><td>2024-03-01T02:00:47.962+0000</td><td>3.3683794300691234</td><td>3.2209711407489534</td><td>0.14740828932017003</td><td>11.12194268428502</td><td>0</td><td>7.467632942643215</td><td>0</td></tr><tr><td>2024-03-01T02:05:45.812+0000</td><td>4.845796581171792</td><td>3.3683794300691234</td><td>1.4774171511026681</td><td>11.12194268428502</td><td>0</td><td>7.467632942643215</td><td>0</td></tr><tr><td>2024-03-01T02:12:19.691+0000</td><td>5.682303949633288</td><td>4.845796581171792</td><td>0.8365073684614961</td><td>11.12194268428502</td><td>0</td><td>7.467632942643215</td><td>0</td></tr><tr><td>2024-03-01T02:14:42.506+0000</td><td>5.553381598660038</td><td>5.682303949633288</td><td>0.12892235097324978</td><td>11.12194268428502</td><td>0</td><td>7.467632942643215</td><td>0</td></tr><tr><td>2024-03-01T02:20:31.820+0000</td><td>6.654366498072047</td><td>5.553381598660038</td><td>1.1009848994120093</td><td>11.12194268428502</td><td>0</td><td>7.467632942643215</td><td>0</td></tr><tr><td>2024-03-01T02:25:37.043+0000</td><td>5.026003783755814</td><td>6.654366498072047</td><td>1.628362714316233</td><td>11.12194268428502</td><td>0</td><td>7.467632942643215</td><td>0</td></tr><tr><td>2024-03-01T02:30:19.103+0000</td><td>7.907068154314634</td><td>5.026003783755814</td><td>2.8810643705588195</td><td>11.12194268428502</td><td>0</td><td>7.467632942643215</td><td>0</td></tr><tr><td>2024-03-01T02:35:24.608+0000</td><td>4.470686333524088</td><td>7.907068154314634</td><td>3.4363818207905457</td><td>11.12194268428502</td><td>0</td><td>7.467632942643215</td><td>0</td></tr><tr><td>2024-03-01T02:38:25.354+0000</td><td>10.440338333179238</td><td>4.470686333524088</td><td>5.96965199965515</td><td>11.12194268428502</td><td>0</td><td>7.467632942643215</td><td>0</td></tr><tr><td>2024-03-01T02:43:12.174+0000</td><td>6.251334695530012</td><td>10.440338333179238</td><td>4.1890036376492255</td><td>11.12194268428502</td><td>0</td><td>7.467632942643215</td><td>0</td></tr><tr><td>2024-03-01T02:48:33.601+0000</td><td>3.285684887167435</td><td>6.251334695530012</td><td>2.9656498083625773</td><td>11.12194268428502</td><td>0</td><td>7.467632942643215</td><td>0</td></tr><tr><td>2024-03-01T02:55:02.274+0000</td><td>2.8582150038777754</td><td>3.285684887167435</td><td>0.4274698832896595</td><td>11.12194268428502</td><td>0</td><td>7.467632942643215</td><td>0</td></tr><tr><td>2024-03-01T02:59:31.178+0000</td><td>5.96494483048637</td><td>2.8582150038777754</td><td>3.106729826608595</td><td>11.12194268428502</td><td>0</td><td>7.467632942643215</td><td>0</td></tr><tr><td>2024-03-01T03:03:42.669+0000</td><td>4.553074429348298</td><td>5.96494483048637</td><td>1.4118704011380725</td><td>11.12194268428502</td><td>0</td><td>7.467632942643215</td><td>0</td></tr><tr><td>2024-03-01T03:08:12.563+0000</td><td>6.428000988184184</td><td>4.553074429348298</td><td>1.8749265588358863</td><td>11.12194268428502</td><td>0</td><td>7.467632942643215</td><td>0</td></tr><tr><td>2024-03-01T03:14:07.487+0000</td><td>5.94647524914709</td><td>6.428000988184184</td><td>0.48152573903709417</td><td>11.12194268428502</td><td>0</td><td>7.467632942643215</td><td>0</td></tr><tr><td>2024-03-01T03:19:27.212+0000</td><td>4.854342174686255</td><td>5.94647524914709</td><td>1.0921330744608353</td><td>11.12194268428502</td><td>0</td><td>7.467632942643215</td><td>0</td></tr><tr><td>2024-03-01T03:23:55.427+0000</td><td>3.30641256386319</td><td>4.854342174686255</td><td>1.547929610823065</td><td>11.12194268428502</td><td>0</td><td>7.467632942643215</td><td>0</td></tr><tr><td>2024-03-01T03:29:26.223+0000</td><td>1.9703055506282707</td><td>3.30641256386319</td><td>1.336107013234919</td><td>11.12194268428502</td><td>0</td><td>7.467632942643215</td><td>0</td></tr><tr><td>2024-03-01T03:34:32.047+0000</td><td>4.106970095865957</td><td>1.9703055506282707</td><td>2.1366645452376867</td><td>11.12194268428502</td><td>0</td><td>7.467632942643215</td><td>0</td></tr><tr><td>2024-03-01T03:40:30.166+0000</td><td>6.712797588646945</td><td>4.106970095865957</td><td>2.6058274927809872</td><td>11.12194268428502</td><td>0</td><td>7.467632942643215</td><td>0</td></tr><tr><td>2024-03-01T03:44:48.043+0000</td><td>5.4281874882604075</td><td>6.712797588646945</td><td>1.2846101003865371</td><td>11.12194268428502</td><td>0</td><td>7.467632942643215</td><td>0</td></tr><tr><td>2024-03-01T03:49:28.383+0000</td><td>2.508522442576024</td><td>5.4281874882604075</td><td>2.9196650456843836</td><td>11.12194268428502</td><td>0</td><td>7.467632942643215</td><td>0</td></tr><tr><td>2024-03-01T03:54:04.857+0000</td><td>5.346361851702364</td><td>2.508522442576024</td><td>2.8378394091263397</td><td>11.12194268428502</td><td>0</td><td>7.467632942643215</td><td>0</td></tr><tr><td>2024-03-01T03:57:37.046+0000</td><td>5.770634759457674</td><td>5.346361851702364</td><td>0.42427290775531024</td><td>11.12194268428502</td><td>0</td><td>7.467632942643215</td><td>0</td></tr><tr><td>2024-03-01T04:02:54.813+0000</td><td>3.2322851275977342</td><td>5.770634759457674</td><td>2.5383496318599397</td><td>11.12194268428502</td><td>0</td><td>7.467632942643215</td><td>0</td></tr><tr><td>2024-03-01T04:08:10.476+0000</td><td>5.307450211891056</td><td>3.2322851275977342</td><td>2.075165084293322</td><td>11.12194268428502</td><td>0</td><td>7.467632942643215</td><td>0</td></tr><tr><td>2024-03-01T04:13:10.783+0000</td><td>5.116417436892</td><td>5.307450211891056</td><td>0.1910327749990559</td><td>11.12194268428502</td><td>0</td><td>7.467632942643215</td><td>0</td></tr><tr><td>2024-03-01T04:17:56.708+0000</td><td>2.714059404338754</td><td>5.116417436892</td><td>2.4023580325532463</td><td>11.12194268428502</td><td>0</td><td>7.467632942643215</td><td>0</td></tr></tbody></table></div>"
      ]
     },
     "metadata": {
      "application/vnd.databricks.v1+output": {
       "addedWidgets": {},
       "aggData": [],
       "aggError": "",
       "aggOverflow": false,
       "aggSchema": [],
       "aggSeriesLimitReached": false,
       "aggType": "",
       "arguments": {},
       "columnCustomDisplayInfos": {},
       "data": [
        [
         "2024-02-29T20:13:49.590+0000",
         2.1692585158991715,
         null,
         null,
         11.12194268428502,
         0,
         7.467632942643215,
         0
        ],
        [
         "2024-02-29T20:18:41.294+0000",
         4.158709354469282,
         2.1692585158991715,
         1.9894508385701108,
         11.12194268428502,
         0,
         7.467632942643215,
         0
        ],
        [
         "2024-02-29T20:24:20.155+0000",
         4.314570966946461,
         4.158709354469282,
         0.155861612477179,
         11.12194268428502,
         0,
         7.467632942643215,
         0
        ],
        [
         "2024-02-29T20:30:51.537+0000",
         3.395445461556762,
         4.314570966946461,
         0.9191255053896992,
         11.12194268428502,
         0,
         7.467632942643215,
         0
        ],
        [
         "2024-02-29T20:35:37.488+0000",
         4.677428576667982,
         3.395445461556762,
         1.2819831151112195,
         11.12194268428502,
         0,
         7.467632942643215,
         0
        ],
        [
         "2024-02-29T20:40:23.440+0000",
         5.8081017136290765,
         4.677428576667982,
         1.1306731369610947,
         11.12194268428502,
         0,
         7.467632942643215,
         0
        ],
        [
         "2024-02-29T20:46:58.192+0000",
         8.77237180242106,
         5.8081017136290765,
         2.9642700887919844,
         11.12194268428502,
         0,
         7.467632942643215,
         0
        ],
        [
         "2024-02-29T20:52:44.239+0000",
         5.349155625663678,
         8.77237180242106,
         3.423216176757383,
         11.12194268428502,
         0,
         7.467632942643215,
         0
        ],
        [
         "2024-02-29T20:57:16.070+0000",
         5.515100781445529,
         5.349155625663678,
         0.1659451557818512,
         11.12194268428502,
         0,
         7.467632942643215,
         0
        ],
        [
         "2024-02-29T21:02:48.624+0000",
         4.851108168467666,
         5.515100781445529,
         0.6639926129778635,
         11.12194268428502,
         0,
         7.467632942643215,
         0
        ],
        [
         "2024-02-29T21:07:20.819+0000",
         1.162457569401917,
         4.851108168467666,
         3.6886505990657485,
         11.12194268428502,
         0,
         7.467632942643215,
         0
        ],
        [
         "2024-02-29T21:11:52.875+0000",
         4.946972249101567,
         1.162457569401917,
         3.7845146796996496,
         11.12194268428502,
         0,
         7.467632942643215,
         0
        ],
        [
         "2024-02-29T21:17:07.393+0000",
         5.120460419882053,
         4.946972249101567,
         0.1734881707804865,
         11.12194268428502,
         0,
         7.467632942643215,
         0
        ],
        [
         "2024-02-29T21:20:12.596+0000",
         9.926484224970572,
         5.120460419882053,
         4.806023805088519,
         11.12194268428502,
         0,
         7.467632942643215,
         0
        ],
        [
         "2024-02-29T21:23:29.101+0000",
         4.615278070437755,
         9.926484224970572,
         5.311206154532817,
         11.12194268428502,
         0,
         7.467632942643215,
         0
        ],
        [
         "2024-02-29T21:27:55.363+0000",
         5.603094684667225,
         4.615278070437755,
         0.9878166142294695,
         11.12194268428502,
         0,
         7.467632942643215,
         0
        ],
        [
         "2024-02-29T21:31:54.594+0000",
         4.9305764605895135,
         5.603094684667225,
         0.6725182240777112,
         11.12194268428502,
         0,
         7.467632942643215,
         0
        ],
        [
         "2024-02-29T21:37:13.448+0000",
         2.662643924760936,
         4.9305764605895135,
         2.2679325358285776,
         11.12194268428502,
         0,
         7.467632942643215,
         0
        ],
        [
         "2024-02-29T21:41:18.967+0000",
         7.285645629030041,
         2.662643924760936,
         4.623001704269106,
         11.12194268428502,
         0,
         7.467632942643215,
         0
        ],
        [
         "2024-02-29T21:44:54.229+0000",
         6.503866065373549,
         7.285645629030041,
         0.7817795636564924,
         11.12194268428502,
         0,
         7.467632942643215,
         0
        ],
        [
         "2024-02-29T21:51:22.168+0000",
         6.582063894086094,
         6.503866065373549,
         0.0781978287125451,
         11.12194268428502,
         0,
         7.467632942643215,
         0
        ],
        [
         "2024-02-29T21:56:08.621+0000",
         3.181225090410522,
         6.582063894086094,
         3.4008388036755717,
         11.12194268428502,
         0,
         7.467632942643215,
         0
        ],
        [
         "2024-02-29T22:01:12.673+0000",
         7.805588621872198,
         3.181225090410522,
         4.624363531461676,
         11.12194268428502,
         0,
         7.467632942643215,
         0
        ],
        [
         "2024-02-29T22:04:47.188+0000",
         2.1962978744154382,
         7.805588621872198,
         5.60929074745676,
         11.12194268428502,
         0,
         7.467632942643215,
         0
        ],
        [
         "2024-02-29T22:09:14.525+0000",
         6.173714187600541,
         2.1962978744154382,
         3.9774163131851026,
         11.12194268428502,
         0,
         7.467632942643215,
         0
        ],
        [
         "2024-02-29T22:14:21.180+0000",
         9.380911251619956,
         6.173714187600541,
         3.2071970640194154,
         11.12194268428502,
         0,
         7.467632942643215,
         0
        ],
        [
         "2024-02-29T22:18:12.121+0000",
         3.0189273497386235,
         9.380911251619956,
         6.361983901881333,
         11.12194268428502,
         0,
         7.467632942643215,
         0
        ],
        [
         "2024-02-29T22:23:34.663+0000",
         3.867404540794456,
         3.0189273497386235,
         0.8484771910558324,
         11.12194268428502,
         0,
         7.467632942643215,
         0
        ],
        [
         "2024-02-29T22:27:58.624+0000",
         5.199302730175282,
         3.867404540794456,
         1.3318981893808264,
         11.12194268428502,
         0,
         7.467632942643215,
         0
        ],
        [
         "2024-02-29T22:32:41.123+0000",
         3.9930486917676014,
         5.199302730175282,
         1.206254038407681,
         11.12194268428502,
         0,
         7.467632942643215,
         0
        ],
        [
         "2024-02-29T22:37:05.020+0000",
         1.8986731378677346,
         3.9930486917676014,
         2.0943755538998667,
         11.12194268428502,
         0,
         7.467632942643215,
         0
        ],
        [
         "2024-02-29T22:43:56.157+0000",
         5.137125949612055,
         1.8986731378677346,
         3.2384528117443203,
         11.12194268428502,
         0,
         7.467632942643215,
         0
        ],
        [
         "2024-02-29T22:48:55.347+0000",
         2.8753925725477902,
         5.137125949612055,
         2.2617333770642647,
         11.12194268428502,
         0,
         7.467632942643215,
         0
        ],
        [
         "2024-02-29T22:52:51.884+0000",
         5.9471848612703635,
         2.8753925725477902,
         3.0717922887225733,
         11.12194268428502,
         0,
         7.467632942643215,
         0
        ],
        [
         "2024-02-29T22:58:41.237+0000",
         3.1611515315323935,
         5.9471848612703635,
         2.78603332973797,
         11.12194268428502,
         0,
         7.467632942643215,
         0
        ],
        [
         "2024-02-29T23:02:27.986+0000",
         8.09986881003508,
         3.1611515315323935,
         4.938717278502686,
         11.12194268428502,
         0,
         7.467632942643215,
         0
        ],
        [
         "2024-02-29T23:07:40.518+0000",
         3.4334934153275256,
         8.09986881003508,
         4.666375394707554,
         11.12194268428502,
         0,
         7.467632942643215,
         0
        ],
        [
         "2024-02-29T23:10:42.938+0000",
         4.355876967588649,
         3.4334934153275256,
         0.922383552261123,
         11.12194268428502,
         0,
         7.467632942643215,
         0
        ],
        [
         "2024-02-29T23:14:23.247+0000",
         6.62703443473934,
         4.355876967588649,
         2.271157467150691,
         11.12194268428502,
         0,
         7.467632942643215,
         0
        ],
        [
         "2024-02-29T23:19:35.059+0000",
         2.5382713671320896,
         6.62703443473934,
         4.08876306760725,
         11.12194268428502,
         0,
         7.467632942643215,
         0
        ],
        [
         "2024-02-29T23:25:19.367+0000",
         5.4549198692082586,
         2.5382713671320896,
         2.916648502076169,
         11.12194268428502,
         0,
         7.467632942643215,
         0
        ],
        [
         "2024-02-29T23:30:29.649+0000",
         7.614285508564857,
         5.4549198692082586,
         2.159365639356598,
         11.12194268428502,
         0,
         7.467632942643215,
         0
        ],
        [
         "2024-02-29T23:35:22.710+0000",
         1.785033530877545,
         7.614285508564857,
         5.829251977687312,
         11.12194268428502,
         0,
         7.467632942643215,
         0
        ],
        [
         "2024-02-29T23:40:04.644+0000",
         5.369267717064608,
         1.785033530877545,
         3.5842341861870635,
         11.12194268428502,
         0,
         7.467632942643215,
         0
        ],
        [
         "2024-02-29T23:43:35.932+0000",
         5.519765588496847,
         5.369267717064608,
         0.15049787143223892,
         11.12194268428502,
         0,
         7.467632942643215,
         0
        ],
        [
         "2024-02-29T23:47:52.742+0000",
         6.563645743554621,
         5.519765588496847,
         1.0438801550577734,
         11.12194268428502,
         0,
         7.467632942643215,
         0
        ],
        [
         "2024-02-29T23:52:25.103+0000",
         2.526098578243836,
         6.563645743554621,
         4.037547165310785,
         11.12194268428502,
         0,
         7.467632942643215,
         0
        ],
        [
         "2024-02-29T23:58:28.531+0000",
         2.3590867738314474,
         2.526098578243836,
         0.16701180441238872,
         11.12194268428502,
         0,
         7.467632942643215,
         0
        ],
        [
         "2024-03-01T00:03:49.148+0000",
         6.0438831312337955,
         2.3590867738314474,
         3.684796357402348,
         11.12194268428502,
         0,
         7.467632942643215,
         0
        ],
        [
         "2024-03-01T00:07:03.365+0000",
         5.5939693464663724,
         6.0438831312337955,
         0.44991378476742305,
         11.12194268428502,
         0,
         7.467632942643215,
         0
        ],
        [
         "2024-03-01T00:12:22.810+0000",
         5.5009857006917535,
         5.5939693464663724,
         0.09298364577461893,
         11.12194268428502,
         0,
         7.467632942643215,
         0
        ],
        [
         "2024-03-01T00:16:59.705+0000",
         5.692896418993952,
         5.5009857006917535,
         0.1919107183021982,
         11.12194268428502,
         0,
         7.467632942643215,
         0
        ],
        [
         "2024-03-01T00:21:19.090+0000",
         3.6399505568430186,
         5.692896418993952,
         2.052945862150933,
         11.12194268428502,
         0,
         7.467632942643215,
         0
        ],
        [
         "2024-03-01T00:26:55.791+0000",
         5.464507394322007,
         3.6399505568430186,
         1.8245568374789887,
         11.12194268428502,
         0,
         7.467632942643215,
         0
        ],
        [
         "2024-03-01T00:32:57.651+0000",
         5.586144946597362,
         5.464507394322007,
         0.121637552275355,
         11.12194268428502,
         0,
         7.467632942643215,
         0
        ],
        [
         "2024-03-01T00:38:53.527+0000",
         3.571297163947264,
         5.586144946597362,
         2.014847782650098,
         11.12194268428502,
         0,
         7.467632942643215,
         0
        ],
        [
         "2024-03-01T00:43:03.174+0000",
         8.731549022289514,
         3.571297163947264,
         5.160251858342249,
         11.12194268428502,
         0,
         7.467632942643215,
         0
        ],
        [
         "2024-03-01T00:47:44.622+0000",
         5.947665841823575,
         8.731549022289514,
         2.7838831804659385,
         11.12194268428502,
         0,
         7.467632942643215,
         0
        ],
        [
         "2024-03-01T00:53:04.497+0000",
         2.617393005594703,
         5.947665841823575,
         3.3302728362288723,
         11.12194268428502,
         0,
         7.467632942643215,
         0
        ],
        [
         "2024-03-01T00:59:03.030+0000",
         6.313107217267659,
         2.617393005594703,
         3.6957142116729567,
         11.12194268428502,
         0,
         7.467632942643215,
         0
        ],
        [
         "2024-03-01T01:03:34.280+0000",
         3.050636659545357,
         6.313107217267659,
         3.2624705577223025,
         11.12194268428502,
         0,
         7.467632942643215,
         0
        ],
        [
         "2024-03-01T01:08:23.140+0000",
         6.574169207484904,
         3.050636659545357,
         3.5235325479395474,
         11.12194268428502,
         0,
         7.467632942643215,
         0
        ],
        [
         "2024-03-01T01:12:16.760+0000",
         7.317191158014808,
         6.574169207484904,
         0.7430219505299034,
         11.12194268428502,
         0,
         7.467632942643215,
         0
        ],
        [
         "2024-03-01T01:16:04.988+0000",
         3.358635363296579,
         7.317191158014808,
         3.9585557947182286,
         11.12194268428502,
         0,
         7.467632942643215,
         0
        ],
        [
         "2024-03-01T01:21:53.739+0000",
         6.926752258488643,
         3.358635363296579,
         3.5681168951920643,
         11.12194268428502,
         0,
         7.467632942643215,
         0
        ],
        [
         "2024-03-01T01:28:15.114+0000",
         5.825561853872997,
         6.926752258488643,
         1.1011904046156467,
         11.12194268428502,
         0,
         7.467632942643215,
         0
        ],
        [
         "2024-03-01T01:33:10.793+0000",
         6.64412031998898,
         5.825561853872997,
         0.8185584661159835,
         11.12194268428502,
         0,
         7.467632942643215,
         0
        ],
        [
         "2024-03-01T01:39:11.005+0000",
         8.793585965307894,
         6.64412031998898,
         2.149465645318914,
         11.12194268428502,
         0,
         7.467632942643215,
         0
        ],
        [
         "2024-03-01T01:44:32.703+0000",
         4.509223767994259,
         8.793585965307894,
         4.284362197313635,
         11.12194268428502,
         0,
         7.467632942643215,
         0
        ],
        [
         "2024-03-01T01:48:53.996+0000",
         3.492527671285021,
         4.509223767994259,
         1.016696096709238,
         11.12194268428502,
         0,
         7.467632942643215,
         0
        ],
        [
         "2024-03-01T01:54:15.680+0000",
         3.2209711407489534,
         3.492527671285021,
         0.27155653053606743,
         11.12194268428502,
         0,
         7.467632942643215,
         0
        ],
        [
         "2024-03-01T02:00:47.962+0000",
         3.3683794300691234,
         3.2209711407489534,
         0.14740828932017003,
         11.12194268428502,
         0,
         7.467632942643215,
         0
        ],
        [
         "2024-03-01T02:05:45.812+0000",
         4.845796581171792,
         3.3683794300691234,
         1.4774171511026681,
         11.12194268428502,
         0,
         7.467632942643215,
         0
        ],
        [
         "2024-03-01T02:12:19.691+0000",
         5.682303949633288,
         4.845796581171792,
         0.8365073684614961,
         11.12194268428502,
         0,
         7.467632942643215,
         0
        ],
        [
         "2024-03-01T02:14:42.506+0000",
         5.553381598660038,
         5.682303949633288,
         0.12892235097324978,
         11.12194268428502,
         0,
         7.467632942643215,
         0
        ],
        [
         "2024-03-01T02:20:31.820+0000",
         6.654366498072047,
         5.553381598660038,
         1.1009848994120093,
         11.12194268428502,
         0,
         7.467632942643215,
         0
        ],
        [
         "2024-03-01T02:25:37.043+0000",
         5.026003783755814,
         6.654366498072047,
         1.628362714316233,
         11.12194268428502,
         0,
         7.467632942643215,
         0
        ],
        [
         "2024-03-01T02:30:19.103+0000",
         7.907068154314634,
         5.026003783755814,
         2.8810643705588195,
         11.12194268428502,
         0,
         7.467632942643215,
         0
        ],
        [
         "2024-03-01T02:35:24.608+0000",
         4.470686333524088,
         7.907068154314634,
         3.4363818207905457,
         11.12194268428502,
         0,
         7.467632942643215,
         0
        ],
        [
         "2024-03-01T02:38:25.354+0000",
         10.440338333179238,
         4.470686333524088,
         5.96965199965515,
         11.12194268428502,
         0,
         7.467632942643215,
         0
        ],
        [
         "2024-03-01T02:43:12.174+0000",
         6.251334695530012,
         10.440338333179238,
         4.1890036376492255,
         11.12194268428502,
         0,
         7.467632942643215,
         0
        ],
        [
         "2024-03-01T02:48:33.601+0000",
         3.285684887167435,
         6.251334695530012,
         2.9656498083625773,
         11.12194268428502,
         0,
         7.467632942643215,
         0
        ],
        [
         "2024-03-01T02:55:02.274+0000",
         2.8582150038777754,
         3.285684887167435,
         0.4274698832896595,
         11.12194268428502,
         0,
         7.467632942643215,
         0
        ],
        [
         "2024-03-01T02:59:31.178+0000",
         5.96494483048637,
         2.8582150038777754,
         3.106729826608595,
         11.12194268428502,
         0,
         7.467632942643215,
         0
        ],
        [
         "2024-03-01T03:03:42.669+0000",
         4.553074429348298,
         5.96494483048637,
         1.4118704011380725,
         11.12194268428502,
         0,
         7.467632942643215,
         0
        ],
        [
         "2024-03-01T03:08:12.563+0000",
         6.428000988184184,
         4.553074429348298,
         1.8749265588358863,
         11.12194268428502,
         0,
         7.467632942643215,
         0
        ],
        [
         "2024-03-01T03:14:07.487+0000",
         5.94647524914709,
         6.428000988184184,
         0.48152573903709417,
         11.12194268428502,
         0,
         7.467632942643215,
         0
        ],
        [
         "2024-03-01T03:19:27.212+0000",
         4.854342174686255,
         5.94647524914709,
         1.0921330744608353,
         11.12194268428502,
         0,
         7.467632942643215,
         0
        ],
        [
         "2024-03-01T03:23:55.427+0000",
         3.30641256386319,
         4.854342174686255,
         1.547929610823065,
         11.12194268428502,
         0,
         7.467632942643215,
         0
        ],
        [
         "2024-03-01T03:29:26.223+0000",
         1.9703055506282707,
         3.30641256386319,
         1.336107013234919,
         11.12194268428502,
         0,
         7.467632942643215,
         0
        ],
        [
         "2024-03-01T03:34:32.047+0000",
         4.106970095865957,
         1.9703055506282707,
         2.1366645452376867,
         11.12194268428502,
         0,
         7.467632942643215,
         0
        ],
        [
         "2024-03-01T03:40:30.166+0000",
         6.712797588646945,
         4.106970095865957,
         2.6058274927809872,
         11.12194268428502,
         0,
         7.467632942643215,
         0
        ],
        [
         "2024-03-01T03:44:48.043+0000",
         5.4281874882604075,
         6.712797588646945,
         1.2846101003865371,
         11.12194268428502,
         0,
         7.467632942643215,
         0
        ],
        [
         "2024-03-01T03:49:28.383+0000",
         2.508522442576024,
         5.4281874882604075,
         2.9196650456843836,
         11.12194268428502,
         0,
         7.467632942643215,
         0
        ],
        [
         "2024-03-01T03:54:04.857+0000",
         5.346361851702364,
         2.508522442576024,
         2.8378394091263397,
         11.12194268428502,
         0,
         7.467632942643215,
         0
        ],
        [
         "2024-03-01T03:57:37.046+0000",
         5.770634759457674,
         5.346361851702364,
         0.42427290775531024,
         11.12194268428502,
         0,
         7.467632942643215,
         0
        ],
        [
         "2024-03-01T04:02:54.813+0000",
         3.2322851275977342,
         5.770634759457674,
         2.5383496318599397,
         11.12194268428502,
         0,
         7.467632942643215,
         0
        ],
        [
         "2024-03-01T04:08:10.476+0000",
         5.307450211891056,
         3.2322851275977342,
         2.075165084293322,
         11.12194268428502,
         0,
         7.467632942643215,
         0
        ],
        [
         "2024-03-01T04:13:10.783+0000",
         5.116417436892,
         5.307450211891056,
         0.1910327749990559,
         11.12194268428502,
         0,
         7.467632942643215,
         0
        ],
        [
         "2024-03-01T04:17:56.708+0000",
         2.714059404338754,
         5.116417436892,
         2.4023580325532463,
         11.12194268428502,
         0,
         7.467632942643215,
         0
        ]
       ],
       "datasetInfos": [],
       "dbfsResultPath": null,
       "isJsonSchema": true,
       "metadata": {},
       "overflow": false,
       "plotOptions": {
        "customPlotOptions": {},
        "displayType": "table",
        "pivotAggregation": null,
        "pivotColumns": null,
        "xColumns": null,
        "yColumns": null
       },
       "removedWidgets": [],
       "schema": [
        {
         "metadata": "{}",
         "name": "DateTime",
         "type": "\"timestamp\""
        },
        {
         "metadata": "{}",
         "name": "avg(Order Processing Time (mins))",
         "type": "\"double\""
        },
        {
         "metadata": "{}",
         "name": "PrevDayAvg",
         "type": "\"double\""
        },
        {
         "metadata": "{}",
         "name": "MovingRange",
         "type": "\"double\""
        },
        {
         "metadata": "{}",
         "name": "UCL_I",
         "type": "\"double\""
        },
        {
         "metadata": "{}",
         "name": "LCL_I",
         "type": "\"integer\""
        },
        {
         "metadata": "{}",
         "name": "UCL_MR",
         "type": "\"double\""
        },
        {
         "metadata": "{}",
         "name": "LCL_MR",
         "type": "\"integer\""
        }
       ],
       "type": "table"
      }
     },
     "output_type": "display_data"
    },
    {
     "output_type": "display_data",
     "data": {
      "text/plain": [
       "Databricks visualization. Run in Databricks to view."
      ]
     },
     "metadata": {
      "application/vnd.databricks.v1.subcommand+json": {
       "baseErrorDetails": null,
       "bindings": {},
       "collapsed": false,
       "command": "%python\n__backend_agg_display_orig = display\n__backend_agg_dfs = []\ndef __backend_agg_display_new(df):\n    __backend_agg_df_modules = [\"pandas.core.frame\", \"databricks.koalas.frame\", \"pyspark.sql.dataframe\", \"pyspark.pandas.frame\", \"pyspark.sql.connect.dataframe\"]\n    if (type(df).__module__ in __backend_agg_df_modules and type(df).__name__ == 'DataFrame') or isinstance(df, list):\n        __backend_agg_dfs.append(df)\n\ndisplay = __backend_agg_display_new\n\ndef __backend_agg_user_code_fn():\n    import base64\n    exec(base64.standard_b64decode(\"ZGlzcGxheShvcmRlcl9wcm9jZXNzaW5nX3RpbWVfZGFpbHlfYXZnKQ==\").decode())\n\ntry:\n    # run user code\n    __backend_agg_user_code_fn()\n\n    #reset display function\n    display = __backend_agg_display_orig\n\n    if len(__backend_agg_dfs) > 0:\n        # create a temp view\n        if type(__backend_agg_dfs[0]).__module__ == \"databricks.koalas.frame\":\n            # koalas dataframe\n            __backend_agg_dfs[0].to_spark().createOrReplaceTempView(\"DatabricksView13d6554\")\n        elif type(__backend_agg_dfs[0]).__module__ == \"pandas.core.frame\" or isinstance(__backend_agg_dfs[0], list):\n            # pandas dataframe\n            spark.createDataFrame(__backend_agg_dfs[0]).createOrReplaceTempView(\"DatabricksView13d6554\")\n        else:\n            __backend_agg_dfs[0].createOrReplaceTempView(\"DatabricksView13d6554\")\n        #run backend agg\n        display(spark.sql(\"\"\"WITH q AS (select * from DatabricksView13d6554) SELECT `DateTime`,SUM(`avg(Order Processing Time (mins))`) `column_ce0a2ab546`,SUM(`UCL_I`) `column_ce0a2ab549`,SUM(`LCL_I`) `column_ce0a2ab552` FROM q GROUP BY `DateTime`\"\"\"))\n    else:\n        displayHTML(\"dataframe no longer exists. If you're using dataframe.display(), use display(dataframe) instead.\")\n\n\nfinally:\n    spark.sql(\"drop view if exists DatabricksView13d6554\")\n    display = __backend_agg_display_orig\n    del __backend_agg_display_new\n    del __backend_agg_display_orig\n    del __backend_agg_dfs\n    del __backend_agg_user_code_fn\n\n",
       "commandTitle": "I Chart",
       "commandType": "auto",
       "commandVersion": 0,
       "commentThread": [],
       "commentsVisible": false,
       "contentSha256Hex": null,
       "customPlotOptions": {
        "redashChart": [
         {
          "key": "type",
          "value": "CHART"
         },
         {
          "key": "options",
          "value": {
           "alignYAxesAtZero": true,
           "coefficient": 1,
           "columnConfigurationMap": {
            "x": {
             "column": "DateTime",
             "id": "column_ce0a2ab543"
            },
            "y": [
             {
              "column": "avg(Order Processing Time (mins))",
              "id": "column_ce0a2ab546",
              "transform": "SUM"
             },
             {
              "column": "UCL_I",
              "id": "column_ce0a2ab549",
              "transform": "SUM"
             },
             {
              "column": "LCL_I",
              "id": "column_ce0a2ab552",
              "transform": "SUM"
             }
            ]
           },
           "dateTimeFormat": "DD/MM/YYYY HH:mm",
           "direction": {
            "type": "counterclockwise"
           },
           "error_y": {
            "type": "data",
            "visible": true
           },
           "globalSeriesType": "line",
           "isAggregationOn": true,
           "legend": {
            "traceorder": "normal"
           },
           "missingValuesAsZero": true,
           "numberFormat": "0,0.[00000]",
           "percentFormat": "0[.]00%",
           "series": {
            "error_y": {
             "type": "data",
             "visible": true
            },
            "stacking": null
           },
           "seriesOptions": {
            "column_ce0a2ab546": {
             "type": "line",
             "yAxis": 0
            },
            "column_ce0a2ab549": {
             "type": "line",
             "yAxis": 0
            },
            "column_ce0a2ab552": {
             "type": "line",
             "yAxis": 0
            }
           },
           "showDataLabels": false,
           "sizemode": "diameter",
           "sortX": true,
           "sortY": true,
           "swappedAxes": false,
           "textFormat": "",
           "useAggregationsUi": true,
           "valuesOptions": {},
           "version": 2,
           "xAxis": {
            "labels": {
             "enabled": true
            },
            "type": "-"
           },
           "yAxis": [
            {
             "type": "-"
            },
            {
             "opposite": true,
             "type": "-"
            }
           ]
          }
         }
        ]
       },
       "datasetPreviewNameToCmdIdMap": {},
       "diffDeletes": [],
       "diffInserts": [],
       "displayType": "redashChart",
       "error": null,
       "errorDetails": null,
       "errorSummary": null,
       "errorTraceType": null,
       "finishTime": 0,
       "globalVars": {},
       "guid": "",
       "height": "auto",
       "hideCommandCode": false,
       "hideCommandResult": false,
       "iPythonMetadata": null,
       "inputWidgets": {},
       "isLockedInExamMode": false,
       "latestUser": "a user",
       "latestUserId": null,
       "listResultMetadata": null,
       "metadata": {
        "byteLimit": 2048000,
        "rowLimit": 10000
       },
       "nuid": "9c995752-7276-4f66-9a90-eee29e805f69",
       "origId": 0,
       "parentHierarchy": [],
       "pivotAggregation": null,
       "pivotColumns": null,
       "position": 3.0,
       "resultDbfsErrorMessage": null,
       "resultDbfsStatus": "INLINED_IN_TREE",
       "results": null,
       "showCommandTitle": false,
       "startTime": 0,
       "state": "finished",
       "streamStates": {},
       "subcommandOptions": {
        "queryPlan": {
         "groups": [
          {
           "column": "DateTime",
           "type": "column"
          }
         ],
         "selects": [
          {
           "column": "DateTime",
           "type": "column"
          },
          {
           "alias": "column_ce0a2ab546",
           "args": [
            {
             "column": "avg(Order Processing Time (mins))",
             "type": "column"
            }
           ],
           "function": "SUM",
           "type": "function"
          },
          {
           "alias": "column_ce0a2ab549",
           "args": [
            {
             "column": "UCL_I",
             "type": "column"
            }
           ],
           "function": "SUM",
           "type": "function"
          },
          {
           "alias": "column_ce0a2ab552",
           "args": [
            {
             "column": "LCL_I",
             "type": "column"
            }
           ],
           "function": "SUM",
           "type": "function"
          }
         ]
        }
       },
       "submitTime": 0,
       "subtype": "tableResultSubCmd.visualization",
       "tableResultIndex": 0,
       "useConsistentColors": false,
       "version": "CommandV1",
       "width": "auto",
       "workflows": [],
       "xColumns": null,
       "yColumns": null
      }
     },
     "output_type": "display_data"
    },
    {
     "output_type": "display_data",
     "data": {
      "text/plain": [
       "Databricks visualization. Run in Databricks to view."
      ]
     },
     "metadata": {
      "application/vnd.databricks.v1.subcommand+json": {
       "baseErrorDetails": null,
       "bindings": {},
       "collapsed": false,
       "command": "%python\n__backend_agg_display_orig = display\n__backend_agg_dfs = []\ndef __backend_agg_display_new(df):\n    __backend_agg_df_modules = [\"pandas.core.frame\", \"databricks.koalas.frame\", \"pyspark.sql.dataframe\", \"pyspark.pandas.frame\", \"pyspark.sql.connect.dataframe\"]\n    if (type(df).__module__ in __backend_agg_df_modules and type(df).__name__ == 'DataFrame') or isinstance(df, list):\n        __backend_agg_dfs.append(df)\n\ndisplay = __backend_agg_display_new\n\ndef __backend_agg_user_code_fn():\n    import base64\n    exec(base64.standard_b64decode(\"ZGlzcGxheShvcmRlcl9wcm9jZXNzaW5nX3RpbWVfZGFpbHlfYXZnKQ==\").decode())\n\ntry:\n    # run user code\n    __backend_agg_user_code_fn()\n\n    #reset display function\n    display = __backend_agg_display_orig\n\n    if len(__backend_agg_dfs) > 0:\n        # create a temp view\n        if type(__backend_agg_dfs[0]).__module__ == \"databricks.koalas.frame\":\n            # koalas dataframe\n            __backend_agg_dfs[0].to_spark().createOrReplaceTempView(\"DatabricksView059d490\")\n        elif type(__backend_agg_dfs[0]).__module__ == \"pandas.core.frame\" or isinstance(__backend_agg_dfs[0], list):\n            # pandas dataframe\n            spark.createDataFrame(__backend_agg_dfs[0]).createOrReplaceTempView(\"DatabricksView059d490\")\n        else:\n            __backend_agg_dfs[0].createOrReplaceTempView(\"DatabricksView059d490\")\n        #run backend agg\n        display(spark.sql(\"\"\"WITH q AS (select * from DatabricksView059d490) SELECT `DateTime`,SUM(`MovingRange`) `column_ce0a2ab557`,SUM(`UCL_MR`) `column_ce0a2ab560`,SUM(`LCL_MR`) `column_ce0a2ab563` FROM q GROUP BY `DateTime`\"\"\"))\n    else:\n        displayHTML(\"dataframe no longer exists. If you're using dataframe.display(), use display(dataframe) instead.\")\n\n\nfinally:\n    spark.sql(\"drop view if exists DatabricksView059d490\")\n    display = __backend_agg_display_orig\n    del __backend_agg_display_new\n    del __backend_agg_display_orig\n    del __backend_agg_dfs\n    del __backend_agg_user_code_fn\n\n",
       "commandTitle": "MR Chart",
       "commandType": "auto",
       "commandVersion": 0,
       "commentThread": [],
       "commentsVisible": false,
       "contentSha256Hex": null,
       "customPlotOptions": {
        "redashChart": [
         {
          "key": "type",
          "value": "CHART"
         },
         {
          "key": "options",
          "value": {
           "alignYAxesAtZero": true,
           "coefficient": 1,
           "columnConfigurationMap": {
            "x": {
             "column": "DateTime",
             "id": "column_ce0a2ab554"
            },
            "y": [
             {
              "column": "MovingRange",
              "id": "column_ce0a2ab557",
              "transform": "SUM"
             },
             {
              "column": "UCL_MR",
              "id": "column_ce0a2ab560",
              "transform": "SUM"
             },
             {
              "column": "LCL_MR",
              "id": "column_ce0a2ab563",
              "transform": "SUM"
             }
            ]
           },
           "dateTimeFormat": "DD/MM/YYYY HH:mm",
           "direction": {
            "type": "counterclockwise"
           },
           "error_y": {
            "type": "data",
            "visible": true
           },
           "globalSeriesType": "line",
           "isAggregationOn": true,
           "legend": {
            "traceorder": "normal"
           },
           "missingValuesAsZero": true,
           "numberFormat": "0,0.[00000]",
           "percentFormat": "0[.]00%",
           "series": {
            "error_y": {
             "type": "data",
             "visible": true
            },
            "stacking": null
           },
           "seriesOptions": {
            "column_ce0a2ab557": {
             "type": "line",
             "yAxis": 0
            },
            "column_ce0a2ab560": {
             "type": "line",
             "yAxis": 0
            },
            "column_ce0a2ab563": {
             "type": "line",
             "yAxis": 0
            }
           },
           "showDataLabels": false,
           "sizemode": "diameter",
           "sortX": true,
           "sortY": true,
           "swappedAxes": false,
           "textFormat": "",
           "useAggregationsUi": true,
           "valuesOptions": {},
           "version": 2,
           "xAxis": {
            "labels": {
             "enabled": true
            },
            "type": "-"
           },
           "yAxis": [
            {
             "type": "-"
            },
            {
             "opposite": true,
             "type": "-"
            }
           ]
          }
         }
        ]
       },
       "datasetPreviewNameToCmdIdMap": {},
       "diffDeletes": [],
       "diffInserts": [],
       "displayType": "redashChart",
       "error": null,
       "errorDetails": null,
       "errorSummary": null,
       "errorTraceType": null,
       "finishTime": 0,
       "globalVars": {},
       "guid": "",
       "height": "auto",
       "hideCommandCode": false,
       "hideCommandResult": false,
       "iPythonMetadata": null,
       "inputWidgets": {},
       "isLockedInExamMode": false,
       "latestUser": "a user",
       "latestUserId": null,
       "listResultMetadata": null,
       "metadata": {
        "byteLimit": 2048000,
        "rowLimit": 10000
       },
       "nuid": "41c64f69-f720-4516-b858-0bc1aaa9c70b",
       "origId": 0,
       "parentHierarchy": [],
       "pivotAggregation": null,
       "pivotColumns": null,
       "position": 4.0,
       "resultDbfsErrorMessage": null,
       "resultDbfsStatus": "INLINED_IN_TREE",
       "results": null,
       "showCommandTitle": false,
       "startTime": 0,
       "state": "finished",
       "streamStates": {},
       "subcommandOptions": {
        "queryPlan": {
         "groups": [
          {
           "column": "DateTime",
           "type": "column"
          }
         ],
         "selects": [
          {
           "column": "DateTime",
           "type": "column"
          },
          {
           "alias": "column_ce0a2ab557",
           "args": [
            {
             "column": "MovingRange",
             "type": "column"
            }
           ],
           "function": "SUM",
           "type": "function"
          },
          {
           "alias": "column_ce0a2ab560",
           "args": [
            {
             "column": "UCL_MR",
             "type": "column"
            }
           ],
           "function": "SUM",
           "type": "function"
          },
          {
           "alias": "column_ce0a2ab563",
           "args": [
            {
             "column": "LCL_MR",
             "type": "column"
            }
           ],
           "function": "SUM",
           "type": "function"
          }
         ]
        }
       },
       "submitTime": 0,
       "subtype": "tableResultSubCmd.visualization",
       "tableResultIndex": 0,
       "useConsistentColors": false,
       "version": "CommandV1",
       "width": "auto",
       "workflows": [],
       "xColumns": null,
       "yColumns": null
      }
     },
     "output_type": "display_data"
    }
   ],
   "source": [
    "display(order_processing_time_daily_avg)"
   ]
  }
 ],
 "metadata": {
  "application/vnd.databricks.v1+notebook": {
   "dashboards": [],
   "language": "python",
   "notebookMetadata": {
    "pythonIndentUnit": 4
   },
   "notebookName": "Hands On Demo",
   "widgets": {}
  }
 },
 "nbformat": 4,
 "nbformat_minor": 0
}
